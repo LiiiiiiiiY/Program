{
 "cells": [
  {
   "cell_type": "code",
   "execution_count": 3,
   "id": "b12e0901",
   "metadata": {},
   "outputs": [
    {
     "ename": "SyntaxError",
     "evalue": "invalid character '！' (U+FF01) (Temp/ipykernel_20344/1962663289.py, line 1)",
     "output_type": "error",
     "traceback": [
      "\u001b[1;36m  File \u001b[1;32m\"C:\\Users\\YYY\\AppData\\Local\\Temp/ipykernel_20344/1962663289.py\"\u001b[1;36m, line \u001b[1;32m1\u001b[0m\n\u001b[1;33m    ！pip install re\u001b[0m\n\u001b[1;37m    ^\u001b[0m\n\u001b[1;31mSyntaxError\u001b[0m\u001b[1;31m:\u001b[0m invalid character '！' (U+FF01)\n"
     ]
    }
   ],
   "source": [
    "！pip install re\n",
    "！pip install jieba\n",
    "！pip install tqdm\n",
    "！pip install docx"
   ]
  },
  {
   "cell_type": "code",
   "execution_count": null,
   "id": "7321a61b",
   "metadata": {},
   "outputs": [],
   "source": [
    "import numpy as np\n",
    "import jieba\n",
    "from tqdm import tqdm\n",
    "from docx import Document\n",
    "import re\n",
    "\n",
    "# 打开一个.docx文件\n",
    "doc = Document('《解锁情诗密码，厚植爱国情怀》.docx')\n",
    "\n",
    "# 读取并合并文档中所有段落的文本\n",
    "text = ' '.join([paragraph.text for paragraph in doc.paragraphs])\n",
    "# print(text)\n",
    "# 使用正则表达式根据中文标点符号切分文本\n",
    "# 这个正则表达式匹配了中文的句号、问号和感叹号\n",
    "pattern = r'。|？|！'\n",
    "\n",
    "# 使用re.split()进行切分，注意设置maxsplit参数以避免空字符串\n",
    "sentences = re.split(pattern, text)\n",
    "\n",
    "# 过滤掉空字符串（如果有的话）\n",
    "sentences = [sentence for sentence in sentences if sentence]\n",
    "\n",
    "# print(sentences)\n",
    "lines=sentences\n",
    "id2sent = dict(enumerate(lines))\n",
    "word2sentid = {}\n",
    "tf = {}\n",
    "\n",
    "for i in tqdm(iter(range(len(lines)-1))):\n",
    "    for w in set(jieba.cut(lines[i] + lines[i + 1],HMM=True)):\n",
    "        if w not in word2sentid:\n",
    "            word2sentid[w] = []\n",
    "        if w not in tf:\n",
    "            tf[w] = 0\n",
    "        word2sentid[w].append(i)\n",
    "        tf[w] += 1\n",
    "\n",
    "# 统计tf、idf的匹配\n",
    "total = sum(tf.values())*1.\n",
    "idf = {i:np.log(total)-np.log(j) for i,j in tf.items()}\n",
    "\n",
    "\n",
    "def answers(s):\n",
    "    ws = jieba.lcut(s, HMM=True)\n",
    "    result = {}\n",
    "    for w in ws:\n",
    "        if w in word2sentid:\n",
    "            for i in word2sentid[w]:\n",
    "                if i not in result:\n",
    "                    result[i] =0\n",
    "                result[i] += idf[w]\n",
    "\n",
    "    # 使用max函数和key参数找到最大值的索引\n",
    "    if result:\n",
    "        i = max(result, key=result.get)\n",
    "        return id2sent[i] + '\\n' + id2sent[i + 1]\n",
    "    else:\n",
    "        return \"没有找到相关的句子。\"\n",
    "s=input(\"请输入查询内容:\")\n",
    "print(answers(s))"
   ]
  }
 ],
 "metadata": {
  "kernelspec": {
   "display_name": "Python 3",
   "language": "python",
   "name": "python3"
  },
  "language_info": {
   "codemirror_mode": {
    "name": "ipython",
    "version": 3
   },
   "file_extension": ".py",
   "mimetype": "text/x-python",
   "name": "python",
   "nbconvert_exporter": "python",
   "pygments_lexer": "ipython3",
   "version": "3.9.7"
  }
 },
 "nbformat": 4,
 "nbformat_minor": 5
}
