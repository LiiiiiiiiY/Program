{
 "cells": [
  {
   "cell_type": "markdown",
   "id": "b9538379",
   "metadata": {},
   "source": [
    "# 导入数据集并划分训练集和测试集"
   ]
  },
  {
   "cell_type": "code",
   "execution_count": 21,
   "id": "84167020",
   "metadata": {},
   "outputs": [
    {
     "name": "stdout",
     "output_type": "stream",
     "text": [
      "训练特征集(404, 13)\n",
      "测试特征集(102, 13)\n",
      "训练集目标(404,)\n",
      "测试集目标(102,)\n"
     ]
    }
   ],
   "source": [
    "from sklearn.datasets import load_boston\n",
    "from sklearn.model_selection import train_test_split\n",
    "\n",
    "# 数据导入\n",
    "boston = load_boston()\n",
    "ly_X = boston.data\n",
    "ly_y = boston.target\n",
    "\n",
    "# 划分训练集和测试集\n",
    "X_train, X_test, y_train, y_test = train_test_split(ly_X, ly_y, test_size=0.2, random_state=100)\n",
    "\n",
    "# 输出数据形状信息\n",
    "print(f\"训练特征集{X_train.shape}\")\n",
    "print(f\"测试特征集{X_test.shape}\")\n",
    "print(f\"训练集目标{y_train.shape}\")\n",
    "print(f\"测试集目标{y_test.shape}\")"
   ]
  },
  {
   "cell_type": "markdown",
   "id": "0774c96f",
   "metadata": {},
   "source": [
    "# 构建模型和训练模型\n",
    "- 使用sklearn构建线性回归模型LinearRegression和随机梯度下降SGD回归模型并完成训练模型\n",
    "- 对训练效果和测试效果进行评估和对比"
   ]
  },
  {
   "cell_type": "code",
   "execution_count": 22,
   "id": "f68cf38e",
   "metadata": {},
   "outputs": [],
   "source": [
    "from sklearn.linear_model import LinearRegression, SGDRegressor\n",
    "from sklearn.preprocessing import MinMaxScaler\n",
    "\n",
    "# 标准化特征数据\n",
    "mms = MinMaxScaler()\n",
    "# 训练集和测试集标准化\n",
    "mms.fit(ly_X)\n",
    "# 转换数据\n",
    "X_train = mms.transform(X_train)\n",
    "X_test = mms.transform(X_test)\n"
   ]
  },
  {
   "cell_type": "code",
   "execution_count": 23,
   "id": "55cceb78",
   "metadata": {},
   "outputs": [
    {
     "name": "stdout",
     "output_type": "stream",
     "text": [
      "线性回归模型：\n",
      "训练集得分：0.7337332767917557\n",
      "测试集得分：0.7555033086871303\n"
     ]
    }
   ],
   "source": [
    "# 构建线性回归模型\n",
    "lr = LinearRegression()\n",
    "# 训练线性回归模型\n",
    "lr.fit(X_train, y_train)\n",
    "# 打印线性回归模型在训练集和测试集上的得分\n",
    "print(\"线性回归模型：\")\n",
    "print(f\"训练集得分：{lr.score(X_train, y_train)}\")\n",
    "print(f\"测试集得分：{lr.score(X_test, y_test)}\")"
   ]
  },
  {
   "cell_type": "code",
   "execution_count": 24,
   "id": "efe66223",
   "metadata": {},
   "outputs": [
    {
     "name": "stdout",
     "output_type": "stream",
     "text": [
      "随机梯度下降模型：\n",
      "训练集得分：0.7138719943855905\n",
      "测试集得分：0.7275046600083583\n"
     ]
    }
   ],
   "source": [
    "# 构建随机梯度下降模型\n",
    "sgd = SGDRegressor(max_iter=20000)\n",
    "# 训练随机梯度下降模型\n",
    "sgd.fit(X_train, y_train)\n",
    "# 打印随机梯度下降模型在训练集和测试集上的得分\n",
    "print(\"随机梯度下降模型：\")\n",
    "print(f\"训练集得分：{sgd.score(X_train, y_train)}\")\n",
    "print(f\"测试集得分：{sgd.score(X_test, y_test)}\")"
   ]
  },
  {
   "cell_type": "code",
   "execution_count": 25,
   "id": "3d4f7876",
   "metadata": {},
   "outputs": [],
   "source": [
    "from sklearn.preprocessing import PolynomialFeatures, MinMaxScaler\n",
    "from sklearn.linear_model import Lasso, Ridge\n",
    "from sklearn.metrics import r2_score\n",
    "\n",
    "# 构建多项式特征，并构建LASSO回归和Ridge回归模型\n",
    "poly = PolynomialFeatures(degree=2)\n",
    "X_train_poly = poly.fit_transform(X_train)\n",
    "X_test_poly = poly.transform(X_test)\n"
   ]
  },
  {
   "cell_type": "code",
   "execution_count": 26,
   "id": "b72950b5",
   "metadata": {},
   "outputs": [
    {
     "name": "stdout",
     "output_type": "stream",
     "text": [
      "LASSO回归模型：\n",
      "训练集得分：0.7280609148244986\n",
      "测试集得分：0.7451103205924074\n"
     ]
    }
   ],
   "source": [
    "# LASSO回归模型\n",
    "lasso = Lasso(alpha=0.1)\n",
    "lasso.fit(X_train_poly, y_train)\n",
    "\n",
    "# 打印LASSO回归模型在训练集和测试集上的得分\n",
    "print(\"LASSO回归模型：\")\n",
    "print(f\"训练集得分：{lasso.score(X_train_poly, y_train)}\")\n",
    "print(f\"测试集得分：{lasso.score(X_test_poly, y_test)}\")"
   ]
  },
  {
   "cell_type": "code",
   "execution_count": 27,
   "id": "9a451f01",
   "metadata": {},
   "outputs": [
    {
     "name": "stdout",
     "output_type": "stream",
     "text": [
      "Ridge回归模型：\n",
      "训练集得分：0.9042265406166784\n",
      "测试集得分：0.8831783933386088\n"
     ]
    }
   ],
   "source": [
    "# Ridge回归模型\n",
    "ridge = Ridge(alpha=0.1)\n",
    "ridge.fit(X_train_poly, y_train)\n",
    "\n",
    "# 打印Ridge回归模型在训练集和测试集上的得分\n",
    "print(\"Ridge回归模型：\")\n",
    "print(f\"训练集得分：{ridge.score(X_train_poly, y_train)}\")\n",
    "print(f\"测试集得分：{ridge.score(X_test_poly, y_test)}\")"
   ]
  }
 ],
 "metadata": {
  "kernelspec": {
   "display_name": "Python 3",
   "language": "python",
   "name": "python3"
  },
  "language_info": {
   "codemirror_mode": {
    "name": "ipython",
    "version": 3
   },
   "file_extension": ".py",
   "mimetype": "text/x-python",
   "name": "python",
   "nbconvert_exporter": "python",
   "pygments_lexer": "ipython3",
   "version": "3.9.7"
  }
 },
 "nbformat": 4,
 "nbformat_minor": 5
}
