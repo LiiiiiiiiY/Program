{
 "cells": [
  {
   "cell_type": "markdown",
   "metadata": {},
   "source": [
    "# Numpy 数据获取\n",
    "\n",
    "## 1 文本文件导入导出\n",
    "```python\n",
    "loadtxt\n",
    "savetxt\n",
    "```"
   ]
  },
  {
   "cell_type": "code",
   "execution_count": 1,
   "metadata": {},
   "outputs": [],
   "source": [
    "# 导入numpy 模块\n",
    "import numpy as np"
   ]
  },
  {
   "cell_type": "code",
   "execution_count": 2,
   "metadata": {},
   "outputs": [
    {
     "data": {
      "text/plain": [
       "array([[ 0,  1,  2,  3,  4,  5,  6,  7,  8,  9],\n",
       "       [10, 11, 12, 13, 14, 15, 16, 17, 18, 19],\n",
       "       [20, 21, 22, 23, 24, 25, 26, 27, 28, 29],\n",
       "       [30, 31, 32, 33, 34, 35, 36, 37, 38, 39],\n",
       "       [40, 41, 42, 43, 44, 45, 46, 47, 48, 49],\n",
       "       [50, 51, 52, 53, 54, 55, 56, 57, 58, 59],\n",
       "       [60, 61, 62, 63, 64, 65, 66, 67, 68, 69],\n",
       "       [70, 71, 72, 73, 74, 75, 76, 77, 78, 79],\n",
       "       [80, 81, 82, 83, 84, 85, 86, 87, 88, 89],\n",
       "       [90, 91, 92, 93, 94, 95, 96, 97, 98, 99]])"
      ]
     },
     "execution_count": 2,
     "metadata": {},
     "output_type": "execute_result"
    }
   ],
   "source": [
    "# 创建一点数据\n",
    "a = np.arange(100)\n",
    "a.reshape((10,10))"
   ]
  },
  {
   "cell_type": "code",
   "execution_count": 18,
   "metadata": {},
   "outputs": [
    {
     "data": {
      "text/plain": [
       "array([[ 1.,  2.,  3.,  4.],\n",
       "       [11., 12., 13., 14.],\n",
       "       [21., 22., 23., 24.],\n",
       "       [31., 32., 33., 34.],\n",
       "       [41., 42., 43., 44.],\n",
       "       [51., 52., 53., 54.],\n",
       "       [61., 62., 63., 64.],\n",
       "       [71., 72., 73., 74.],\n",
       "       [81., 82., 83., 84.],\n",
       "       [91., 92., 93., 94.]])"
      ]
     },
     "execution_count": 18,
     "metadata": {},
     "output_type": "execute_result"
    }
   ],
   "source": [
    "a[:,1:5].astype(float)"
   ]
  },
  {
   "cell_type": "code",
   "execution_count": 13,
   "metadata": {},
   "outputs": [],
   "source": [
    "a.resize((10,10))"
   ]
  },
  {
   "cell_type": "code",
   "execution_count": 4,
   "metadata": {},
   "outputs": [],
   "source": [
    "# 保存数据到文本文件中\n",
    "np.savetxt(\n",
    "    'a.txt',\n",
    "    a,\n",
    "    fmt='%02d',\n",
    "    delimiter=',',\n",
    "    header='a,b,c,d,e,f,g,h,i,j',\n",
    "    footer='a,b,c,d,e,f,g,h,i,j',\n",
    ")"
   ]
  },
  {
   "cell_type": "code",
   "execution_count": 5,
   "metadata": {},
   "outputs": [
    {
     "data": {
      "text/plain": [
       "array([[ 0,  1,  2,  3,  4,  5,  6,  7,  8,  9],\n",
       "       [10, 11, 12, 13, 14, 15, 16, 17, 18, 19],\n",
       "       [20, 21, 22, 23, 24, 25, 26, 27, 28, 29],\n",
       "       [30, 31, 32, 33, 34, 35, 36, 37, 38, 39],\n",
       "       [40, 41, 42, 43, 44, 45, 46, 47, 48, 49],\n",
       "       [50, 51, 52, 53, 54, 55, 56, 57, 58, 59],\n",
       "       [60, 61, 62, 63, 64, 65, 66, 67, 68, 69],\n",
       "       [70, 71, 72, 73, 74, 75, 76, 77, 78, 79],\n",
       "       [80, 81, 82, 83, 84, 85, 86, 87, 88, 89],\n",
       "       [90, 91, 92, 93, 94, 95, 96, 97, 98, 99]])"
      ]
     },
     "execution_count": 5,
     "metadata": {},
     "output_type": "execute_result"
    }
   ],
   "source": [
    "a"
   ]
  },
  {
   "cell_type": "markdown",
   "metadata": {},
   "source": [
    "- reshape() 改变形状，生成一个新的数组\n",
    "- resize() 直接在原数据上改变形状，不生成新的数组，没有返回值"
   ]
  },
  {
   "cell_type": "code",
   "execution_count": 10,
   "metadata": {},
   "outputs": [
    {
     "data": {
      "text/plain": [
       "array([[ 1,  3,  5,  7,  9],\n",
       "       [10, 12, 14, 16, 18],\n",
       "       [19, 21, 23, 25, 27],\n",
       "       [28, 30, 32, 34, 36],\n",
       "       [37, 39, 41, 43, 45],\n",
       "       [46, 48, 50, 52, 54],\n",
       "       [55, 57, 59, 61, 63],\n",
       "       [64, 66, 68, 70, 72],\n",
       "       [73, 75, 77, 79, 81]])"
      ]
     },
     "execution_count": 10,
     "metadata": {},
     "output_type": "execute_result"
    }
   ],
   "source": [
    "np.loadtxt(\n",
    "    'a.csv',  # 文件名\n",
    "    delimiter=';', # 列分隔符\n",
    "    dtype='int32', # 数据类型\n",
    "    skiprows=1,    # 跳过前1行(列头行)\n",
    "    comments=\"//\", # 注释行格式,//开头的为注释行\n",
    "    max_rows=10,\n",
    "    usecols=range(0,9,2),\n",
    ")"
   ]
  },
  {
   "cell_type": "markdown",
   "metadata": {},
   "source": [
    "### 练习： 导入iris.csv文件，并计算每一列值得平均数"
   ]
  },
  {
   "cell_type": "code",
   "execution_count": 35,
   "metadata": {},
   "outputs": [
    {
     "data": {
      "text/plain": [
       "array([7.21296296, 4.48518519, 5.15617284, 2.71049383, 2.53703704])"
      ]
     },
     "execution_count": 35,
     "metadata": {},
     "output_type": "execute_result"
    }
   ],
   "source": [
    "# 读取数据文件\n",
    "data = np.loadtxt(\n",
    "    'iris.csv',  # 文件名\n",
    "    delimiter=',', # 列分隔符\n",
    "    dtype='U', # 数据类型\n",
    "    skiprows=1,    # 跳过前1行(列头行)\n",
    "    comments=\"//\", # 注释行格式,//开头的为注释行\n",
    ")\n",
    "\n",
    "# 将空字符串转换成数值字符\n",
    "for i in range(data.shape[0]): # shape[0] 行数\n",
    "    for j in range(data.shape[1]): # shape[1] 列数\n",
    "        if data[i,j]==\"\":\n",
    "            data[i,j]=\"0\"\n",
    "\n",
    "# 转换数据类型\n",
    "data = data.astype(\"float\")\n",
    "\n",
    "# 统计\n",
    "np.mean(data,axis=0) # axis=0 按列统计"
   ]
  },
  {
   "cell_type": "code",
   "execution_count": 18,
   "metadata": {},
   "outputs": [
    {
     "data": {
      "text/plain": [
       "'0'"
      ]
     },
     "execution_count": 18,
     "metadata": {},
     "output_type": "execute_result"
    }
   ],
   "source": [
    "def convert_empty_to_zero(x):\n",
    "    if x==\"\":\n",
    "        return \"0\"\n",
    "    \n",
    "convert_empty_to_zero(\"\")"
   ]
  },
  {
   "cell_type": "code",
   "execution_count": 36,
   "metadata": {},
   "outputs": [],
   "source": [
    "data = np.loadtxt(\n",
    "    'iris.csv',  # 文件名\n",
    "    delimiter=',', # 列分隔符\n",
    "    dtype='U', # 数据类型\n",
    "    skiprows=1,    # 跳过前1行(列头行)\n",
    "    comments=\"//\", # 注释行格式,//开头的为注释行\n",
    ")"
   ]
  },
  {
   "cell_type": "code",
   "execution_count": null,
   "metadata": {},
   "outputs": [],
   "source": []
  }
 ],
 "metadata": {
  "kernelspec": {
   "display_name": "Python 3",
   "language": "python",
   "name": "python3"
  },
  "language_info": {
   "codemirror_mode": {
    "name": "ipython",
    "version": 3
   },
   "file_extension": ".py",
   "mimetype": "text/x-python",
   "name": "python",
   "nbconvert_exporter": "python",
   "pygments_lexer": "ipython3",
   "version": "3.7.3"
  }
 },
 "nbformat": 4,
 "nbformat_minor": 5
}
