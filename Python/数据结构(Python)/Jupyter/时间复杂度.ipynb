{
 "cells": [
  {
   "cell_type": "code",
   "execution_count": 1,
   "id": "59d9c6eb",
   "metadata": {},
   "outputs": [
    {
     "name": "stdout",
     "output_type": "stream",
     "text": [
      "a:0,b:500,c:500\n",
      "a:200,b:375,c:425\n",
      "a:375,b:200,c:425\n",
      "a:500,b:0,c:500\n",
      "times:0.6519956588745117\n",
      "finished\n"
     ]
    }
   ],
   "source": [
    "import time\n",
    "\n",
    "start_time = time.time()\n",
    "for a in range(1001):\n",
    "    for b in range(1001):\n",
    "        # for c in range(1001):\n",
    "        #    if (a+b+c ==1000) and (a**2 + b**2 == c**2):\n",
    "        #        print(f\"a:{a},b:{b},c:{c}\")\n",
    "        c = 1000 - a - b\n",
    "        if a**2 + b**2 == c**2:\n",
    "            print(f\"a:{a},b:{b},c:{c}\")\n",
    "end_time = time.time()\n",
    "\n",
    "print(f\"times:{end_time - start_time}\")\n",
    "print(\"finished\")"
   ]
  },
  {
   "cell_type": "code",
   "execution_count": null,
   "id": "cbb684fb",
   "metadata": {},
   "outputs": [],
   "source": []
  }
 ],
 "metadata": {
  "kernelspec": {
   "display_name": "Python 3",
   "language": "python",
   "name": "python3"
  },
  "language_info": {
   "codemirror_mode": {
    "name": "ipython",
    "version": 3
   },
   "file_extension": ".py",
   "mimetype": "text/x-python",
   "name": "python",
   "nbconvert_exporter": "python",
   "pygments_lexer": "ipython3",
   "version": "3.9.7"
  }
 },
 "nbformat": 4,
 "nbformat_minor": 5
}
