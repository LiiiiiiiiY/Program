{
 "cells": [
  {
   "cell_type": "code",
   "execution_count": 25,
   "id": "84167020",
   "metadata": {},
   "outputs": [
    {
     "name": "stdout",
     "output_type": "stream",
     "text": [
      "训练特征集(404, 13)\n",
      "测试特征集(102, 13)\n",
      "训练集目标(404,)\n",
      "测试集目标(102,)\n"
     ]
    }
   ],
   "source": [
    "from sklearn.datasets import load_boston\n",
    "from sklearn.model_selection import train_test_split\n",
    "\n",
    "boston = load_boston()\n",
    "ly_X = boston.data\n",
    "ly_y = boston.target\n",
    "\n",
    "X_train, X_test, y_train, y_test = \\\n",
    "train_test_split(ly_X, ly_y, test_size=0.2, random_state=100)\n",
    "\n",
    "print(f\"训练特征集{X_train.shape}\")\n",
    "print(f\"测试特征集{X_test.shape}\")\n",
    "print(f\"训练集目标{y_train.shape}\")\n",
    "print(f\"测试集目标{y_test.shape}\")"
   ]
  },
  {
   "cell_type": "markdown",
   "id": "0774c96f",
   "metadata": {},
   "source": [
    "2. 使用sklearn构建线性回归模型LinearRegression和随机梯度下降SGD回归模型并完成训练模型，对训练效果和测试效果进行评估和对比"
   ]
  },
  {
   "cell_type": "code",
   "execution_count": 35,
   "id": "f68cf38e",
   "metadata": {},
   "outputs": [
    {
     "name": "stdout",
     "output_type": "stream",
     "text": [
      "训练集得分：0.7337332767917557\n",
      "测试集得分：0.7555033086871303\n",
      "训练集得分：0.7155344235504397\n",
      "测试集得分：0.7304485105884102\n"
     ]
    }
   ],
   "source": [
    "from sklearn.linear_model import LinearRegression, SGDRegressor\n",
    "from sklearn.preprocessing import MinMaxScaler\n",
    "\n",
    "# mms = MinMaxScaler()\n",
    "# mms.fit(ly_X)\n",
    "# X_train = mms.transform(X_train)\n",
    "# X_test = mms.transform(X_test)\n",
    "\n",
    "lr = LinearRegression()\n",
    "lr.fit(X_train, y_train)\n",
    "print(f\"训练集得分：{lr.score(X_train, y_train)}\")\n",
    "print(f\"测试集得分：{lr.score(X_test, y_test)}\")\n",
    "\n",
    "sgd = SGDRegressor(max_iter=20000)\n",
    "sgd.fit(X_train, y_train)\n",
    "print(f\"训练集得分：{sgd.score(X_train, y_train)}\")\n",
    "print(f\"测试集得分：{sgd.score(X_test, y_test)}\")"
   ]
  },
  {
   "cell_type": "code",
   "execution_count": null,
   "id": "3d4f7876",
   "metadata": {},
   "outputs": [],
   "source": []
  }
 ],
 "metadata": {
  "kernelspec": {
   "display_name": "Python 3",
   "language": "python",
   "name": "python3"
  },
  "language_info": {
   "codemirror_mode": {
    "name": "ipython",
    "version": 3
   },
   "file_extension": ".py",
   "mimetype": "text/x-python",
   "name": "python",
   "nbconvert_exporter": "python",
   "pygments_lexer": "ipython3",
   "version": "3.9.7"
  }
 },
 "nbformat": 4,
 "nbformat_minor": 5
}
