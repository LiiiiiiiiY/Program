{
 "cells": [
  {
   "cell_type": "markdown",
   "metadata": {},
   "source": [
    "### 1 pandas数据结构之Series\n",
    "### 1.1 创建Series"
   ]
  },
  {
   "cell_type": "code",
   "execution_count": 1,
   "metadata": {},
   "outputs": [],
   "source": [
    "# 导入pandas和numpy\n",
    "#!pip install  numpy\n",
    "#!pip install  pandas\n",
    "import pandas as pd\n",
    "import numpy as np"
   ]
  },
  {
   "cell_type": "markdown",
   "metadata": {},
   "source": [
    "### 1.1.1 从ndarray创建Series"
   ]
  },
  {
   "cell_type": "code",
   "execution_count": 2,
   "metadata": {},
   "outputs": [
    {
     "name": "stdout",
     "output_type": "stream",
     "text": [
      "s.index:  RangeIndex(start=0, stop=5, step=1)\n",
      "s.values:  [0 4 0 4 3]\n"
     ]
    },
    {
     "data": {
      "text/plain": [
       "0    0\n",
       "1    4\n",
       "2    0\n",
       "3    4\n",
       "4    3\n",
       "dtype: int32"
      ]
     },
     "execution_count": 2,
     "metadata": {},
     "output_type": "execute_result"
    }
   ],
   "source": [
    "s = pd.Series(np.random.randint(0,5,5)) # Series对象\n",
    "print(\"s.index: \",s.index)\n",
    "print(\"s.values: \",s.values)\n",
    "s"
   ]
  },
  {
   "cell_type": "code",
   "execution_count": 5,
   "metadata": {},
   "outputs": [
    {
     "data": {
      "text/plain": [
       "a    0.075487\n",
       "b   -0.878752\n",
       "c    1.046483\n",
       "d    0.237349\n",
       "e    1.399335\n",
       "a   -2.681193\n",
       "dtype: float64"
      ]
     },
     "execution_count": 5,
     "metadata": {},
     "output_type": "execute_result"
    }
   ],
   "source": [
    "s = pd.Series(np.random.randn(6), index=['a', 'b', 'c', 'd', 'e', 'a'])\n",
    "s"
   ]
  },
  {
   "cell_type": "code",
   "execution_count": 6,
   "metadata": {},
   "outputs": [
    {
     "data": {
      "text/plain": [
       "Index(['a', 'b', 'c', 'd', 'e', 'a'], dtype='object')"
      ]
     },
     "execution_count": 6,
     "metadata": {},
     "output_type": "execute_result"
    }
   ],
   "source": [
    "s.index"
   ]
  },
  {
   "cell_type": "code",
   "execution_count": 4,
   "metadata": {},
   "outputs": [
    {
     "data": {
      "text/plain": [
       "0    1.441901\n",
       "1    0.687205\n",
       "2    1.701562\n",
       "3    0.811923\n",
       "4    0.417101\n",
       "dtype: float64"
      ]
     },
     "execution_count": 4,
     "metadata": {},
     "output_type": "execute_result"
    }
   ],
   "source": [
    "# 不传入索引\n",
    "t = pd.Series(np.random.randn(5))\n",
    "t"
   ]
  },
  {
   "cell_type": "code",
   "execution_count": 5,
   "metadata": {},
   "outputs": [
    {
     "data": {
      "text/plain": [
       "RangeIndex(start=0, stop=5, step=1)"
      ]
     },
     "execution_count": 5,
     "metadata": {},
     "output_type": "execute_result"
    }
   ],
   "source": [
    "t.index"
   ]
  },
  {
   "cell_type": "code",
   "execution_count": null,
   "metadata": {},
   "outputs": [],
   "source": []
  },
  {
   "cell_type": "markdown",
   "metadata": {},
   "source": [
    "### 1.1.2 从字典或列表创建Series"
   ]
  },
  {
   "cell_type": "code",
   "execution_count": 23,
   "metadata": {},
   "outputs": [],
   "source": [
    "d = {'a' : 1, 'c' : 3, 'e' :5}"
   ]
  },
  {
   "cell_type": "code",
   "execution_count": 15,
   "metadata": {},
   "outputs": [
    {
     "data": {
      "text/plain": [
       "3"
      ]
     },
     "execution_count": 15,
     "metadata": {},
     "output_type": "execute_result"
    }
   ],
   "source": [
    "d[\"c\"]  # 字典通过key来获取value"
   ]
  },
  {
   "cell_type": "code",
   "execution_count": 49,
   "metadata": {},
   "outputs": [
    {
     "data": {
      "text/plain": [
       "True"
      ]
     },
     "execution_count": 49,
     "metadata": {},
     "output_type": "execute_result"
    }
   ],
   "source": [
    "'e' in d"
   ]
  },
  {
   "cell_type": "code",
   "execution_count": 16,
   "metadata": {},
   "outputs": [
    {
     "data": {
      "text/plain": [
       "3"
      ]
     },
     "execution_count": 16,
     "metadata": {},
     "output_type": "execute_result"
    }
   ],
   "source": [
    "d.get(\"c\")"
   ]
  },
  {
   "cell_type": "code",
   "execution_count": 24,
   "metadata": {},
   "outputs": [
    {
     "data": {
      "text/plain": [
       "a    1\n",
       "c    3\n",
       "e    5\n",
       "dtype: int64"
      ]
     },
     "execution_count": 24,
     "metadata": {},
     "output_type": "execute_result"
    }
   ],
   "source": [
    "# 不传入索引\n",
    "s = pd.Series(d)\n",
    "s"
   ]
  },
  {
   "cell_type": "code",
   "execution_count": 18,
   "metadata": {},
   "outputs": [
    {
     "data": {
      "text/plain": [
       "3"
      ]
     },
     "execution_count": 18,
     "metadata": {},
     "output_type": "execute_result"
    }
   ],
   "source": [
    "s[\"c\"]"
   ]
  },
  {
   "cell_type": "code",
   "execution_count": 19,
   "metadata": {},
   "outputs": [
    {
     "data": {
      "text/plain": [
       "3"
      ]
     },
     "execution_count": 19,
     "metadata": {},
     "output_type": "execute_result"
    }
   ],
   "source": [
    "s.get(\"c\")"
   ]
  },
  {
   "cell_type": "code",
   "execution_count": 25,
   "metadata": {},
   "outputs": [
    {
     "data": {
      "text/plain": [
       "a    1.0\n",
       "b    NaN\n",
       "c    3.0\n",
       "d    NaN\n",
       "e    5.0\n",
       "dtype: float64"
      ]
     },
     "execution_count": 25,
     "metadata": {},
     "output_type": "execute_result"
    }
   ],
   "source": [
    "# 传入索引，以索引为准\n",
    "d = {'a' : 1, 'c' : 3, 'e' :5}  # length=3\n",
    "index=['a','b','c','d','e'] # length=5\n",
    "s = pd.Series(d,index=index)\n",
    "s"
   ]
  },
  {
   "cell_type": "code",
   "execution_count": 26,
   "metadata": {},
   "outputs": [
    {
     "data": {
      "text/plain": [
       "a    1.0\n",
       "b    NaN\n",
       "c    3.0\n",
       "d    NaN\n",
       "e    5.0\n",
       "dtype: float64"
      ]
     },
     "execution_count": 26,
     "metadata": {},
     "output_type": "execute_result"
    }
   ],
   "source": [
    "# 传入索引，以索引为准\n",
    "d = {'a' : 1, 'c' : 3, 'e' :5, 'f':8}  # 存在索引之外的键值对 f\n",
    "index=['a','b','c','d','e'] \n",
    "s = pd.Series(d,index=index)\n",
    "s"
   ]
  },
  {
   "cell_type": "code",
   "execution_count": 29,
   "metadata": {},
   "outputs": [
    {
     "data": {
      "text/plain": [
       "a    1\n",
       "b    2\n",
       "c    3\n",
       "d    4\n",
       "dtype: int64"
      ]
     },
     "execution_count": 29,
     "metadata": {},
     "output_type": "execute_result"
    }
   ],
   "source": [
    "# 列表\n",
    "s = pd.Series([x for x in range(1,5)],index=list('abcd'))\n",
    "s"
   ]
  },
  {
   "cell_type": "code",
   "execution_count": 13,
   "metadata": {},
   "outputs": [
    {
     "data": {
      "text/plain": [
       "['a', 'b', 'c', 'd', 'e', 'f']"
      ]
     },
     "execution_count": 13,
     "metadata": {},
     "output_type": "execute_result"
    }
   ],
   "source": [
    "list('abcdef')"
   ]
  },
  {
   "cell_type": "code",
   "execution_count": 10,
   "metadata": {},
   "outputs": [
    {
     "data": {
      "text/plain": [
       "0    1\n",
       "1    2\n",
       "2    3\n",
       "3    4\n",
       "dtype: int64"
      ]
     },
     "execution_count": 10,
     "metadata": {},
     "output_type": "execute_result"
    }
   ],
   "source": [
    "t = pd.Series([x for x in range(1,5)])\n",
    "t"
   ]
  },
  {
   "cell_type": "markdown",
   "metadata": {},
   "source": [
    "### 1.1.3 从标量创建"
   ]
  },
  {
   "cell_type": "code",
   "execution_count": 11,
   "metadata": {},
   "outputs": [
    {
     "data": {
      "text/plain": [
       "0    999\n",
       "dtype: int64"
      ]
     },
     "execution_count": 11,
     "metadata": {},
     "output_type": "execute_result"
    }
   ],
   "source": [
    "pd.Series(999)"
   ]
  },
  {
   "cell_type": "code",
   "execution_count": 12,
   "metadata": {},
   "outputs": [
    {
     "data": {
      "text/plain": [
       "a    999\n",
       "b    999\n",
       "c    999\n",
       "d    999\n",
       "dtype: int64"
      ]
     },
     "execution_count": 12,
     "metadata": {},
     "output_type": "execute_result"
    }
   ],
   "source": [
    "pd.Series(999,['a','b','c','d'])"
   ]
  },
  {
   "cell_type": "markdown",
   "metadata": {},
   "source": [
    "### 1.2 对Series的操作\n",
    "### 1.2.1 Series和ndarray相似的操作"
   ]
  },
  {
   "cell_type": "code",
   "execution_count": 29,
   "metadata": {},
   "outputs": [
    {
     "data": {
      "text/plain": [
       "a    0.215517\n",
       "b   -0.520416\n",
       "c   -0.328189\n",
       "dtype: float64"
      ]
     },
     "execution_count": 29,
     "metadata": {},
     "output_type": "execute_result"
    }
   ],
   "source": [
    "s = pd.Series(np.random.randn(3), index=['a', 'b', 'c'])\n",
    "s"
   ]
  },
  {
   "cell_type": "code",
   "execution_count": 30,
   "metadata": {},
   "outputs": [
    {
     "data": {
      "text/plain": [
       "0.21551702320493185"
      ]
     },
     "execution_count": 30,
     "metadata": {},
     "output_type": "execute_result"
    }
   ],
   "source": [
    "s[0]  # 使用位置索引"
   ]
  },
  {
   "cell_type": "code",
   "execution_count": 16,
   "metadata": {},
   "outputs": [
    {
     "data": {
      "text/plain": [
       "-0.4384551579481776"
      ]
     },
     "execution_count": 16,
     "metadata": {},
     "output_type": "execute_result"
    }
   ],
   "source": [
    "s['b'] # 使用索引值"
   ]
  },
  {
   "cell_type": "code",
   "execution_count": 33,
   "metadata": {},
   "outputs": [
    {
     "data": {
      "text/plain": [
       "1"
      ]
     },
     "execution_count": 33,
     "metadata": {},
     "output_type": "execute_result"
    }
   ],
   "source": [
    "t = pd.Series([1,2,3,4],[11,12,13,14])\n",
    "t[11]  # 如果index是数值，[]里是index值，而不是位置"
   ]
  },
  {
   "cell_type": "code",
   "execution_count": 37,
   "metadata": {},
   "outputs": [
    {
     "data": {
      "text/plain": [
       "1"
      ]
     },
     "execution_count": 37,
     "metadata": {},
     "output_type": "execute_result"
    }
   ],
   "source": [
    "t = pd.Series([1,2,3,4],['a', 'b', 'c', 'd'])\n",
    "t[0]"
   ]
  },
  {
   "cell_type": "code",
   "execution_count": 38,
   "metadata": {},
   "outputs": [
    {
     "data": {
      "text/plain": [
       "a      1\n",
       "b      2\n",
       "c    999\n",
       "d      4\n",
       "dtype: int64"
      ]
     },
     "execution_count": 38,
     "metadata": {},
     "output_type": "execute_result"
    }
   ],
   "source": [
    "s['c'] = 999\n",
    "s"
   ]
  },
  {
   "cell_type": "code",
   "execution_count": 46,
   "metadata": {},
   "outputs": [
    {
     "data": {
      "text/plain": [
       "a      1\n",
       "b      2\n",
       "c    999\n",
       "d      4\n",
       "e    123\n",
       "f    321\n",
       "dtype: object"
      ]
     },
     "execution_count": 46,
     "metadata": {},
     "output_type": "execute_result"
    }
   ],
   "source": [
    "s['e'] = 123  # 直接在原Series上添加一个新的元素\n",
    "s2 = s.append(pd.Series(\"321\",index=[\"f\"])) # 添加一个新的元素，得到一个新的数组\n",
    "s2"
   ]
  },
  {
   "cell_type": "code",
   "execution_count": 47,
   "metadata": {},
   "outputs": [
    {
     "data": {
      "text/plain": [
       "True"
      ]
     },
     "execution_count": 47,
     "metadata": {},
     "output_type": "execute_result"
    }
   ],
   "source": [
    "'a' in s  # 是否存在索引(key)"
   ]
  },
  {
   "cell_type": "code",
   "execution_count": 43,
   "metadata": {},
   "outputs": [
    {
     "data": {
      "text/plain": [
       "True"
      ]
     },
     "execution_count": 43,
     "metadata": {},
     "output_type": "execute_result"
    }
   ],
   "source": [
    "'a' in s.index"
   ]
  },
  {
   "cell_type": "code",
   "execution_count": 42,
   "metadata": {},
   "outputs": [
    {
     "data": {
      "text/plain": [
       "True"
      ]
     },
     "execution_count": 42,
     "metadata": {},
     "output_type": "execute_result"
    }
   ],
   "source": [
    "# 判断值是否存在\n",
    "999 in s.values"
   ]
  },
  {
   "cell_type": "code",
   "execution_count": 19,
   "metadata": {},
   "outputs": [
    {
     "data": {
      "text/plain": [
       "False"
      ]
     },
     "execution_count": 19,
     "metadata": {},
     "output_type": "execute_result"
    }
   ],
   "source": [
    "'f' in s"
   ]
  },
  {
   "cell_type": "code",
   "execution_count": 50,
   "metadata": {},
   "outputs": [],
   "source": [
    "#固定错误 将错误打印出来\n",
    "#s['f']\n",
    "#KeyError: 'f'"
   ]
  },
  {
   "cell_type": "code",
   "execution_count": 21,
   "metadata": {},
   "outputs": [
    {
     "data": {
      "text/plain": [
       "-0.4384551579481776"
      ]
     },
     "execution_count": 21,
     "metadata": {},
     "output_type": "execute_result"
    }
   ],
   "source": [
    "s.get('b')"
   ]
  },
  {
   "cell_type": "code",
   "execution_count": 51,
   "metadata": {},
   "outputs": [],
   "source": [
    "s.get('f')"
   ]
  },
  {
   "cell_type": "code",
   "execution_count": 52,
   "metadata": {},
   "outputs": [
    {
     "data": {
      "text/plain": [
       "'f不在索引列表中'"
      ]
     },
     "execution_count": 52,
     "metadata": {},
     "output_type": "execute_result"
    }
   ],
   "source": [
    "s.get('f','f不在索引列表中')"
   ]
  },
  {
   "cell_type": "code",
   "execution_count": 55,
   "metadata": {},
   "outputs": [
    {
     "data": {
      "text/plain": [
       "a    0.005738\n",
       "b    0.252318\n",
       "c   -1.209682\n",
       "dtype: float64"
      ]
     },
     "execution_count": 55,
     "metadata": {},
     "output_type": "execute_result"
    }
   ],
   "source": [
    "s = pd.Series(np.random.randn(3), index=['a', 'b', 'c'])\n",
    "s"
   ]
  },
  {
   "cell_type": "code",
   "execution_count": 59,
   "metadata": {},
   "outputs": [
    {
     "data": {
      "text/plain": [
       "a    0.005738\n",
       "b    0.252318\n",
       "dtype: float64"
      ]
     },
     "execution_count": 59,
     "metadata": {},
     "output_type": "execute_result"
    }
   ],
   "source": [
    "s[:2]  # [起点:终点] 不包含终点"
   ]
  },
  {
   "cell_type": "code",
   "execution_count": 58,
   "metadata": {},
   "outputs": [
    {
     "data": {
      "text/plain": [
       "a    0.005738\n",
       "b    0.252318\n",
       "c   -1.209682\n",
       "dtype: float64"
      ]
     },
     "execution_count": 58,
     "metadata": {},
     "output_type": "execute_result"
    }
   ],
   "source": [
    "s[:'c']  # 按值切片包含终点"
   ]
  },
  {
   "cell_type": "code",
   "execution_count": 62,
   "metadata": {},
   "outputs": [
    {
     "data": {
      "text/plain": [
       "a    0.005738\n",
       "c   -1.209682\n",
       "dtype: float64"
      ]
     },
     "execution_count": 62,
     "metadata": {},
     "output_type": "execute_result"
    }
   ],
   "source": [
    "s[ ['a','c'] ]"
   ]
  },
  {
   "cell_type": "code",
   "execution_count": 63,
   "metadata": {},
   "outputs": [
    {
     "data": {
      "text/plain": [
       "b    0.252318\n",
       "c   -1.209682\n",
       "dtype: float64"
      ]
     },
     "execution_count": 63,
     "metadata": {},
     "output_type": "execute_result"
    }
   ],
   "source": [
    "s[1:3]"
   ]
  },
  {
   "cell_type": "code",
   "execution_count": 64,
   "metadata": {},
   "outputs": [
    {
     "data": {
      "text/plain": [
       "a    0.005738\n",
       "c   -1.209682\n",
       "dtype: float64"
      ]
     },
     "execution_count": 64,
     "metadata": {},
     "output_type": "execute_result"
    }
   ],
   "source": [
    "# 数字索引在任何时候都有效\n",
    "s[['a','c']]\n",
    "s[[0,2]]"
   ]
  },
  {
   "cell_type": "code",
   "execution_count": 65,
   "metadata": {},
   "outputs": [
    {
     "data": {
      "text/plain": [
       "a    0.005738\n",
       "c   -1.209682\n",
       "dtype: float64"
      ]
     },
     "execution_count": 65,
     "metadata": {},
     "output_type": "execute_result"
    }
   ],
   "source": [
    "s[ [True,False,True] ]  # 布尔索引"
   ]
  },
  {
   "cell_type": "code",
   "execution_count": 67,
   "metadata": {},
   "outputs": [
    {
     "name": "stdout",
     "output_type": "stream",
     "text": [
      "0.0057381278750865865\n"
     ]
    },
    {
     "data": {
      "text/plain": [
       "a    False\n",
       "b     True\n",
       "c    False\n",
       "dtype: bool"
      ]
     },
     "execution_count": 67,
     "metadata": {},
     "output_type": "execute_result"
    }
   ],
   "source": [
    "print(s.median())\n",
    "s > s.median() # 返回一个Series"
   ]
  },
  {
   "cell_type": "code",
   "execution_count": 68,
   "metadata": {},
   "outputs": [
    {
     "data": {
      "text/plain": [
       "b    0.252318\n",
       "dtype: float64"
      ]
     },
     "execution_count": 68,
     "metadata": {},
     "output_type": "execute_result"
    }
   ],
   "source": [
    "s[s>s.median()]  # 条件索引"
   ]
  },
  {
   "cell_type": "markdown",
   "metadata": {},
   "source": [
    "### 1.2.2 向量化运算"
   ]
  },
  {
   "cell_type": "code",
   "execution_count": 52,
   "metadata": {},
   "outputs": [
    {
     "data": {
      "text/plain": [
       "0    1\n",
       "1    2\n",
       "2    3\n",
       "3    4\n",
       "dtype: int64"
      ]
     },
     "execution_count": 52,
     "metadata": {},
     "output_type": "execute_result"
    }
   ],
   "source": [
    "s = pd.Series([1,2,3,4])  # 值为一维向量\n",
    "s"
   ]
  },
  {
   "cell_type": "code",
   "execution_count": 53,
   "metadata": {},
   "outputs": [
    {
     "data": {
      "text/plain": [
       "0    2\n",
       "1    4\n",
       "2    6\n",
       "3    8\n",
       "dtype: int64"
      ]
     },
     "execution_count": 53,
     "metadata": {},
     "output_type": "execute_result"
    }
   ],
   "source": [
    "s + s"
   ]
  },
  {
   "cell_type": "code",
   "execution_count": 70,
   "metadata": {},
   "outputs": [
    {
     "data": {
      "text/plain": [
       "0   NaN\n",
       "1   NaN\n",
       "2   NaN\n",
       "3   NaN\n",
       "5   NaN\n",
       "6   NaN\n",
       "7   NaN\n",
       "8   NaN\n",
       "dtype: float64"
      ]
     },
     "execution_count": 70,
     "metadata": {},
     "output_type": "execute_result"
    }
   ],
   "source": [
    "s1 = pd.Series([1,2,3,4],index=[0,1,2,3])\n",
    "s2 = pd.Series([1,2,3,4],index=[5,6,7,8])\n",
    "s1+s2"
   ]
  },
  {
   "cell_type": "code",
   "execution_count": 71,
   "metadata": {},
   "outputs": [
    {
     "data": {
      "text/plain": [
       "a    0.017214\n",
       "b    0.756955\n",
       "c   -3.629047\n",
       "dtype: float64"
      ]
     },
     "execution_count": 71,
     "metadata": {},
     "output_type": "execute_result"
    }
   ],
   "source": [
    "s * 3"
   ]
  },
  {
   "cell_type": "code",
   "execution_count": 73,
   "metadata": {},
   "outputs": [
    {
     "data": {
      "text/plain": [
       "a    0.075750\n",
       "b    0.502313\n",
       "c    1.099856\n",
       "dtype: float64"
      ]
     },
     "execution_count": 73,
     "metadata": {},
     "output_type": "execute_result"
    }
   ],
   "source": [
    "np.sqrt(np.abs(s))"
   ]
  },
  {
   "cell_type": "code",
   "execution_count": 74,
   "metadata": {
    "scrolled": true
   },
   "outputs": [
    {
     "data": {
      "text/plain": [
       "a    0.000033\n",
       "b    0.063665\n",
       "c    1.463332\n",
       "dtype: float64"
      ]
     },
     "execution_count": 74,
     "metadata": {},
     "output_type": "execute_result"
    }
   ],
   "source": [
    "np.square(s)"
   ]
  },
  {
   "cell_type": "code",
   "execution_count": 57,
   "metadata": {},
   "outputs": [
    {
     "data": {
      "text/plain": [
       "0    False\n",
       "1    False\n",
       "2     True\n",
       "3     True\n",
       "dtype: bool"
      ]
     },
     "execution_count": 57,
     "metadata": {},
     "output_type": "execute_result"
    }
   ],
   "source": [
    "s > 2"
   ]
  },
  {
   "cell_type": "code",
   "execution_count": 36,
   "metadata": {},
   "outputs": [
    {
     "data": {
      "text/plain": [
       "2    3\n",
       "3    4\n",
       "dtype: int64"
      ]
     },
     "execution_count": 36,
     "metadata": {},
     "output_type": "execute_result"
    }
   ],
   "source": [
    "s[s>s.median()]"
   ]
  },
  {
   "cell_type": "markdown",
   "metadata": {},
   "source": [
    "### 1.2.3 类似字典的操作"
   ]
  },
  {
   "cell_type": "code",
   "execution_count": 58,
   "metadata": {},
   "outputs": [
    {
     "data": {
      "text/plain": [
       "a    1\n",
       "b    2\n",
       "c    3\n",
       "d    4\n",
       "e    5\n",
       "f    6\n",
       "g    7\n",
       "h    8\n",
       "i    9\n",
       "dtype: int64"
      ]
     },
     "execution_count": 58,
     "metadata": {},
     "output_type": "execute_result"
    }
   ],
   "source": [
    "s = pd.Series([x for x in range(1,10)],list('abcdefghi'))\n",
    "s"
   ]
  },
  {
   "cell_type": "code",
   "execution_count": 59,
   "metadata": {},
   "outputs": [
    {
     "data": {
      "text/plain": [
       "[1, 2, 3, 4, 5, 6, 7, 8, 9]"
      ]
     },
     "execution_count": 59,
     "metadata": {},
     "output_type": "execute_result"
    }
   ],
   "source": [
    "# 列表解析\n",
    "[x for x in range(1,10)]"
   ]
  },
  {
   "cell_type": "code",
   "execution_count": 60,
   "metadata": {},
   "outputs": [
    {
     "data": {
      "text/plain": [
       "['a', 'b', 'c', 'd', 'e', 'f', 'j', 'h', 'i']"
      ]
     },
     "execution_count": 60,
     "metadata": {},
     "output_type": "execute_result"
    }
   ],
   "source": [
    "# list函数把字符串变成列表\n",
    "list('abcdefjhi')"
   ]
  },
  {
   "cell_type": "code",
   "execution_count": 61,
   "metadata": {},
   "outputs": [
    {
     "data": {
      "text/plain": [
       "1"
      ]
     },
     "execution_count": 61,
     "metadata": {},
     "output_type": "execute_result"
    }
   ],
   "source": [
    "s['a']"
   ]
  },
  {
   "cell_type": "code",
   "execution_count": 62,
   "metadata": {},
   "outputs": [
    {
     "data": {
      "text/plain": [
       "a    999\n",
       "b      2\n",
       "c      3\n",
       "d      4\n",
       "e      5\n",
       "f      6\n",
       "g      7\n",
       "h      8\n",
       "i      9\n",
       "dtype: int64"
      ]
     },
     "execution_count": 62,
     "metadata": {},
     "output_type": "execute_result"
    }
   ],
   "source": [
    "s['a'] = 999\n",
    "s"
   ]
  },
  {
   "cell_type": "code",
   "execution_count": 63,
   "metadata": {},
   "outputs": [
    {
     "data": {
      "text/plain": [
       "True"
      ]
     },
     "execution_count": 63,
     "metadata": {},
     "output_type": "execute_result"
    }
   ],
   "source": [
    "'i' in s"
   ]
  },
  {
   "cell_type": "code",
   "execution_count": 64,
   "metadata": {},
   "outputs": [
    {
     "data": {
      "text/plain": [
       "False"
      ]
     },
     "execution_count": 64,
     "metadata": {},
     "output_type": "execute_result"
    }
   ],
   "source": [
    "'j' in s"
   ]
  },
  {
   "cell_type": "code",
   "execution_count": 44,
   "metadata": {
    "scrolled": true
   },
   "outputs": [
    {
     "ename": "KeyError",
     "evalue": "'j'",
     "output_type": "error",
     "traceback": [
      "\u001b[1;31m---------------------------------------------------------------------------\u001b[0m",
      "\u001b[1;31mTypeError\u001b[0m                                 Traceback (most recent call last)",
      "\u001b[1;32mD:\\soft\\anaconda\\lib\\site-packages\\pandas\\core\\indexes\\base.py\u001b[0m in \u001b[0;36mget_value\u001b[1;34m(self, series, key)\u001b[0m\n\u001b[0;32m   4410\u001b[0m             \u001b[1;32mtry\u001b[0m\u001b[1;33m:\u001b[0m\u001b[1;33m\u001b[0m\u001b[1;33m\u001b[0m\u001b[0m\n\u001b[1;32m-> 4411\u001b[1;33m                 \u001b[1;32mreturn\u001b[0m \u001b[0mlibindex\u001b[0m\u001b[1;33m.\u001b[0m\u001b[0mget_value_at\u001b[0m\u001b[1;33m(\u001b[0m\u001b[0ms\u001b[0m\u001b[1;33m,\u001b[0m \u001b[0mkey\u001b[0m\u001b[1;33m)\u001b[0m\u001b[1;33m\u001b[0m\u001b[1;33m\u001b[0m\u001b[0m\n\u001b[0m\u001b[0;32m   4412\u001b[0m             \u001b[1;32mexcept\u001b[0m \u001b[0mIndexError\u001b[0m\u001b[1;33m:\u001b[0m\u001b[1;33m\u001b[0m\u001b[1;33m\u001b[0m\u001b[0m\n",
      "\u001b[1;32mpandas\\_libs\\index.pyx\u001b[0m in \u001b[0;36mpandas._libs.index.get_value_at\u001b[1;34m()\u001b[0m\n",
      "\u001b[1;32mpandas\\_libs\\index.pyx\u001b[0m in \u001b[0;36mpandas._libs.index.get_value_at\u001b[1;34m()\u001b[0m\n",
      "\u001b[1;32mpandas\\_libs\\util.pxd\u001b[0m in \u001b[0;36mpandas._libs.util.get_value_at\u001b[1;34m()\u001b[0m\n",
      "\u001b[1;32mpandas\\_libs\\util.pxd\u001b[0m in \u001b[0;36mpandas._libs.util.validate_indexer\u001b[1;34m()\u001b[0m\n",
      "\u001b[1;31mTypeError\u001b[0m: 'str' object cannot be interpreted as an integer",
      "\nDuring handling of the above exception, another exception occurred:\n",
      "\u001b[1;31mKeyError\u001b[0m                                  Traceback (most recent call last)",
      "\u001b[1;32m<ipython-input-44-39434bd241f0>\u001b[0m in \u001b[0;36m<module>\u001b[1;34m\u001b[0m\n\u001b[0;32m      1\u001b[0m \u001b[1;31m#固定错误\u001b[0m\u001b[1;33m\u001b[0m\u001b[1;33m\u001b[0m\u001b[1;33m\u001b[0m\u001b[0m\n\u001b[1;32m----> 2\u001b[1;33m \u001b[0ms\u001b[0m\u001b[1;33m[\u001b[0m\u001b[1;34m'j'\u001b[0m\u001b[1;33m]\u001b[0m\u001b[1;33m\u001b[0m\u001b[1;33m\u001b[0m\u001b[0m\n\u001b[0m\u001b[0;32m      3\u001b[0m \u001b[0mKeyError\u001b[0m\u001b[1;33m:\u001b[0m \u001b[1;34m'j'\u001b[0m\u001b[1;33m\u001b[0m\u001b[1;33m\u001b[0m\u001b[0m\n",
      "\u001b[1;32mD:\\soft\\anaconda\\lib\\site-packages\\pandas\\core\\series.py\u001b[0m in \u001b[0;36m__getitem__\u001b[1;34m(self, key)\u001b[0m\n\u001b[0;32m    869\u001b[0m         \u001b[0mkey\u001b[0m \u001b[1;33m=\u001b[0m \u001b[0mcom\u001b[0m\u001b[1;33m.\u001b[0m\u001b[0mapply_if_callable\u001b[0m\u001b[1;33m(\u001b[0m\u001b[0mkey\u001b[0m\u001b[1;33m,\u001b[0m \u001b[0mself\u001b[0m\u001b[1;33m)\u001b[0m\u001b[1;33m\u001b[0m\u001b[1;33m\u001b[0m\u001b[0m\n\u001b[0;32m    870\u001b[0m         \u001b[1;32mtry\u001b[0m\u001b[1;33m:\u001b[0m\u001b[1;33m\u001b[0m\u001b[1;33m\u001b[0m\u001b[0m\n\u001b[1;32m--> 871\u001b[1;33m             \u001b[0mresult\u001b[0m \u001b[1;33m=\u001b[0m \u001b[0mself\u001b[0m\u001b[1;33m.\u001b[0m\u001b[0mindex\u001b[0m\u001b[1;33m.\u001b[0m\u001b[0mget_value\u001b[0m\u001b[1;33m(\u001b[0m\u001b[0mself\u001b[0m\u001b[1;33m,\u001b[0m \u001b[0mkey\u001b[0m\u001b[1;33m)\u001b[0m\u001b[1;33m\u001b[0m\u001b[1;33m\u001b[0m\u001b[0m\n\u001b[0m\u001b[0;32m    872\u001b[0m \u001b[1;33m\u001b[0m\u001b[0m\n\u001b[0;32m    873\u001b[0m             \u001b[1;32mif\u001b[0m \u001b[1;32mnot\u001b[0m \u001b[0mis_scalar\u001b[0m\u001b[1;33m(\u001b[0m\u001b[0mresult\u001b[0m\u001b[1;33m)\u001b[0m\u001b[1;33m:\u001b[0m\u001b[1;33m\u001b[0m\u001b[1;33m\u001b[0m\u001b[0m\n",
      "\u001b[1;32mD:\\soft\\anaconda\\lib\\site-packages\\pandas\\core\\indexes\\base.py\u001b[0m in \u001b[0;36mget_value\u001b[1;34m(self, series, key)\u001b[0m\n\u001b[0;32m   4417\u001b[0m                     \u001b[1;32mraise\u001b[0m \u001b[0mInvalidIndexError\u001b[0m\u001b[1;33m(\u001b[0m\u001b[0mkey\u001b[0m\u001b[1;33m)\u001b[0m\u001b[1;33m\u001b[0m\u001b[1;33m\u001b[0m\u001b[0m\n\u001b[0;32m   4418\u001b[0m                 \u001b[1;32melse\u001b[0m\u001b[1;33m:\u001b[0m\u001b[1;33m\u001b[0m\u001b[1;33m\u001b[0m\u001b[0m\n\u001b[1;32m-> 4419\u001b[1;33m                     \u001b[1;32mraise\u001b[0m \u001b[0me1\u001b[0m\u001b[1;33m\u001b[0m\u001b[1;33m\u001b[0m\u001b[0m\n\u001b[0m\u001b[0;32m   4420\u001b[0m             \u001b[1;32mexcept\u001b[0m \u001b[0mException\u001b[0m\u001b[1;33m:\u001b[0m\u001b[1;33m\u001b[0m\u001b[1;33m\u001b[0m\u001b[0m\n\u001b[0;32m   4421\u001b[0m                 \u001b[1;32mraise\u001b[0m \u001b[0me1\u001b[0m\u001b[1;33m\u001b[0m\u001b[1;33m\u001b[0m\u001b[0m\n",
      "\u001b[1;32mD:\\soft\\anaconda\\lib\\site-packages\\pandas\\core\\indexes\\base.py\u001b[0m in \u001b[0;36mget_value\u001b[1;34m(self, series, key)\u001b[0m\n\u001b[0;32m   4403\u001b[0m         \u001b[0mk\u001b[0m \u001b[1;33m=\u001b[0m \u001b[0mself\u001b[0m\u001b[1;33m.\u001b[0m\u001b[0m_convert_scalar_indexer\u001b[0m\u001b[1;33m(\u001b[0m\u001b[0mk\u001b[0m\u001b[1;33m,\u001b[0m \u001b[0mkind\u001b[0m\u001b[1;33m=\u001b[0m\u001b[1;34m\"getitem\"\u001b[0m\u001b[1;33m)\u001b[0m\u001b[1;33m\u001b[0m\u001b[1;33m\u001b[0m\u001b[0m\n\u001b[0;32m   4404\u001b[0m         \u001b[1;32mtry\u001b[0m\u001b[1;33m:\u001b[0m\u001b[1;33m\u001b[0m\u001b[1;33m\u001b[0m\u001b[0m\n\u001b[1;32m-> 4405\u001b[1;33m             \u001b[1;32mreturn\u001b[0m \u001b[0mself\u001b[0m\u001b[1;33m.\u001b[0m\u001b[0m_engine\u001b[0m\u001b[1;33m.\u001b[0m\u001b[0mget_value\u001b[0m\u001b[1;33m(\u001b[0m\u001b[0ms\u001b[0m\u001b[1;33m,\u001b[0m \u001b[0mk\u001b[0m\u001b[1;33m,\u001b[0m \u001b[0mtz\u001b[0m\u001b[1;33m=\u001b[0m\u001b[0mgetattr\u001b[0m\u001b[1;33m(\u001b[0m\u001b[0mseries\u001b[0m\u001b[1;33m.\u001b[0m\u001b[0mdtype\u001b[0m\u001b[1;33m,\u001b[0m \u001b[1;34m\"tz\"\u001b[0m\u001b[1;33m,\u001b[0m \u001b[1;32mNone\u001b[0m\u001b[1;33m)\u001b[0m\u001b[1;33m)\u001b[0m\u001b[1;33m\u001b[0m\u001b[1;33m\u001b[0m\u001b[0m\n\u001b[0m\u001b[0;32m   4406\u001b[0m         \u001b[1;32mexcept\u001b[0m \u001b[0mKeyError\u001b[0m \u001b[1;32mas\u001b[0m \u001b[0me1\u001b[0m\u001b[1;33m:\u001b[0m\u001b[1;33m\u001b[0m\u001b[1;33m\u001b[0m\u001b[0m\n\u001b[0;32m   4407\u001b[0m             \u001b[1;32mif\u001b[0m \u001b[0mlen\u001b[0m\u001b[1;33m(\u001b[0m\u001b[0mself\u001b[0m\u001b[1;33m)\u001b[0m \u001b[1;33m>\u001b[0m \u001b[1;36m0\u001b[0m \u001b[1;32mand\u001b[0m \u001b[1;33m(\u001b[0m\u001b[0mself\u001b[0m\u001b[1;33m.\u001b[0m\u001b[0mholds_integer\u001b[0m\u001b[1;33m(\u001b[0m\u001b[1;33m)\u001b[0m \u001b[1;32mor\u001b[0m \u001b[0mself\u001b[0m\u001b[1;33m.\u001b[0m\u001b[0mis_boolean\u001b[0m\u001b[1;33m(\u001b[0m\u001b[1;33m)\u001b[0m\u001b[1;33m)\u001b[0m\u001b[1;33m:\u001b[0m\u001b[1;33m\u001b[0m\u001b[1;33m\u001b[0m\u001b[0m\n",
      "\u001b[1;32mpandas\\_libs\\index.pyx\u001b[0m in \u001b[0;36mpandas._libs.index.IndexEngine.get_value\u001b[1;34m()\u001b[0m\n",
      "\u001b[1;32mpandas\\_libs\\index.pyx\u001b[0m in \u001b[0;36mpandas._libs.index.IndexEngine.get_value\u001b[1;34m()\u001b[0m\n",
      "\u001b[1;32mpandas\\_libs\\index.pyx\u001b[0m in \u001b[0;36mpandas._libs.index.IndexEngine.get_loc\u001b[1;34m()\u001b[0m\n",
      "\u001b[1;32mpandas\\_libs\\hashtable_class_helper.pxi\u001b[0m in \u001b[0;36mpandas._libs.hashtable.PyObjectHashTable.get_item\u001b[1;34m()\u001b[0m\n",
      "\u001b[1;32mpandas\\_libs\\hashtable_class_helper.pxi\u001b[0m in \u001b[0;36mpandas._libs.hashtable.PyObjectHashTable.get_item\u001b[1;34m()\u001b[0m\n",
      "\u001b[1;31mKeyError\u001b[0m: 'j'"
     ]
    }
   ],
   "source": [
    "#固定错误\n",
    "s['j']\n",
    "KeyError: 'j'"
   ]
  },
  {
   "cell_type": "code",
   "execution_count": 45,
   "metadata": {},
   "outputs": [],
   "source": [
    "s.get('j')"
   ]
  },
  {
   "cell_type": "code",
   "execution_count": 46,
   "metadata": {},
   "outputs": [
    {
     "data": {
      "text/plain": [
       "'索引中不存在j'"
      ]
     },
     "execution_count": 46,
     "metadata": {},
     "output_type": "execute_result"
    }
   ],
   "source": [
    "s.get('j','索引中不存在j')"
   ]
  },
  {
   "cell_type": "markdown",
   "metadata": {},
   "source": [
    "### 1.2.4 时间序列操作"
   ]
  },
  {
   "cell_type": "code",
   "execution_count": 77,
   "metadata": {},
   "outputs": [
    {
     "data": {
      "text/plain": [
       "DatetimeIndex(['2023-03-20 00:00:00', '2023-03-20 01:00:00',\n",
       "               '2023-03-20 02:00:00', '2023-03-20 03:00:00',\n",
       "               '2023-03-20 04:00:00', '2023-03-20 05:00:00',\n",
       "               '2023-03-20 06:00:00', '2023-03-20 07:00:00',\n",
       "               '2023-03-20 08:00:00', '2023-03-20 09:00:00',\n",
       "               ...\n",
       "               '2023-05-18 14:00:00', '2023-05-18 15:00:00',\n",
       "               '2023-05-18 16:00:00', '2023-05-18 17:00:00',\n",
       "               '2023-05-18 18:00:00', '2023-05-18 19:00:00',\n",
       "               '2023-05-18 20:00:00', '2023-05-18 21:00:00',\n",
       "               '2023-05-18 22:00:00', '2023-05-18 23:00:00'],\n",
       "              dtype='datetime64[ns]', length=1440, freq='H')"
      ]
     },
     "execution_count": 77,
     "metadata": {},
     "output_type": "execute_result"
    }
   ],
   "source": [
    "# 生成从2018年9月1日开始，10天的时间序列索引，频率为10分钟\n",
    "rng = pd.date_range('2023-03-20', periods=1440, freq='H') #periods=count or length\n",
    "rng"
   ]
  },
  {
   "cell_type": "code",
   "execution_count": 78,
   "metadata": {},
   "outputs": [
    {
     "data": {
      "text/plain": [
       "DatetimeIndex(['2023-03-20 00:00:00', '2023-03-20 01:00:00',\n",
       "               '2023-03-20 02:00:00', '2023-03-20 03:00:00',\n",
       "               '2023-03-20 04:00:00'],\n",
       "              dtype='datetime64[ns]', freq='H')"
      ]
     },
     "execution_count": 78,
     "metadata": {},
     "output_type": "execute_result"
    }
   ],
   "source": [
    "rng[:5]"
   ]
  },
  {
   "cell_type": "code",
   "execution_count": 80,
   "metadata": {},
   "outputs": [
    {
     "data": {
      "text/plain": [
       "2023-03-20 00:00:00    2.531951\n",
       "2023-03-20 01:00:00    1.176797\n",
       "2023-03-20 02:00:00    0.350173\n",
       "2023-03-20 03:00:00   -0.688682\n",
       "2023-03-20 04:00:00    0.061968\n",
       "Freq: H, dtype: float64"
      ]
     },
     "execution_count": 80,
     "metadata": {},
     "output_type": "execute_result"
    }
   ],
   "source": [
    "ts = pd.Series(np.random.randn(1440),index = rng)\n",
    "ts.head()"
   ]
  },
  {
   "cell_type": "code",
   "execution_count": 50,
   "metadata": {},
   "outputs": [
    {
     "data": {
      "text/plain": [
       "1440"
      ]
     },
     "execution_count": 50,
     "metadata": {},
     "output_type": "execute_result"
    }
   ],
   "source": [
    "ts.count()"
   ]
  },
  {
   "cell_type": "code",
   "execution_count": 81,
   "metadata": {},
   "outputs": [
    {
     "data": {
      "text/plain": [
       "2023-03-20 00:00:00    2.531951\n",
       "2023-03-20 01:00:00    1.176797\n",
       "2023-03-20 02:00:00    0.350173\n",
       "2023-03-20 03:00:00   -0.688682\n",
       "2023-03-20 04:00:00    0.061968\n",
       "Freq: H, dtype: float64"
      ]
     },
     "execution_count": 81,
     "metadata": {},
     "output_type": "execute_result"
    }
   ],
   "source": [
    "ts[:5]"
   ]
  },
  {
   "cell_type": "code",
   "execution_count": 82,
   "metadata": {},
   "outputs": [
    {
     "data": {
      "text/plain": [
       "2023-03-20 00:00:00    2.531951\n",
       "2023-03-20 02:00:00    0.350173\n",
       "2023-03-20 04:00:00    0.061968\n",
       "2023-03-20 06:00:00    1.248692\n",
       "2023-03-20 08:00:00   -1.661236\n",
       "Freq: 2H, dtype: float64"
      ]
     },
     "execution_count": 82,
     "metadata": {},
     "output_type": "execute_result"
    }
   ],
   "source": [
    "ts[:10:2]"
   ]
  },
  {
   "cell_type": "code",
   "execution_count": 85,
   "metadata": {},
   "outputs": [
    {
     "data": {
      "text/plain": [
       "2023-03-20    2.531951\n",
       "2023-03-21    1.561833\n",
       "2023-03-22    0.511060\n",
       "2023-03-23   -0.601644\n",
       "2023-03-24   -3.271553\n",
       "Freq: 24H, dtype: float64"
      ]
     },
     "execution_count": 85,
     "metadata": {},
     "output_type": "execute_result"
    }
   ],
   "source": [
    "# 改变时间频率\n",
    "converted = ts.asfreq('24H')\n",
    "converted.head()"
   ]
  },
  {
   "cell_type": "code",
   "execution_count": 72,
   "metadata": {},
   "outputs": [
    {
     "data": {
      "text/plain": [
       "DatetimeIndexResampler [freq=<Day>, axis=0, closed=left, label=left, convention=start, base=0]"
      ]
     },
     "execution_count": 72,
     "metadata": {},
     "output_type": "execute_result"
    }
   ],
   "source": [
    "ss = ts.resample('D')\n",
    "ss"
   ]
  },
  {
   "cell_type": "code",
   "execution_count": 86,
   "metadata": {},
   "outputs": [
    {
     "data": {
      "text/plain": [
       "2023-03-20    0.084188\n",
       "2023-03-21    0.056744\n",
       "2023-03-22    0.564209\n",
       "2023-03-23   -0.543093\n",
       "2023-03-24    0.251171\n",
       "2023-03-25    0.084437\n",
       "2023-03-26   -0.040482\n",
       "2023-03-27    0.355333\n",
       "2023-03-28   -0.319253\n",
       "2023-03-29   -0.324923\n",
       "2023-03-30   -0.053227\n",
       "2023-03-31    0.163008\n",
       "2023-04-01   -0.322619\n",
       "2023-04-02    0.170060\n",
       "2023-04-03    0.025056\n",
       "2023-04-04    0.004166\n",
       "2023-04-05    0.077139\n",
       "2023-04-06   -0.078510\n",
       "2023-04-07    0.123707\n",
       "2023-04-08    0.252068\n",
       "2023-04-09    0.015163\n",
       "2023-04-10   -0.022239\n",
       "2023-04-11   -0.349885\n",
       "2023-04-12   -0.143222\n",
       "2023-04-13   -0.149051\n",
       "2023-04-14    0.024444\n",
       "2023-04-15   -0.084165\n",
       "2023-04-16   -0.010910\n",
       "2023-04-17    0.380838\n",
       "2023-04-18   -0.437032\n",
       "2023-04-19    0.114898\n",
       "2023-04-20   -0.285413\n",
       "2023-04-21    0.112597\n",
       "2023-04-22   -0.481230\n",
       "2023-04-23   -0.244489\n",
       "2023-04-24   -0.033597\n",
       "2023-04-25   -0.117557\n",
       "2023-04-26    0.009165\n",
       "2023-04-27    0.064567\n",
       "2023-04-28   -0.206596\n",
       "2023-04-29   -0.180056\n",
       "2023-04-30   -0.329474\n",
       "2023-05-01   -0.139098\n",
       "2023-05-02   -0.098630\n",
       "2023-05-03   -0.274003\n",
       "2023-05-04    0.089157\n",
       "2023-05-05    0.262931\n",
       "2023-05-06    0.164739\n",
       "2023-05-07   -0.116698\n",
       "2023-05-08   -0.107850\n",
       "2023-05-09   -0.128975\n",
       "2023-05-10    0.147412\n",
       "2023-05-11    0.075880\n",
       "2023-05-12   -0.010047\n",
       "2023-05-13    0.180337\n",
       "2023-05-14   -0.287421\n",
       "2023-05-15    0.248141\n",
       "2023-05-16   -0.080697\n",
       "2023-05-17    0.114324\n",
       "2023-05-18    0.288206\n",
       "Freq: D, dtype: float64"
      ]
     },
     "execution_count": 86,
     "metadata": {},
     "output_type": "execute_result"
    }
   ],
   "source": [
    "# 按天粒度汇总\n",
    "resampled = ts.resample('D').mean()\n",
    "resampled"
   ]
  },
  {
   "cell_type": "code",
   "execution_count": 87,
   "metadata": {},
   "outputs": [
    {
     "data": {
      "text/plain": [
       "2023-03-20    0.084188\n",
       "2023-03-21    0.056744\n",
       "2023-03-22    0.564209\n",
       "2023-03-23   -0.543093\n",
       "2023-03-24    0.251171\n",
       "Freq: D, dtype: float64"
      ]
     },
     "execution_count": 87,
     "metadata": {},
     "output_type": "execute_result"
    }
   ],
   "source": [
    "# 对时间序列数据进行索引\n",
    "resampled[:5]"
   ]
  },
  {
   "cell_type": "code",
   "execution_count": 88,
   "metadata": {},
   "outputs": [
    {
     "data": {
      "text/plain": [
       "2023-03-20    0.084188\n",
       "2023-03-22    0.564209\n",
       "2023-03-24    0.251171\n",
       "2023-03-26   -0.040482\n",
       "2023-03-28   -0.319253\n",
       "2023-03-30   -0.053227\n",
       "2023-04-01   -0.322619\n",
       "2023-04-03    0.025056\n",
       "2023-04-05    0.077139\n",
       "2023-04-07    0.123707\n",
       "2023-04-09    0.015163\n",
       "2023-04-11   -0.349885\n",
       "2023-04-13   -0.149051\n",
       "2023-04-15   -0.084165\n",
       "2023-04-17    0.380838\n",
       "2023-04-19    0.114898\n",
       "2023-04-21    0.112597\n",
       "2023-04-23   -0.244489\n",
       "2023-04-25   -0.117557\n",
       "2023-04-27    0.064567\n",
       "2023-04-29   -0.180056\n",
       "2023-05-01   -0.139098\n",
       "2023-05-03   -0.274003\n",
       "2023-05-05    0.262931\n",
       "2023-05-07   -0.116698\n",
       "2023-05-09   -0.128975\n",
       "2023-05-11    0.075880\n",
       "2023-05-13    0.180337\n",
       "2023-05-15    0.248141\n",
       "2023-05-17    0.114324\n",
       "Freq: 2D, dtype: float64"
      ]
     },
     "execution_count": 88,
     "metadata": {},
     "output_type": "execute_result"
    }
   ],
   "source": [
    "resampled[::2]"
   ]
  },
  {
   "cell_type": "code",
   "execution_count": 90,
   "metadata": {},
   "outputs": [
    {
     "data": {
      "text/plain": [
       "2023-03-21 00:00:00    1.561833\n",
       "2023-03-21 01:00:00   -0.428663\n",
       "2023-03-21 02:00:00    0.327300\n",
       "2023-03-21 03:00:00    0.430497\n",
       "2023-03-21 04:00:00   -0.941447\n",
       "2023-03-21 05:00:00   -0.764732\n",
       "2023-03-21 06:00:00    1.237541\n",
       "2023-03-21 07:00:00   -0.141798\n",
       "2023-03-21 08:00:00   -1.406128\n",
       "2023-03-21 09:00:00    1.185498\n",
       "Freq: H, dtype: float64"
      ]
     },
     "execution_count": 90,
     "metadata": {},
     "output_type": "execute_result"
    }
   ],
   "source": [
    "# 时间字符串索引\n",
    "ts['2023-03-21'][:10]"
   ]
  },
  {
   "cell_type": "code",
   "execution_count": 91,
   "metadata": {},
   "outputs": [
    {
     "data": {
      "text/plain": [
       "2023-03-20 00:00:00    2.531951\n",
       "2023-03-22 12:00:00    0.742079\n",
       "2023-03-25 00:00:00   -3.457259\n",
       "2023-03-27 12:00:00   -1.602899\n",
       "2023-03-30 00:00:00   -0.109753\n",
       "2023-04-01 12:00:00   -0.128971\n",
       "2023-04-04 00:00:00   -0.330808\n",
       "2023-04-06 12:00:00   -0.712442\n",
       "2023-04-09 00:00:00    1.929578\n",
       "2023-04-11 12:00:00   -1.959302\n",
       "2023-04-14 00:00:00    0.641448\n",
       "2023-04-16 12:00:00   -0.282230\n",
       "2023-04-19 00:00:00    0.511924\n",
       "2023-04-21 12:00:00    0.113687\n",
       "2023-04-24 00:00:00    0.099162\n",
       "2023-04-26 12:00:00    1.314438\n",
       "2023-04-29 00:00:00   -1.794422\n",
       "2023-05-01 12:00:00   -0.811882\n",
       "2023-05-04 00:00:00    0.302338\n",
       "2023-05-06 12:00:00   -2.893111\n",
       "2023-05-09 00:00:00    0.346289\n",
       "2023-05-11 12:00:00   -1.816465\n",
       "2023-05-14 00:00:00   -1.731566\n",
       "2023-05-16 12:00:00    1.025570\n",
       "Freq: 60H, dtype: float64"
      ]
     },
     "execution_count": 91,
     "metadata": {},
     "output_type": "execute_result"
    }
   ],
   "source": [
    "# datetime类型的索引\n",
    "from datetime import datetime\n",
    "ts[datetime(2023,3,20):][::60]"
   ]
  },
  {
   "cell_type": "code",
   "execution_count": 92,
   "metadata": {},
   "outputs": [
    {
     "data": {
      "text/plain": [
       "0     apple\n",
       "1    banana\n",
       "2     apple\n",
       "3     apple\n",
       "4    banana\n",
       "dtype: object"
      ]
     },
     "execution_count": 92,
     "metadata": {},
     "output_type": "execute_result"
    }
   ],
   "source": [
    "s  = pd.Series(['apple','banana','apple','apple','banana'])\n",
    "s"
   ]
  },
  {
   "cell_type": "code",
   "execution_count": 93,
   "metadata": {},
   "outputs": [
    {
     "data": {
      "text/plain": [
       "apple     3\n",
       "banana    2\n",
       "dtype: int64"
      ]
     },
     "execution_count": 93,
     "metadata": {},
     "output_type": "execute_result"
    }
   ],
   "source": [
    "s.value_counts()"
   ]
  },
  {
   "cell_type": "code",
   "execution_count": 96,
   "metadata": {},
   "outputs": [
    {
     "data": {
      "text/plain": [
       "0    1\n",
       "1    1\n",
       "2    1\n",
       "3    0\n",
       "4    1\n",
       "5    0\n",
       "6    1\n",
       "7    0\n",
       "8    1\n",
       "9    1\n",
       "Name: 性别, dtype: int64"
      ]
     },
     "execution_count": 96,
     "metadata": {},
     "output_type": "execute_result"
    }
   ],
   "source": [
    "df = pd.read_csv(\"student.csv\")\n",
    "s = df[\"性别\"]\n",
    "map_dict = {\"男\":1,\"女\":0}  # 值映射字典\n",
    "s1 = s.map(map_dict)  # 生成一个新的series,不会修改原Series\n",
    "s1"
   ]
  },
  {
   "cell_type": "code",
   "execution_count": 98,
   "metadata": {},
   "outputs": [
    {
     "data": {
      "text/plain": [
       "0    我是男生\n",
       "1    我是男生\n",
       "2    我是男生\n",
       "3    我是女生\n",
       "4    我是男生\n",
       "5    我是女生\n",
       "6    我是男生\n",
       "7    我是女生\n",
       "8    我是男生\n",
       "9    我是男生\n",
       "Name: 性别, dtype: object"
      ]
     },
     "execution_count": 98,
     "metadata": {},
     "output_type": "execute_result"
    }
   ],
   "source": [
    "s.map(\"我是{}生\".format)  # 高阶函数，里面传入的是函数本身，不要加括号"
   ]
  },
  {
   "cell_type": "code",
   "execution_count": 99,
   "metadata": {},
   "outputs": [
    {
     "data": {
      "text/plain": [
       "0    我是男生\n",
       "1    我是男生\n",
       "2    我是男生\n",
       "3    我是女生\n",
       "4    我是男生\n",
       "5    我是女生\n",
       "6    我是男生\n",
       "7    我是女生\n",
       "8    我是男生\n",
       "9    我是男生\n",
       "Name: 性别, dtype: object"
      ]
     },
     "execution_count": 99,
     "metadata": {},
     "output_type": "execute_result"
    }
   ],
   "source": [
    "s.map(lambda x:f\"我是{x}生\")"
   ]
  },
  {
   "cell_type": "code",
   "execution_count": 103,
   "metadata": {},
   "outputs": [
    {
     "data": {
      "text/plain": [
       "0    我是男生\n",
       "1    我是男生\n",
       "2    我是男生\n",
       "3    我是女生\n",
       "4    我是男生\n",
       "5    我是女生\n",
       "6    我是男生\n",
       "7    我是女生\n",
       "8    我是男生\n",
       "9    我是男生\n",
       "Name: 性别, dtype: object"
      ]
     },
     "execution_count": 103,
     "metadata": {},
     "output_type": "execute_result"
    }
   ],
   "source": [
    "s.apply(lambda x:f\"我是{x}生\")"
   ]
  },
  {
   "cell_type": "code",
   "execution_count": 101,
   "metadata": {},
   "outputs": [
    {
     "data": {
      "text/plain": [
       "0    0\n",
       "1    1\n",
       "2    4\n",
       "dtype: int64"
      ]
     },
     "execution_count": 101,
     "metadata": {},
     "output_type": "execute_result"
    }
   ],
   "source": [
    "pd.Series([0,1,2]).map(lambda x:x**2)"
   ]
  },
  {
   "cell_type": "code",
   "execution_count": 102,
   "metadata": {},
   "outputs": [
    {
     "data": {
      "text/plain": [
       "0    0\n",
       "1    1\n",
       "2    4\n",
       "dtype: int64"
      ]
     },
     "execution_count": 102,
     "metadata": {},
     "output_type": "execute_result"
    }
   ],
   "source": [
    "pd.Series([0,1,2]).apply(lambda x:x**2)"
   ]
  },
  {
   "cell_type": "code",
   "execution_count": 106,
   "metadata": {},
   "outputs": [
    {
     "data": {
      "text/html": [
       "<div>\n",
       "<style scoped>\n",
       "    .dataframe tbody tr th:only-of-type {\n",
       "        vertical-align: middle;\n",
       "    }\n",
       "\n",
       "    .dataframe tbody tr th {\n",
       "        vertical-align: top;\n",
       "    }\n",
       "\n",
       "    .dataframe thead th {\n",
       "        text-align: right;\n",
       "    }\n",
       "</style>\n",
       "<table border=\"1\" class=\"dataframe\">\n",
       "  <thead>\n",
       "    <tr style=\"text-align: right;\">\n",
       "      <th></th>\n",
       "      <th>性别</th>\n",
       "    </tr>\n",
       "  </thead>\n",
       "  <tbody>\n",
       "    <tr>\n",
       "      <th>0</th>\n",
       "      <td>男</td>\n",
       "    </tr>\n",
       "    <tr>\n",
       "      <th>1</th>\n",
       "      <td>男</td>\n",
       "    </tr>\n",
       "    <tr>\n",
       "      <th>2</th>\n",
       "      <td>男</td>\n",
       "    </tr>\n",
       "    <tr>\n",
       "      <th>3</th>\n",
       "      <td>女</td>\n",
       "    </tr>\n",
       "    <tr>\n",
       "      <th>4</th>\n",
       "      <td>男</td>\n",
       "    </tr>\n",
       "    <tr>\n",
       "      <th>5</th>\n",
       "      <td>女</td>\n",
       "    </tr>\n",
       "    <tr>\n",
       "      <th>6</th>\n",
       "      <td>男</td>\n",
       "    </tr>\n",
       "    <tr>\n",
       "      <th>7</th>\n",
       "      <td>女</td>\n",
       "    </tr>\n",
       "    <tr>\n",
       "      <th>8</th>\n",
       "      <td>男</td>\n",
       "    </tr>\n",
       "    <tr>\n",
       "      <th>9</th>\n",
       "      <td>男</td>\n",
       "    </tr>\n",
       "  </tbody>\n",
       "</table>\n",
       "</div>"
      ],
      "text/plain": [
       "  性别\n",
       "0  男\n",
       "1  男\n",
       "2  男\n",
       "3  女\n",
       "4  男\n",
       "5  女\n",
       "6  男\n",
       "7  女\n",
       "8  男\n",
       "9  男"
      ]
     },
     "execution_count": 106,
     "metadata": {},
     "output_type": "execute_result"
    }
   ],
   "source": [
    "pd.DataFrame(s)"
   ]
  },
  {
   "cell_type": "markdown",
   "metadata": {},
   "source": [
    "### 2 pandas数据结构之DataFrame\n",
    "### 2.1 DataFrame的创建\n",
    "### 2.1.1 从Series or dicts创建"
   ]
  },
  {
   "cell_type": "code",
   "execution_count": 98,
   "metadata": {
    "scrolled": true
   },
   "outputs": [
    {
     "data": {
      "text/html": [
       "<div>\n",
       "<style scoped>\n",
       "    .dataframe tbody tr th:only-of-type {\n",
       "        vertical-align: middle;\n",
       "    }\n",
       "\n",
       "    .dataframe tbody tr th {\n",
       "        vertical-align: top;\n",
       "    }\n",
       "\n",
       "    .dataframe thead th {\n",
       "        text-align: right;\n",
       "    }\n",
       "</style>\n",
       "<table border=\"1\" class=\"dataframe\">\n",
       "  <thead>\n",
       "    <tr style=\"text-align: right;\">\n",
       "      <th></th>\n",
       "      <th>one</th>\n",
       "      <th>two</th>\n",
       "    </tr>\n",
       "  </thead>\n",
       "  <tbody>\n",
       "    <tr>\n",
       "      <th>a</th>\n",
       "      <td>1.0</td>\n",
       "      <td>1.0</td>\n",
       "    </tr>\n",
       "    <tr>\n",
       "      <th>b</th>\n",
       "      <td>2.0</td>\n",
       "      <td>2.0</td>\n",
       "    </tr>\n",
       "    <tr>\n",
       "      <th>c</th>\n",
       "      <td>3.0</td>\n",
       "      <td>3.0</td>\n",
       "    </tr>\n",
       "    <tr>\n",
       "      <th>d</th>\n",
       "      <td>NaN</td>\n",
       "      <td>4.0</td>\n",
       "    </tr>\n",
       "  </tbody>\n",
       "</table>\n",
       "</div>"
      ],
      "text/plain": [
       "   one  two\n",
       "a  1.0  1.0\n",
       "b  2.0  2.0\n",
       "c  3.0  3.0\n",
       "d  NaN  4.0"
      ]
     },
     "execution_count": 98,
     "metadata": {},
     "output_type": "execute_result"
    }
   ],
   "source": [
    "# 创建一个字典对象，字典的值为一个一维序列\n",
    "# DataFrame = {列名1:Series1，列名2:Series2}\n",
    "d = {'one' : pd.Series([1., 2., 3.], index=['a', 'b', 'c']),\n",
    "     'two' : pd.Series([1., 2., 3., 4.], index=['a', 'b', 'c', 'd'])}\n",
    "df = pd.DataFrame(d)\n",
    "df"
   ]
  },
  {
   "cell_type": "code",
   "execution_count": 101,
   "metadata": {},
   "outputs": [
    {
     "name": "stdout",
     "output_type": "stream",
     "text": [
      "a    1.0\n",
      "b    2.0\n",
      "c    3.0\n",
      "d    4.0\n",
      "dtype: float64\n"
     ]
    },
    {
     "data": {
      "text/plain": [
       "a    1.0\n",
       "b    2.0\n",
       "c    3.0\n",
       "d    4.0\n",
       "Name: two, dtype: float64"
      ]
     },
     "execution_count": 101,
     "metadata": {},
     "output_type": "execute_result"
    }
   ],
   "source": [
    "print(d[\"two\"])\n",
    "df[\"two\"]"
   ]
  },
  {
   "cell_type": "code",
   "execution_count": 102,
   "metadata": {},
   "outputs": [
    {
     "data": {
      "text/html": [
       "<div>\n",
       "<style scoped>\n",
       "    .dataframe tbody tr th:only-of-type {\n",
       "        vertical-align: middle;\n",
       "    }\n",
       "\n",
       "    .dataframe tbody tr th {\n",
       "        vertical-align: top;\n",
       "    }\n",
       "\n",
       "    .dataframe thead th {\n",
       "        text-align: right;\n",
       "    }\n",
       "</style>\n",
       "<table border=\"1\" class=\"dataframe\">\n",
       "  <thead>\n",
       "    <tr style=\"text-align: right;\">\n",
       "      <th></th>\n",
       "      <th>one</th>\n",
       "      <th>two</th>\n",
       "    </tr>\n",
       "  </thead>\n",
       "  <tbody>\n",
       "    <tr>\n",
       "      <th>a</th>\n",
       "      <td>1.0</td>\n",
       "      <td>1.0</td>\n",
       "    </tr>\n",
       "    <tr>\n",
       "      <th>b</th>\n",
       "      <td>2.0</td>\n",
       "      <td>2.0</td>\n",
       "    </tr>\n",
       "    <tr>\n",
       "      <th>c</th>\n",
       "      <td>3.0</td>\n",
       "      <td>3.0</td>\n",
       "    </tr>\n",
       "  </tbody>\n",
       "</table>\n",
       "</div>"
      ],
      "text/plain": [
       "   one  two\n",
       "a  1.0  1.0\n",
       "b  2.0  2.0\n",
       "c  3.0  3.0"
      ]
     },
     "execution_count": 102,
     "metadata": {},
     "output_type": "execute_result"
    }
   ],
   "source": [
    "# 将字典转换成DataFrame,字典的键将会成为DataFrame的column's name\n",
    "pd.DataFrame(d,index =['a','b','c'])"
   ]
  },
  {
   "cell_type": "code",
   "execution_count": 103,
   "metadata": {},
   "outputs": [
    {
     "data": {
      "text/html": [
       "<div>\n",
       "<style scoped>\n",
       "    .dataframe tbody tr th:only-of-type {\n",
       "        vertical-align: middle;\n",
       "    }\n",
       "\n",
       "    .dataframe tbody tr th {\n",
       "        vertical-align: top;\n",
       "    }\n",
       "\n",
       "    .dataframe thead th {\n",
       "        text-align: right;\n",
       "    }\n",
       "</style>\n",
       "<table border=\"1\" class=\"dataframe\">\n",
       "  <thead>\n",
       "    <tr style=\"text-align: right;\">\n",
       "      <th></th>\n",
       "      <th>one</th>\n",
       "      <th>two</th>\n",
       "    </tr>\n",
       "  </thead>\n",
       "  <tbody>\n",
       "    <tr>\n",
       "      <th>d</th>\n",
       "      <td>NaN</td>\n",
       "      <td>4.0</td>\n",
       "    </tr>\n",
       "    <tr>\n",
       "      <th>b</th>\n",
       "      <td>2.0</td>\n",
       "      <td>2.0</td>\n",
       "    </tr>\n",
       "    <tr>\n",
       "      <th>a</th>\n",
       "      <td>1.0</td>\n",
       "      <td>1.0</td>\n",
       "    </tr>\n",
       "  </tbody>\n",
       "</table>\n",
       "</div>"
      ],
      "text/plain": [
       "   one  two\n",
       "d  NaN  4.0\n",
       "b  2.0  2.0\n",
       "a  1.0  1.0"
      ]
     },
     "execution_count": 103,
     "metadata": {},
     "output_type": "execute_result"
    }
   ],
   "source": [
    "# 指定索引名称，生成DataFrame\n",
    "pd.DataFrame(d, index=['d', 'b', 'a'])"
   ]
  },
  {
   "cell_type": "code",
   "execution_count": 104,
   "metadata": {},
   "outputs": [
    {
     "data": {
      "text/html": [
       "<div>\n",
       "<style scoped>\n",
       "    .dataframe tbody tr th:only-of-type {\n",
       "        vertical-align: middle;\n",
       "    }\n",
       "\n",
       "    .dataframe tbody tr th {\n",
       "        vertical-align: top;\n",
       "    }\n",
       "\n",
       "    .dataframe thead th {\n",
       "        text-align: right;\n",
       "    }\n",
       "</style>\n",
       "<table border=\"1\" class=\"dataframe\">\n",
       "  <thead>\n",
       "    <tr style=\"text-align: right;\">\n",
       "      <th></th>\n",
       "      <th>one</th>\n",
       "      <th>two</th>\n",
       "      <th>three</th>\n",
       "    </tr>\n",
       "  </thead>\n",
       "  <tbody>\n",
       "    <tr>\n",
       "      <th>b</th>\n",
       "      <td>2.0</td>\n",
       "      <td>2.0</td>\n",
       "      <td>NaN</td>\n",
       "    </tr>\n",
       "    <tr>\n",
       "      <th>a</th>\n",
       "      <td>1.0</td>\n",
       "      <td>1.0</td>\n",
       "      <td>NaN</td>\n",
       "    </tr>\n",
       "  </tbody>\n",
       "</table>\n",
       "</div>"
      ],
      "text/plain": [
       "   one  two three\n",
       "b  2.0  2.0   NaN\n",
       "a  1.0  1.0   NaN"
      ]
     },
     "execution_count": 104,
     "metadata": {},
     "output_type": "execute_result"
    }
   ],
   "source": [
    "# 指定column's name 生成DataFrame\n",
    "pd.DataFrame(d, index=['b', 'a'], columns=['one','two', 'three'])"
   ]
  },
  {
   "cell_type": "markdown",
   "metadata": {},
   "source": [
    "### 2.1.2 从ndarrays或lists的字典创建"
   ]
  },
  {
   "cell_type": "code",
   "execution_count": 109,
   "metadata": {},
   "outputs": [],
   "source": [
    "# list的长度需要一致,组成字典\n",
    "# 注意：ValueError: All arrays must be of the same length\n",
    "d = {'one':[1,2,3,4,5,6,7],\n",
    "    'two':['a','b','c','d','e','f','g'],\n",
    "    'three':[False,True,True,True,False,False,True]}\n",
    "# arrays must all be same length"
   ]
  },
  {
   "cell_type": "code",
   "execution_count": 110,
   "metadata": {},
   "outputs": [
    {
     "data": {
      "text/html": [
       "<div>\n",
       "<style scoped>\n",
       "    .dataframe tbody tr th:only-of-type {\n",
       "        vertical-align: middle;\n",
       "    }\n",
       "\n",
       "    .dataframe tbody tr th {\n",
       "        vertical-align: top;\n",
       "    }\n",
       "\n",
       "    .dataframe thead th {\n",
       "        text-align: right;\n",
       "    }\n",
       "</style>\n",
       "<table border=\"1\" class=\"dataframe\">\n",
       "  <thead>\n",
       "    <tr style=\"text-align: right;\">\n",
       "      <th></th>\n",
       "      <th>one</th>\n",
       "      <th>two</th>\n",
       "      <th>three</th>\n",
       "    </tr>\n",
       "  </thead>\n",
       "  <tbody>\n",
       "    <tr>\n",
       "      <th>0</th>\n",
       "      <td>1</td>\n",
       "      <td>a</td>\n",
       "      <td>False</td>\n",
       "    </tr>\n",
       "    <tr>\n",
       "      <th>1</th>\n",
       "      <td>2</td>\n",
       "      <td>b</td>\n",
       "      <td>True</td>\n",
       "    </tr>\n",
       "    <tr>\n",
       "      <th>2</th>\n",
       "      <td>3</td>\n",
       "      <td>c</td>\n",
       "      <td>True</td>\n",
       "    </tr>\n",
       "    <tr>\n",
       "      <th>3</th>\n",
       "      <td>4</td>\n",
       "      <td>d</td>\n",
       "      <td>True</td>\n",
       "    </tr>\n",
       "    <tr>\n",
       "      <th>4</th>\n",
       "      <td>5</td>\n",
       "      <td>e</td>\n",
       "      <td>False</td>\n",
       "    </tr>\n",
       "    <tr>\n",
       "      <th>5</th>\n",
       "      <td>6</td>\n",
       "      <td>f</td>\n",
       "      <td>False</td>\n",
       "    </tr>\n",
       "    <tr>\n",
       "      <th>6</th>\n",
       "      <td>7</td>\n",
       "      <td>g</td>\n",
       "      <td>True</td>\n",
       "    </tr>\n",
       "  </tbody>\n",
       "</table>\n",
       "</div>"
      ],
      "text/plain": [
       "   one two  three\n",
       "0    1   a  False\n",
       "1    2   b   True\n",
       "2    3   c   True\n",
       "3    4   d   True\n",
       "4    5   e  False\n",
       "5    6   f  False\n",
       "6    7   g   True"
      ]
     },
     "execution_count": 110,
     "metadata": {},
     "output_type": "execute_result"
    }
   ],
   "source": [
    "pd.DataFrame(d)"
   ]
  },
  {
   "cell_type": "code",
   "execution_count": 114,
   "metadata": {},
   "outputs": [
    {
     "data": {
      "text/html": [
       "<div>\n",
       "<style scoped>\n",
       "    .dataframe tbody tr th:only-of-type {\n",
       "        vertical-align: middle;\n",
       "    }\n",
       "\n",
       "    .dataframe tbody tr th {\n",
       "        vertical-align: top;\n",
       "    }\n",
       "\n",
       "    .dataframe thead th {\n",
       "        text-align: right;\n",
       "    }\n",
       "</style>\n",
       "<table border=\"1\" class=\"dataframe\">\n",
       "  <thead>\n",
       "    <tr style=\"text-align: right;\">\n",
       "      <th></th>\n",
       "      <th>one</th>\n",
       "      <th>three</th>\n",
       "    </tr>\n",
       "  </thead>\n",
       "  <tbody>\n",
       "    <tr>\n",
       "      <th>0</th>\n",
       "      <td>1</td>\n",
       "      <td>False</td>\n",
       "    </tr>\n",
       "    <tr>\n",
       "      <th>1</th>\n",
       "      <td>2</td>\n",
       "      <td>True</td>\n",
       "    </tr>\n",
       "    <tr>\n",
       "      <th>2</th>\n",
       "      <td>3</td>\n",
       "      <td>True</td>\n",
       "    </tr>\n",
       "    <tr>\n",
       "      <th>3</th>\n",
       "      <td>4</td>\n",
       "      <td>True</td>\n",
       "    </tr>\n",
       "    <tr>\n",
       "      <th>4</th>\n",
       "      <td>5</td>\n",
       "      <td>False</td>\n",
       "    </tr>\n",
       "    <tr>\n",
       "      <th>5</th>\n",
       "      <td>6</td>\n",
       "      <td>False</td>\n",
       "    </tr>\n",
       "    <tr>\n",
       "      <th>6</th>\n",
       "      <td>7</td>\n",
       "      <td>True</td>\n",
       "    </tr>\n",
       "  </tbody>\n",
       "</table>\n",
       "</div>"
      ],
      "text/plain": [
       "   one  three\n",
       "0    1  False\n",
       "1    2   True\n",
       "2    3   True\n",
       "3    4   True\n",
       "4    5  False\n",
       "5    6  False\n",
       "6    7   True"
      ]
     },
     "execution_count": 114,
     "metadata": {},
     "output_type": "execute_result"
    }
   ],
   "source": [
    "pd.DataFrame(d,columns=['one','three'])"
   ]
  },
  {
   "cell_type": "code",
   "execution_count": 114,
   "metadata": {},
   "outputs": [
    {
     "data": {
      "text/html": [
       "<div>\n",
       "<style scoped>\n",
       "    .dataframe tbody tr th:only-of-type {\n",
       "        vertical-align: middle;\n",
       "    }\n",
       "\n",
       "    .dataframe tbody tr th {\n",
       "        vertical-align: top;\n",
       "    }\n",
       "\n",
       "    .dataframe thead th {\n",
       "        text-align: right;\n",
       "    }\n",
       "</style>\n",
       "<table border=\"1\" class=\"dataframe\">\n",
       "  <thead>\n",
       "    <tr style=\"text-align: right;\">\n",
       "      <th></th>\n",
       "      <th>one</th>\n",
       "      <th>three</th>\n",
       "    </tr>\n",
       "  </thead>\n",
       "  <tbody>\n",
       "    <tr>\n",
       "      <th>a</th>\n",
       "      <td>1</td>\n",
       "      <td>False</td>\n",
       "    </tr>\n",
       "    <tr>\n",
       "      <th>b</th>\n",
       "      <td>2</td>\n",
       "      <td>True</td>\n",
       "    </tr>\n",
       "    <tr>\n",
       "      <th>c</th>\n",
       "      <td>3</td>\n",
       "      <td>True</td>\n",
       "    </tr>\n",
       "    <tr>\n",
       "      <th>d</th>\n",
       "      <td>4</td>\n",
       "      <td>True</td>\n",
       "    </tr>\n",
       "    <tr>\n",
       "      <th>e</th>\n",
       "      <td>5</td>\n",
       "      <td>False</td>\n",
       "    </tr>\n",
       "    <tr>\n",
       "      <th>f</th>\n",
       "      <td>6</td>\n",
       "      <td>False</td>\n",
       "    </tr>\n",
       "    <tr>\n",
       "      <th>g</th>\n",
       "      <td>7</td>\n",
       "      <td>True</td>\n",
       "    </tr>\n",
       "  </tbody>\n",
       "</table>\n",
       "</div>"
      ],
      "text/plain": [
       "   one  three\n",
       "a    1  False\n",
       "b    2   True\n",
       "c    3   True\n",
       "d    4   True\n",
       "e    5  False\n",
       "f    6  False\n",
       "g    7   True"
      ]
     },
     "execution_count": 114,
     "metadata": {},
     "output_type": "execute_result"
    }
   ],
   "source": [
    "# 如果传入索引，则索引的长度必须和ndarray数组或list的长度一致\n",
    "pd.DataFrame(d,columns=['one','three'],index = list('abcdefg'))"
   ]
  },
  {
   "cell_type": "markdown",
   "metadata": {},
   "source": [
    "### 2.1.3 从结构化或成对的array/list创建"
   ]
  },
  {
   "cell_type": "code",
   "execution_count": 115,
   "metadata": {},
   "outputs": [
    {
     "data": {
      "text/plain": [
       "array([[1, 2, 3, 4],\n",
       "       [4, 5, 6, 7]])"
      ]
     },
     "execution_count": 115,
     "metadata": {},
     "output_type": "execute_result"
    }
   ],
   "source": [
    "# from ndarray\n",
    "array = np.array([[1,2,3,4],[4,5,6,7]])\n",
    "array"
   ]
  },
  {
   "cell_type": "code",
   "execution_count": 116,
   "metadata": {},
   "outputs": [
    {
     "data": {
      "text/html": [
       "<div>\n",
       "<style scoped>\n",
       "    .dataframe tbody tr th:only-of-type {\n",
       "        vertical-align: middle;\n",
       "    }\n",
       "\n",
       "    .dataframe tbody tr th {\n",
       "        vertical-align: top;\n",
       "    }\n",
       "\n",
       "    .dataframe thead th {\n",
       "        text-align: right;\n",
       "    }\n",
       "</style>\n",
       "<table border=\"1\" class=\"dataframe\">\n",
       "  <thead>\n",
       "    <tr style=\"text-align: right;\">\n",
       "      <th></th>\n",
       "      <th>a</th>\n",
       "      <th>b</th>\n",
       "      <th>c</th>\n",
       "      <th>d</th>\n",
       "    </tr>\n",
       "  </thead>\n",
       "  <tbody>\n",
       "    <tr>\n",
       "      <th>0</th>\n",
       "      <td>1</td>\n",
       "      <td>2</td>\n",
       "      <td>3</td>\n",
       "      <td>4</td>\n",
       "    </tr>\n",
       "    <tr>\n",
       "      <th>1</th>\n",
       "      <td>4</td>\n",
       "      <td>5</td>\n",
       "      <td>6</td>\n",
       "      <td>7</td>\n",
       "    </tr>\n",
       "  </tbody>\n",
       "</table>\n",
       "</div>"
      ],
      "text/plain": [
       "   a  b  c  d\n",
       "0  1  2  3  4\n",
       "1  4  5  6  7"
      ]
     },
     "execution_count": 116,
     "metadata": {},
     "output_type": "execute_result"
    }
   ],
   "source": [
    "pd.DataFrame(array,columns=list('abcd'))"
   ]
  },
  {
   "cell_type": "code",
   "execution_count": 117,
   "metadata": {},
   "outputs": [
    {
     "data": {
      "text/plain": [
       "array([[ 1,  2,  3,  4],\n",
       "       [ 5,  6,  7,  8],\n",
       "       [ 9, 10, 11, 12]])"
      ]
     },
     "execution_count": 117,
     "metadata": {},
     "output_type": "execute_result"
    }
   ],
   "source": [
    "array = np.arange(1,13).reshape(3,4)\n",
    "array"
   ]
  },
  {
   "cell_type": "code",
   "execution_count": 118,
   "metadata": {},
   "outputs": [
    {
     "data": {
      "text/html": [
       "<div>\n",
       "<style scoped>\n",
       "    .dataframe tbody tr th:only-of-type {\n",
       "        vertical-align: middle;\n",
       "    }\n",
       "\n",
       "    .dataframe tbody tr th {\n",
       "        vertical-align: top;\n",
       "    }\n",
       "\n",
       "    .dataframe thead th {\n",
       "        text-align: right;\n",
       "    }\n",
       "</style>\n",
       "<table border=\"1\" class=\"dataframe\">\n",
       "  <thead>\n",
       "    <tr style=\"text-align: right;\">\n",
       "      <th></th>\n",
       "      <th>a</th>\n",
       "      <th>b</th>\n",
       "      <th>c</th>\n",
       "      <th>d</th>\n",
       "    </tr>\n",
       "  </thead>\n",
       "  <tbody>\n",
       "    <tr>\n",
       "      <th>0</th>\n",
       "      <td>1</td>\n",
       "      <td>2</td>\n",
       "      <td>3</td>\n",
       "      <td>4</td>\n",
       "    </tr>\n",
       "    <tr>\n",
       "      <th>1</th>\n",
       "      <td>5</td>\n",
       "      <td>6</td>\n",
       "      <td>7</td>\n",
       "      <td>8</td>\n",
       "    </tr>\n",
       "    <tr>\n",
       "      <th>2</th>\n",
       "      <td>9</td>\n",
       "      <td>10</td>\n",
       "      <td>11</td>\n",
       "      <td>12</td>\n",
       "    </tr>\n",
       "  </tbody>\n",
       "</table>\n",
       "</div>"
      ],
      "text/plain": [
       "   a   b   c   d\n",
       "0  1   2   3   4\n",
       "1  5   6   7   8\n",
       "2  9  10  11  12"
      ]
     },
     "execution_count": 118,
     "metadata": {},
     "output_type": "execute_result"
    }
   ],
   "source": [
    "pd.DataFrame(array,columns=list('abcd'))"
   ]
  },
  {
   "cell_type": "code",
   "execution_count": 120,
   "metadata": {},
   "outputs": [
    {
     "data": {
      "text/html": [
       "<div>\n",
       "<style scoped>\n",
       "    .dataframe tbody tr th:only-of-type {\n",
       "        vertical-align: middle;\n",
       "    }\n",
       "\n",
       "    .dataframe tbody tr th {\n",
       "        vertical-align: top;\n",
       "    }\n",
       "\n",
       "    .dataframe thead th {\n",
       "        text-align: right;\n",
       "    }\n",
       "</style>\n",
       "<table border=\"1\" class=\"dataframe\">\n",
       "  <thead>\n",
       "    <tr style=\"text-align: right;\">\n",
       "      <th></th>\n",
       "      <th>0</th>\n",
       "      <th>1</th>\n",
       "    </tr>\n",
       "  </thead>\n",
       "  <tbody>\n",
       "    <tr>\n",
       "      <th>0</th>\n",
       "      <td>[1, 2]</td>\n",
       "      <td>[3, 4]</td>\n",
       "    </tr>\n",
       "    <tr>\n",
       "      <th>1</th>\n",
       "      <td>[5, 6]</td>\n",
       "      <td>[7, 8]</td>\n",
       "    </tr>\n",
       "  </tbody>\n",
       "</table>\n",
       "</div>"
      ],
      "text/plain": [
       "        0       1\n",
       "0  [1, 2]  [3, 4]\n",
       "1  [5, 6]  [7, 8]"
      ]
     },
     "execution_count": 120,
     "metadata": {},
     "output_type": "execute_result"
    }
   ],
   "source": [
    "a = [[[1,2],[3,4]],[[5,6],[7,8]]]  # 原生列表\n",
    "pd.DataFrame(a)"
   ]
  },
  {
   "cell_type": "code",
   "execution_count": 122,
   "metadata": {},
   "outputs": [
    {
     "data": {
      "text/plain": [
       "[1, 2]"
      ]
     },
     "execution_count": 122,
     "metadata": {},
     "output_type": "execute_result"
    }
   ],
   "source": [
    "df = pd.DataFrame(a)\n",
    "df[0][0]"
   ]
  },
  {
   "cell_type": "code",
   "execution_count": 123,
   "metadata": {},
   "outputs": [
    {
     "data": {
      "text/plain": [
       "3"
      ]
     },
     "execution_count": 123,
     "metadata": {},
     "output_type": "execute_result"
    }
   ],
   "source": [
    "array = np.array(a)  # numpy 3darray\n",
    "array.ndim"
   ]
  },
  {
   "cell_type": "code",
   "execution_count": 124,
   "metadata": {},
   "outputs": [
    {
     "ename": "ValueError",
     "evalue": "Must pass 2-d input. shape=(2, 2, 2)",
     "output_type": "error",
     "traceback": [
      "\u001b[1;31m---------------------------------------------------------------------------\u001b[0m",
      "\u001b[1;31mValueError\u001b[0m                                Traceback (most recent call last)",
      "\u001b[1;32m<ipython-input-124-e5fdecf39aa9>\u001b[0m in \u001b[0;36m<module>\u001b[1;34m\u001b[0m\n\u001b[0;32m      1\u001b[0m \u001b[1;31m#固定错误\u001b[0m\u001b[1;33m\u001b[0m\u001b[1;33m\u001b[0m\u001b[1;33m\u001b[0m\u001b[0m\n\u001b[1;32m----> 2\u001b[1;33m \u001b[0mpd\u001b[0m\u001b[1;33m.\u001b[0m\u001b[0mDataFrame\u001b[0m\u001b[1;33m(\u001b[0m\u001b[0mnp\u001b[0m\u001b[1;33m.\u001b[0m\u001b[0marray\u001b[0m\u001b[1;33m(\u001b[0m\u001b[0ma\u001b[0m\u001b[1;33m)\u001b[0m\u001b[1;33m)\u001b[0m\u001b[1;33m\u001b[0m\u001b[1;33m\u001b[0m\u001b[0m\n\u001b[0m\u001b[0;32m      3\u001b[0m \u001b[1;31m#ValueError: Must pass 2-d input\u001b[0m\u001b[1;33m\u001b[0m\u001b[1;33m\u001b[0m\u001b[1;33m\u001b[0m\u001b[0m\n",
      "\u001b[1;32mD:\\Anaconda3\\lib\\site-packages\\pandas\\core\\frame.py\u001b[0m in \u001b[0;36m__init__\u001b[1;34m(self, data, index, columns, dtype, copy)\u001b[0m\n\u001b[0;32m    676\u001b[0m                     \u001b[0mdtype\u001b[0m\u001b[1;33m=\u001b[0m\u001b[0mdtype\u001b[0m\u001b[1;33m,\u001b[0m\u001b[1;33m\u001b[0m\u001b[1;33m\u001b[0m\u001b[0m\n\u001b[0;32m    677\u001b[0m                     \u001b[0mcopy\u001b[0m\u001b[1;33m=\u001b[0m\u001b[0mcopy\u001b[0m\u001b[1;33m,\u001b[0m\u001b[1;33m\u001b[0m\u001b[1;33m\u001b[0m\u001b[0m\n\u001b[1;32m--> 678\u001b[1;33m                     \u001b[0mtyp\u001b[0m\u001b[1;33m=\u001b[0m\u001b[0mmanager\u001b[0m\u001b[1;33m,\u001b[0m\u001b[1;33m\u001b[0m\u001b[1;33m\u001b[0m\u001b[0m\n\u001b[0m\u001b[0;32m    679\u001b[0m                 )\n\u001b[0;32m    680\u001b[0m \u001b[1;33m\u001b[0m\u001b[0m\n",
      "\u001b[1;32mD:\\Anaconda3\\lib\\site-packages\\pandas\\core\\internals\\construction.py\u001b[0m in \u001b[0;36mndarray_to_mgr\u001b[1;34m(values, index, columns, dtype, copy, typ)\u001b[0m\n\u001b[0;32m    302\u001b[0m         \u001b[1;31m# by definition an array here\u001b[0m\u001b[1;33m\u001b[0m\u001b[1;33m\u001b[0m\u001b[1;33m\u001b[0m\u001b[0m\n\u001b[0;32m    303\u001b[0m         \u001b[1;31m# the dtypes will be coerced to a single dtype\u001b[0m\u001b[1;33m\u001b[0m\u001b[1;33m\u001b[0m\u001b[1;33m\u001b[0m\u001b[0m\n\u001b[1;32m--> 304\u001b[1;33m         \u001b[0mvalues\u001b[0m \u001b[1;33m=\u001b[0m \u001b[0m_prep_ndarray\u001b[0m\u001b[1;33m(\u001b[0m\u001b[0mvalues\u001b[0m\u001b[1;33m,\u001b[0m \u001b[0mcopy\u001b[0m\u001b[1;33m=\u001b[0m\u001b[0mcopy\u001b[0m\u001b[1;33m)\u001b[0m\u001b[1;33m\u001b[0m\u001b[1;33m\u001b[0m\u001b[0m\n\u001b[0m\u001b[0;32m    305\u001b[0m \u001b[1;33m\u001b[0m\u001b[0m\n\u001b[0;32m    306\u001b[0m     \u001b[1;32mif\u001b[0m \u001b[0mdtype\u001b[0m \u001b[1;32mis\u001b[0m \u001b[1;32mnot\u001b[0m \u001b[1;32mNone\u001b[0m \u001b[1;32mand\u001b[0m \u001b[1;32mnot\u001b[0m \u001b[0mis_dtype_equal\u001b[0m\u001b[1;33m(\u001b[0m\u001b[0mvalues\u001b[0m\u001b[1;33m.\u001b[0m\u001b[0mdtype\u001b[0m\u001b[1;33m,\u001b[0m \u001b[0mdtype\u001b[0m\u001b[1;33m)\u001b[0m\u001b[1;33m:\u001b[0m\u001b[1;33m\u001b[0m\u001b[1;33m\u001b[0m\u001b[0m\n",
      "\u001b[1;32mD:\\Anaconda3\\lib\\site-packages\\pandas\\core\\internals\\construction.py\u001b[0m in \u001b[0;36m_prep_ndarray\u001b[1;34m(values, copy)\u001b[0m\n\u001b[0;32m    553\u001b[0m         \u001b[0mvalues\u001b[0m \u001b[1;33m=\u001b[0m \u001b[0mvalues\u001b[0m\u001b[1;33m.\u001b[0m\u001b[0mreshape\u001b[0m\u001b[1;33m(\u001b[0m\u001b[1;33m(\u001b[0m\u001b[0mvalues\u001b[0m\u001b[1;33m.\u001b[0m\u001b[0mshape\u001b[0m\u001b[1;33m[\u001b[0m\u001b[1;36m0\u001b[0m\u001b[1;33m]\u001b[0m\u001b[1;33m,\u001b[0m \u001b[1;36m1\u001b[0m\u001b[1;33m)\u001b[0m\u001b[1;33m)\u001b[0m\u001b[1;33m\u001b[0m\u001b[1;33m\u001b[0m\u001b[0m\n\u001b[0;32m    554\u001b[0m     \u001b[1;32melif\u001b[0m \u001b[0mvalues\u001b[0m\u001b[1;33m.\u001b[0m\u001b[0mndim\u001b[0m \u001b[1;33m!=\u001b[0m \u001b[1;36m2\u001b[0m\u001b[1;33m:\u001b[0m\u001b[1;33m\u001b[0m\u001b[1;33m\u001b[0m\u001b[0m\n\u001b[1;32m--> 555\u001b[1;33m         \u001b[1;32mraise\u001b[0m \u001b[0mValueError\u001b[0m\u001b[1;33m(\u001b[0m\u001b[1;34mf\"Must pass 2-d input. shape={values.shape}\"\u001b[0m\u001b[1;33m)\u001b[0m\u001b[1;33m\u001b[0m\u001b[1;33m\u001b[0m\u001b[0m\n\u001b[0m\u001b[0;32m    556\u001b[0m \u001b[1;33m\u001b[0m\u001b[0m\n\u001b[0;32m    557\u001b[0m     \u001b[1;32mreturn\u001b[0m \u001b[0mvalues\u001b[0m\u001b[1;33m\u001b[0m\u001b[1;33m\u001b[0m\u001b[0m\n",
      "\u001b[1;31mValueError\u001b[0m: Must pass 2-d input. shape=(2, 2, 2)"
     ]
    }
   ],
   "source": [
    "#固定错误\n",
    "pd.DataFrame(np.array(a))\n",
    "#ValueError: Must pass 2-d input"
   ]
  },
  {
   "cell_type": "code",
   "execution_count": 129,
   "metadata": {},
   "outputs": [],
   "source": [
    "# from list\n",
    "c = [[1,2,3,4],[4,5,6,7]]"
   ]
  },
  {
   "cell_type": "code",
   "execution_count": 130,
   "metadata": {},
   "outputs": [
    {
     "data": {
      "text/html": [
       "<div>\n",
       "<style scoped>\n",
       "    .dataframe tbody tr th:only-of-type {\n",
       "        vertical-align: middle;\n",
       "    }\n",
       "\n",
       "    .dataframe tbody tr th {\n",
       "        vertical-align: top;\n",
       "    }\n",
       "\n",
       "    .dataframe thead th {\n",
       "        text-align: right;\n",
       "    }\n",
       "</style>\n",
       "<table border=\"1\" class=\"dataframe\">\n",
       "  <thead>\n",
       "    <tr style=\"text-align: right;\">\n",
       "      <th></th>\n",
       "      <th>a</th>\n",
       "      <th>b</th>\n",
       "      <th>c</th>\n",
       "      <th>d</th>\n",
       "    </tr>\n",
       "  </thead>\n",
       "  <tbody>\n",
       "    <tr>\n",
       "      <th>x</th>\n",
       "      <td>1</td>\n",
       "      <td>2</td>\n",
       "      <td>3</td>\n",
       "      <td>4</td>\n",
       "    </tr>\n",
       "    <tr>\n",
       "      <th>y</th>\n",
       "      <td>4</td>\n",
       "      <td>5</td>\n",
       "      <td>6</td>\n",
       "      <td>7</td>\n",
       "    </tr>\n",
       "  </tbody>\n",
       "</table>\n",
       "</div>"
      ],
      "text/plain": [
       "   a  b  c  d\n",
       "x  1  2  3  4\n",
       "y  4  5  6  7"
      ]
     },
     "execution_count": 130,
     "metadata": {},
     "output_type": "execute_result"
    }
   ],
   "source": [
    "pd.DataFrame(c,index=list('xy'),columns=list('abcd'))"
   ]
  },
  {
   "cell_type": "code",
   "execution_count": 131,
   "metadata": {},
   "outputs": [
    {
     "data": {
      "text/html": [
       "<div>\n",
       "<style scoped>\n",
       "    .dataframe tbody tr th:only-of-type {\n",
       "        vertical-align: middle;\n",
       "    }\n",
       "\n",
       "    .dataframe tbody tr th {\n",
       "        vertical-align: top;\n",
       "    }\n",
       "\n",
       "    .dataframe thead th {\n",
       "        text-align: right;\n",
       "    }\n",
       "</style>\n",
       "<table border=\"1\" class=\"dataframe\">\n",
       "  <thead>\n",
       "    <tr style=\"text-align: right;\">\n",
       "      <th></th>\n",
       "      <th>0</th>\n",
       "      <th>1</th>\n",
       "      <th>2</th>\n",
       "      <th>3</th>\n",
       "    </tr>\n",
       "  </thead>\n",
       "  <tbody>\n",
       "    <tr>\n",
       "      <th>0</th>\n",
       "      <td>1</td>\n",
       "      <td>2</td>\n",
       "      <td>3</td>\n",
       "      <td>4</td>\n",
       "    </tr>\n",
       "    <tr>\n",
       "      <th>1</th>\n",
       "      <td>4</td>\n",
       "      <td>5</td>\n",
       "      <td>6</td>\n",
       "      <td>7</td>\n",
       "    </tr>\n",
       "  </tbody>\n",
       "</table>\n",
       "</div>"
      ],
      "text/plain": [
       "   0  1  2  3\n",
       "0  1  2  3  4\n",
       "1  4  5  6  7"
      ]
     },
     "execution_count": 131,
     "metadata": {},
     "output_type": "execute_result"
    }
   ],
   "source": [
    "pd.DataFrame(c)"
   ]
  },
  {
   "cell_type": "markdown",
   "metadata": {},
   "source": [
    "### 2.1.3 从字典的列表创建"
   ]
  },
  {
   "cell_type": "code",
   "execution_count": 125,
   "metadata": {},
   "outputs": [
    {
     "data": {
      "text/html": [
       "<div>\n",
       "<style scoped>\n",
       "    .dataframe tbody tr th:only-of-type {\n",
       "        vertical-align: middle;\n",
       "    }\n",
       "\n",
       "    .dataframe tbody tr th {\n",
       "        vertical-align: top;\n",
       "    }\n",
       "\n",
       "    .dataframe thead th {\n",
       "        text-align: right;\n",
       "    }\n",
       "</style>\n",
       "<table border=\"1\" class=\"dataframe\">\n",
       "  <thead>\n",
       "    <tr style=\"text-align: right;\">\n",
       "      <th></th>\n",
       "      <th>a</th>\n",
       "      <th>b</th>\n",
       "      <th>c</th>\n",
       "    </tr>\n",
       "  </thead>\n",
       "  <tbody>\n",
       "    <tr>\n",
       "      <th>0</th>\n",
       "      <td>1</td>\n",
       "      <td>2</td>\n",
       "      <td>NaN</td>\n",
       "    </tr>\n",
       "    <tr>\n",
       "      <th>1</th>\n",
       "      <td>5</td>\n",
       "      <td>10</td>\n",
       "      <td>20.0</td>\n",
       "    </tr>\n",
       "  </tbody>\n",
       "</table>\n",
       "</div>"
      ],
      "text/plain": [
       "   a   b     c\n",
       "0  1   2   NaN\n",
       "1  5  10  20.0"
      ]
     },
     "execution_count": 125,
     "metadata": {},
     "output_type": "execute_result"
    }
   ],
   "source": [
    "data = [{'a': 1, 'b': 2}, {'a': 5, 'b': 10, 'c': 20}]\n",
    "pd.DataFrame(data)"
   ]
  },
  {
   "cell_type": "code",
   "execution_count": 126,
   "metadata": {},
   "outputs": [
    {
     "data": {
      "text/html": [
       "<div>\n",
       "<style scoped>\n",
       "    .dataframe tbody tr th:only-of-type {\n",
       "        vertical-align: middle;\n",
       "    }\n",
       "\n",
       "    .dataframe tbody tr th {\n",
       "        vertical-align: top;\n",
       "    }\n",
       "\n",
       "    .dataframe thead th {\n",
       "        text-align: right;\n",
       "    }\n",
       "</style>\n",
       "<table border=\"1\" class=\"dataframe\">\n",
       "  <thead>\n",
       "    <tr style=\"text-align: right;\">\n",
       "      <th></th>\n",
       "      <th>a</th>\n",
       "      <th>b</th>\n",
       "    </tr>\n",
       "  </thead>\n",
       "  <tbody>\n",
       "    <tr>\n",
       "      <th>first</th>\n",
       "      <td>1</td>\n",
       "      <td>2</td>\n",
       "    </tr>\n",
       "    <tr>\n",
       "      <th>second</th>\n",
       "      <td>5</td>\n",
       "      <td>10</td>\n",
       "    </tr>\n",
       "  </tbody>\n",
       "</table>\n",
       "</div>"
      ],
      "text/plain": [
       "        a   b\n",
       "first   1   2\n",
       "second  5  10"
      ]
     },
     "execution_count": 126,
     "metadata": {},
     "output_type": "execute_result"
    }
   ],
   "source": [
    "pd.DataFrame(data,columns=['a','b'],index=['first','second'])"
   ]
  },
  {
   "cell_type": "markdown",
   "metadata": {},
   "source": [
    "### 2.2 变量选择、添加和删除"
   ]
  },
  {
   "cell_type": "code",
   "execution_count": 1,
   "metadata": {
    "scrolled": true
   },
   "outputs": [
    {
     "data": {
      "text/html": [
       "<div>\n",
       "<style scoped>\n",
       "    .dataframe tbody tr th:only-of-type {\n",
       "        vertical-align: middle;\n",
       "    }\n",
       "\n",
       "    .dataframe tbody tr th {\n",
       "        vertical-align: top;\n",
       "    }\n",
       "\n",
       "    .dataframe thead th {\n",
       "        text-align: right;\n",
       "    }\n",
       "</style>\n",
       "<table border=\"1\" class=\"dataframe\">\n",
       "  <thead>\n",
       "    <tr style=\"text-align: right;\">\n",
       "      <th></th>\n",
       "      <th>one</th>\n",
       "      <th>two</th>\n",
       "    </tr>\n",
       "  </thead>\n",
       "  <tbody>\n",
       "    <tr>\n",
       "      <th>0</th>\n",
       "      <td>1</td>\n",
       "      <td>2</td>\n",
       "    </tr>\n",
       "    <tr>\n",
       "      <th>1</th>\n",
       "      <td>2</td>\n",
       "      <td>3</td>\n",
       "    </tr>\n",
       "    <tr>\n",
       "      <th>2</th>\n",
       "      <td>3</td>\n",
       "      <td>4</td>\n",
       "    </tr>\n",
       "    <tr>\n",
       "      <th>3</th>\n",
       "      <td>4</td>\n",
       "      <td>5</td>\n",
       "    </tr>\n",
       "    <tr>\n",
       "      <th>4</th>\n",
       "      <td>5</td>\n",
       "      <td>6</td>\n",
       "    </tr>\n",
       "    <tr>\n",
       "      <th>5</th>\n",
       "      <td>6</td>\n",
       "      <td>7</td>\n",
       "    </tr>\n",
       "  </tbody>\n",
       "</table>\n",
       "</div>"
      ],
      "text/plain": [
       "   one  two\n",
       "0    1    2\n",
       "1    2    3\n",
       "2    3    4\n",
       "3    4    5\n",
       "4    5    6\n",
       "5    6    7"
      ]
     },
     "execution_count": 1,
     "metadata": {},
     "output_type": "execute_result"
    }
   ],
   "source": [
    "import pandas as pd\n",
    "df = pd.DataFrame({'one':[1,2,3,4,5,6],\n",
    "                 'two':[2,3,4,5,6,7]})\n",
    "df"
   ]
  },
  {
   "cell_type": "code",
   "execution_count": 2,
   "metadata": {
    "scrolled": true
   },
   "outputs": [
    {
     "data": {
      "text/plain": [
       "0    1\n",
       "1    2\n",
       "2    3\n",
       "3    4\n",
       "4    5\n",
       "5    6\n",
       "Name: one, dtype: int64"
      ]
     },
     "execution_count": 2,
     "metadata": {},
     "output_type": "execute_result"
    }
   ],
   "source": [
    "# 查看某列\n",
    "df['one']  # 索引操作， 通过列名索引，取列"
   ]
  },
  {
   "cell_type": "code",
   "execution_count": 4,
   "metadata": {},
   "outputs": [
    {
     "data": {
      "text/html": [
       "<div>\n",
       "<style scoped>\n",
       "    .dataframe tbody tr th:only-of-type {\n",
       "        vertical-align: middle;\n",
       "    }\n",
       "\n",
       "    .dataframe tbody tr th {\n",
       "        vertical-align: top;\n",
       "    }\n",
       "\n",
       "    .dataframe thead th {\n",
       "        text-align: right;\n",
       "    }\n",
       "</style>\n",
       "<table border=\"1\" class=\"dataframe\">\n",
       "  <thead>\n",
       "    <tr style=\"text-align: right;\">\n",
       "      <th></th>\n",
       "      <th>one</th>\n",
       "      <th>two</th>\n",
       "    </tr>\n",
       "  </thead>\n",
       "  <tbody>\n",
       "    <tr>\n",
       "      <th>2</th>\n",
       "      <td>3</td>\n",
       "      <td>4</td>\n",
       "    </tr>\n",
       "    <tr>\n",
       "      <th>3</th>\n",
       "      <td>4</td>\n",
       "      <td>5</td>\n",
       "    </tr>\n",
       "  </tbody>\n",
       "</table>\n",
       "</div>"
      ],
      "text/plain": [
       "   one  two\n",
       "2    3    4\n",
       "3    4    5"
      ]
     },
     "execution_count": 4,
     "metadata": {},
     "output_type": "execute_result"
    }
   ],
   "source": [
    "df[[False,False,True,True,False,False]]  # 通过bool数组索引，筛选是否选取行"
   ]
  },
  {
   "cell_type": "code",
   "execution_count": 129,
   "metadata": {},
   "outputs": [
    {
     "data": {
      "text/plain": [
       "0    False\n",
       "1    False\n",
       "2    False\n",
       "3     True\n",
       "4     True\n",
       "5     True\n",
       "Name: one, dtype: bool"
      ]
     },
     "execution_count": 129,
     "metadata": {},
     "output_type": "execute_result"
    }
   ],
   "source": [
    "df['one'] > 3  # 对df或者s使用比较运算符会对其中每一个值应用比较运算，生成一个bool数列"
   ]
  },
  {
   "cell_type": "code",
   "execution_count": 130,
   "metadata": {
    "scrolled": true
   },
   "outputs": [
    {
     "data": {
      "text/html": [
       "<div>\n",
       "<style scoped>\n",
       "    .dataframe tbody tr th:only-of-type {\n",
       "        vertical-align: middle;\n",
       "    }\n",
       "\n",
       "    .dataframe tbody tr th {\n",
       "        vertical-align: top;\n",
       "    }\n",
       "\n",
       "    .dataframe thead th {\n",
       "        text-align: right;\n",
       "    }\n",
       "</style>\n",
       "<table border=\"1\" class=\"dataframe\">\n",
       "  <thead>\n",
       "    <tr style=\"text-align: right;\">\n",
       "      <th></th>\n",
       "      <th>one</th>\n",
       "      <th>two</th>\n",
       "    </tr>\n",
       "  </thead>\n",
       "  <tbody>\n",
       "    <tr>\n",
       "      <th>3</th>\n",
       "      <td>4</td>\n",
       "      <td>5</td>\n",
       "    </tr>\n",
       "    <tr>\n",
       "      <th>4</th>\n",
       "      <td>5</td>\n",
       "      <td>6</td>\n",
       "    </tr>\n",
       "    <tr>\n",
       "      <th>5</th>\n",
       "      <td>6</td>\n",
       "      <td>7</td>\n",
       "    </tr>\n",
       "  </tbody>\n",
       "</table>\n",
       "</div>"
      ],
      "text/plain": [
       "   one  two\n",
       "3    4    5\n",
       "4    5    6\n",
       "5    6    7"
      ]
     },
     "execution_count": 130,
     "metadata": {},
     "output_type": "execute_result"
    }
   ],
   "source": [
    "# 选择满足一定条件的记录\n",
    "df[df['one'] > 3]  # 一维布尔向量对应行索引"
   ]
  },
  {
   "cell_type": "code",
   "execution_count": 5,
   "metadata": {},
   "outputs": [
    {
     "data": {
      "text/html": [
       "<div>\n",
       "<style scoped>\n",
       "    .dataframe tbody tr th:only-of-type {\n",
       "        vertical-align: middle;\n",
       "    }\n",
       "\n",
       "    .dataframe tbody tr th {\n",
       "        vertical-align: top;\n",
       "    }\n",
       "\n",
       "    .dataframe thead th {\n",
       "        text-align: right;\n",
       "    }\n",
       "</style>\n",
       "<table border=\"1\" class=\"dataframe\">\n",
       "  <thead>\n",
       "    <tr style=\"text-align: right;\">\n",
       "      <th></th>\n",
       "      <th>one</th>\n",
       "      <th>two</th>\n",
       "    </tr>\n",
       "  </thead>\n",
       "  <tbody>\n",
       "    <tr>\n",
       "      <th>0</th>\n",
       "      <td>False</td>\n",
       "      <td>False</td>\n",
       "    </tr>\n",
       "    <tr>\n",
       "      <th>1</th>\n",
       "      <td>False</td>\n",
       "      <td>True</td>\n",
       "    </tr>\n",
       "    <tr>\n",
       "      <th>2</th>\n",
       "      <td>True</td>\n",
       "      <td>True</td>\n",
       "    </tr>\n",
       "    <tr>\n",
       "      <th>3</th>\n",
       "      <td>True</td>\n",
       "      <td>True</td>\n",
       "    </tr>\n",
       "    <tr>\n",
       "      <th>4</th>\n",
       "      <td>True</td>\n",
       "      <td>True</td>\n",
       "    </tr>\n",
       "    <tr>\n",
       "      <th>5</th>\n",
       "      <td>True</td>\n",
       "      <td>True</td>\n",
       "    </tr>\n",
       "  </tbody>\n",
       "</table>\n",
       "</div>"
      ],
      "text/plain": [
       "     one    two\n",
       "0  False  False\n",
       "1  False   True\n",
       "2   True   True\n",
       "3   True   True\n",
       "4   True   True\n",
       "5   True   True"
      ]
     },
     "execution_count": 5,
     "metadata": {},
     "output_type": "execute_result"
    }
   ],
   "source": [
    "df>2  # 得到一个bool矩阵"
   ]
  },
  {
   "cell_type": "code",
   "execution_count": 9,
   "metadata": {},
   "outputs": [
    {
     "data": {
      "text/html": [
       "<div>\n",
       "<style scoped>\n",
       "    .dataframe tbody tr th:only-of-type {\n",
       "        vertical-align: middle;\n",
       "    }\n",
       "\n",
       "    .dataframe tbody tr th {\n",
       "        vertical-align: top;\n",
       "    }\n",
       "\n",
       "    .dataframe thead th {\n",
       "        text-align: right;\n",
       "    }\n",
       "</style>\n",
       "<table border=\"1\" class=\"dataframe\">\n",
       "  <thead>\n",
       "    <tr style=\"text-align: right;\">\n",
       "      <th></th>\n",
       "      <th>one</th>\n",
       "      <th>two</th>\n",
       "    </tr>\n",
       "  </thead>\n",
       "  <tbody>\n",
       "    <tr>\n",
       "      <th>0</th>\n",
       "      <td>NaN</td>\n",
       "      <td>NaN</td>\n",
       "    </tr>\n",
       "    <tr>\n",
       "      <th>1</th>\n",
       "      <td>NaN</td>\n",
       "      <td>3.0</td>\n",
       "    </tr>\n",
       "    <tr>\n",
       "      <th>2</th>\n",
       "      <td>3.0</td>\n",
       "      <td>4.0</td>\n",
       "    </tr>\n",
       "    <tr>\n",
       "      <th>3</th>\n",
       "      <td>4.0</td>\n",
       "      <td>5.0</td>\n",
       "    </tr>\n",
       "    <tr>\n",
       "      <th>4</th>\n",
       "      <td>5.0</td>\n",
       "      <td>6.0</td>\n",
       "    </tr>\n",
       "    <tr>\n",
       "      <th>5</th>\n",
       "      <td>6.0</td>\n",
       "      <td>7.0</td>\n",
       "    </tr>\n",
       "  </tbody>\n",
       "</table>\n",
       "</div>"
      ],
      "text/plain": [
       "   one  two\n",
       "0  NaN  NaN\n",
       "1  NaN  3.0\n",
       "2  3.0  4.0\n",
       "3  4.0  5.0\n",
       "4  5.0  6.0\n",
       "5  6.0  7.0"
      ]
     },
     "execution_count": 9,
     "metadata": {},
     "output_type": "execute_result"
    }
   ],
   "source": [
    "df[df>2]"
   ]
  },
  {
   "cell_type": "code",
   "execution_count": 6,
   "metadata": {},
   "outputs": [
    {
     "data": {
      "text/html": [
       "<div>\n",
       "<style scoped>\n",
       "    .dataframe tbody tr th:only-of-type {\n",
       "        vertical-align: middle;\n",
       "    }\n",
       "\n",
       "    .dataframe tbody tr th {\n",
       "        vertical-align: top;\n",
       "    }\n",
       "\n",
       "    .dataframe thead th {\n",
       "        text-align: right;\n",
       "    }\n",
       "</style>\n",
       "<table border=\"1\" class=\"dataframe\">\n",
       "  <thead>\n",
       "    <tr style=\"text-align: right;\">\n",
       "      <th></th>\n",
       "      <th>one</th>\n",
       "      <th>two</th>\n",
       "      <th>three</th>\n",
       "      <th>four</th>\n",
       "    </tr>\n",
       "  </thead>\n",
       "  <tbody>\n",
       "    <tr>\n",
       "      <th>0</th>\n",
       "      <td>1</td>\n",
       "      <td>2</td>\n",
       "      <td>3</td>\n",
       "      <td>False</td>\n",
       "    </tr>\n",
       "    <tr>\n",
       "      <th>1</th>\n",
       "      <td>2</td>\n",
       "      <td>3</td>\n",
       "      <td>5</td>\n",
       "      <td>False</td>\n",
       "    </tr>\n",
       "    <tr>\n",
       "      <th>2</th>\n",
       "      <td>3</td>\n",
       "      <td>4</td>\n",
       "      <td>7</td>\n",
       "      <td>True</td>\n",
       "    </tr>\n",
       "    <tr>\n",
       "      <th>3</th>\n",
       "      <td>4</td>\n",
       "      <td>5</td>\n",
       "      <td>9</td>\n",
       "      <td>True</td>\n",
       "    </tr>\n",
       "    <tr>\n",
       "      <th>4</th>\n",
       "      <td>5</td>\n",
       "      <td>6</td>\n",
       "      <td>11</td>\n",
       "      <td>True</td>\n",
       "    </tr>\n",
       "    <tr>\n",
       "      <th>5</th>\n",
       "      <td>6</td>\n",
       "      <td>7</td>\n",
       "      <td>13</td>\n",
       "      <td>True</td>\n",
       "    </tr>\n",
       "  </tbody>\n",
       "</table>\n",
       "</div>"
      ],
      "text/plain": [
       "   one  two  three   four\n",
       "0    1    2      3  False\n",
       "1    2    3      5  False\n",
       "2    3    4      7   True\n",
       "3    4    5      9   True\n",
       "4    5    6     11   True\n",
       "5    6    7     13   True"
      ]
     },
     "execution_count": 6,
     "metadata": {},
     "output_type": "execute_result"
    }
   ],
   "source": [
    "# 基于已有列添加新列\n",
    "df['three'] = df['one'] + df['two']  # 直接给新的列名 的列赋值，就可以增加一个列\n",
    "df['four'] = df['one'] > 2\n",
    "df"
   ]
  },
  {
   "cell_type": "code",
   "execution_count": 7,
   "metadata": {
    "scrolled": true
   },
   "outputs": [
    {
     "data": {
      "text/html": [
       "<div>\n",
       "<style scoped>\n",
       "    .dataframe tbody tr th:only-of-type {\n",
       "        vertical-align: middle;\n",
       "    }\n",
       "\n",
       "    .dataframe tbody tr th {\n",
       "        vertical-align: top;\n",
       "    }\n",
       "\n",
       "    .dataframe thead th {\n",
       "        text-align: right;\n",
       "    }\n",
       "</style>\n",
       "<table border=\"1\" class=\"dataframe\">\n",
       "  <thead>\n",
       "    <tr style=\"text-align: right;\">\n",
       "      <th></th>\n",
       "      <th>one</th>\n",
       "      <th>two</th>\n",
       "      <th>three</th>\n",
       "      <th>four</th>\n",
       "      <th>five</th>\n",
       "    </tr>\n",
       "  </thead>\n",
       "  <tbody>\n",
       "    <tr>\n",
       "      <th>0</th>\n",
       "      <td>1</td>\n",
       "      <td>2</td>\n",
       "      <td>3</td>\n",
       "      <td>False</td>\n",
       "      <td>9999</td>\n",
       "    </tr>\n",
       "    <tr>\n",
       "      <th>1</th>\n",
       "      <td>2</td>\n",
       "      <td>3</td>\n",
       "      <td>5</td>\n",
       "      <td>False</td>\n",
       "      <td>9999</td>\n",
       "    </tr>\n",
       "    <tr>\n",
       "      <th>2</th>\n",
       "      <td>3</td>\n",
       "      <td>4</td>\n",
       "      <td>7</td>\n",
       "      <td>True</td>\n",
       "      <td>9999</td>\n",
       "    </tr>\n",
       "    <tr>\n",
       "      <th>3</th>\n",
       "      <td>4</td>\n",
       "      <td>5</td>\n",
       "      <td>9</td>\n",
       "      <td>True</td>\n",
       "      <td>9999</td>\n",
       "    </tr>\n",
       "    <tr>\n",
       "      <th>4</th>\n",
       "      <td>5</td>\n",
       "      <td>6</td>\n",
       "      <td>11</td>\n",
       "      <td>True</td>\n",
       "      <td>9999</td>\n",
       "    </tr>\n",
       "    <tr>\n",
       "      <th>5</th>\n",
       "      <td>6</td>\n",
       "      <td>7</td>\n",
       "      <td>13</td>\n",
       "      <td>True</td>\n",
       "      <td>9999</td>\n",
       "    </tr>\n",
       "  </tbody>\n",
       "</table>\n",
       "</div>"
      ],
      "text/plain": [
       "   one  two  three   four  five\n",
       "0    1    2      3  False  9999\n",
       "1    2    3      5  False  9999\n",
       "2    3    4      7   True  9999\n",
       "3    4    5      9   True  9999\n",
       "4    5    6     11   True  9999\n",
       "5    6    7     13   True  9999"
      ]
     },
     "execution_count": 7,
     "metadata": {},
     "output_type": "execute_result"
    }
   ],
   "source": [
    "# 添加一个新的列，并赋值一个标量，\n",
    "#则会自动为整个列赋值为该标量值\n",
    "df['five'] = 9999\n",
    "df"
   ]
  },
  {
   "cell_type": "code",
   "execution_count": 8,
   "metadata": {},
   "outputs": [
    {
     "data": {
      "text/html": [
       "<div>\n",
       "<style scoped>\n",
       "    .dataframe tbody tr th:only-of-type {\n",
       "        vertical-align: middle;\n",
       "    }\n",
       "\n",
       "    .dataframe tbody tr th {\n",
       "        vertical-align: top;\n",
       "    }\n",
       "\n",
       "    .dataframe thead th {\n",
       "        text-align: right;\n",
       "    }\n",
       "</style>\n",
       "<table border=\"1\" class=\"dataframe\">\n",
       "  <thead>\n",
       "    <tr style=\"text-align: right;\">\n",
       "      <th></th>\n",
       "      <th>one</th>\n",
       "      <th>two</th>\n",
       "      <th>three</th>\n",
       "      <th>four</th>\n",
       "      <th>five</th>\n",
       "      <th>six</th>\n",
       "    </tr>\n",
       "  </thead>\n",
       "  <tbody>\n",
       "    <tr>\n",
       "      <th>0</th>\n",
       "      <td>1</td>\n",
       "      <td>2</td>\n",
       "      <td>3</td>\n",
       "      <td>False</td>\n",
       "      <td>9999</td>\n",
       "      <td>NaN</td>\n",
       "    </tr>\n",
       "    <tr>\n",
       "      <th>1</th>\n",
       "      <td>2</td>\n",
       "      <td>3</td>\n",
       "      <td>5</td>\n",
       "      <td>False</td>\n",
       "      <td>9999</td>\n",
       "      <td>b</td>\n",
       "    </tr>\n",
       "    <tr>\n",
       "      <th>2</th>\n",
       "      <td>3</td>\n",
       "      <td>4</td>\n",
       "      <td>7</td>\n",
       "      <td>True</td>\n",
       "      <td>9999</td>\n",
       "      <td>c</td>\n",
       "    </tr>\n",
       "    <tr>\n",
       "      <th>3</th>\n",
       "      <td>4</td>\n",
       "      <td>5</td>\n",
       "      <td>9</td>\n",
       "      <td>True</td>\n",
       "      <td>9999</td>\n",
       "      <td>d</td>\n",
       "    </tr>\n",
       "    <tr>\n",
       "      <th>4</th>\n",
       "      <td>5</td>\n",
       "      <td>6</td>\n",
       "      <td>11</td>\n",
       "      <td>True</td>\n",
       "      <td>9999</td>\n",
       "      <td>NaN</td>\n",
       "    </tr>\n",
       "    <tr>\n",
       "      <th>5</th>\n",
       "      <td>6</td>\n",
       "      <td>7</td>\n",
       "      <td>13</td>\n",
       "      <td>True</td>\n",
       "      <td>9999</td>\n",
       "      <td>NaN</td>\n",
       "    </tr>\n",
       "  </tbody>\n",
       "</table>\n",
       "</div>"
      ],
      "text/plain": [
       "   one  two  three   four  five  six\n",
       "0    1    2      3  False  9999  NaN\n",
       "1    2    3      5  False  9999    b\n",
       "2    3    4      7   True  9999    c\n",
       "3    4    5      9   True  9999    d\n",
       "4    5    6     11   True  9999  NaN\n",
       "5    6    7     13   True  9999  NaN"
      ]
     },
     "execution_count": 8,
     "metadata": {},
     "output_type": "execute_result"
    }
   ],
   "source": [
    "df['six'] = pd.Series(['b','c','d'],index = [1,2,3])   # 添加的列会和原df的索引自动对齐\n",
    "df\n"
   ]
  },
  {
   "cell_type": "code",
   "execution_count": 9,
   "metadata": {},
   "outputs": [
    {
     "data": {
      "text/html": [
       "<div>\n",
       "<style scoped>\n",
       "    .dataframe tbody tr th:only-of-type {\n",
       "        vertical-align: middle;\n",
       "    }\n",
       "\n",
       "    .dataframe tbody tr th {\n",
       "        vertical-align: top;\n",
       "    }\n",
       "\n",
       "    .dataframe thead th {\n",
       "        text-align: right;\n",
       "    }\n",
       "</style>\n",
       "<table border=\"1\" class=\"dataframe\">\n",
       "  <thead>\n",
       "    <tr style=\"text-align: right;\">\n",
       "      <th></th>\n",
       "      <th>one</th>\n",
       "      <th>two</th>\n",
       "      <th>insert_col2</th>\n",
       "      <th>three</th>\n",
       "      <th>four</th>\n",
       "      <th>five</th>\n",
       "      <th>six</th>\n",
       "    </tr>\n",
       "  </thead>\n",
       "  <tbody>\n",
       "    <tr>\n",
       "      <th>0</th>\n",
       "      <td>1</td>\n",
       "      <td>2</td>\n",
       "      <td>a</td>\n",
       "      <td>3</td>\n",
       "      <td>False</td>\n",
       "      <td>9999</td>\n",
       "      <td>NaN</td>\n",
       "    </tr>\n",
       "    <tr>\n",
       "      <th>1</th>\n",
       "      <td>2</td>\n",
       "      <td>3</td>\n",
       "      <td>b</td>\n",
       "      <td>5</td>\n",
       "      <td>False</td>\n",
       "      <td>9999</td>\n",
       "      <td>b</td>\n",
       "    </tr>\n",
       "    <tr>\n",
       "      <th>2</th>\n",
       "      <td>3</td>\n",
       "      <td>4</td>\n",
       "      <td>c</td>\n",
       "      <td>7</td>\n",
       "      <td>True</td>\n",
       "      <td>9999</td>\n",
       "      <td>c</td>\n",
       "    </tr>\n",
       "    <tr>\n",
       "      <th>3</th>\n",
       "      <td>4</td>\n",
       "      <td>5</td>\n",
       "      <td>d</td>\n",
       "      <td>9</td>\n",
       "      <td>True</td>\n",
       "      <td>9999</td>\n",
       "      <td>d</td>\n",
       "    </tr>\n",
       "    <tr>\n",
       "      <th>4</th>\n",
       "      <td>5</td>\n",
       "      <td>6</td>\n",
       "      <td>e</td>\n",
       "      <td>11</td>\n",
       "      <td>True</td>\n",
       "      <td>9999</td>\n",
       "      <td>NaN</td>\n",
       "    </tr>\n",
       "    <tr>\n",
       "      <th>5</th>\n",
       "      <td>6</td>\n",
       "      <td>7</td>\n",
       "      <td>f</td>\n",
       "      <td>13</td>\n",
       "      <td>True</td>\n",
       "      <td>9999</td>\n",
       "      <td>NaN</td>\n",
       "    </tr>\n",
       "  </tbody>\n",
       "</table>\n",
       "</div>"
      ],
      "text/plain": [
       "   one  two insert_col2  three   four  five  six\n",
       "0    1    2           a      3  False  9999  NaN\n",
       "1    2    3           b      5  False  9999    b\n",
       "2    3    4           c      7   True  9999    c\n",
       "3    4    5           d      9   True  9999    d\n",
       "4    5    6           e     11   True  9999  NaN\n",
       "5    6    7           f     13   True  9999  NaN"
      ]
     },
     "execution_count": 9,
     "metadata": {},
     "output_type": "execute_result"
    }
   ],
   "source": [
    "df.insert(2,'insert_col2',list('abcdef')) # 插入列\n",
    "df"
   ]
  },
  {
   "cell_type": "code",
   "execution_count": 10,
   "metadata": {},
   "outputs": [
    {
     "data": {
      "text/html": [
       "<div>\n",
       "<style scoped>\n",
       "    .dataframe tbody tr th:only-of-type {\n",
       "        vertical-align: middle;\n",
       "    }\n",
       "\n",
       "    .dataframe tbody tr th {\n",
       "        vertical-align: top;\n",
       "    }\n",
       "\n",
       "    .dataframe thead th {\n",
       "        text-align: right;\n",
       "    }\n",
       "</style>\n",
       "<table border=\"1\" class=\"dataframe\">\n",
       "  <thead>\n",
       "    <tr style=\"text-align: right;\">\n",
       "      <th></th>\n",
       "      <th>one</th>\n",
       "      <th>two</th>\n",
       "      <th>insert_col2</th>\n",
       "      <th>three</th>\n",
       "      <th>four</th>\n",
       "      <th>five</th>\n",
       "      <th>six</th>\n",
       "    </tr>\n",
       "  </thead>\n",
       "  <tbody>\n",
       "    <tr>\n",
       "      <th>3</th>\n",
       "      <td>4</td>\n",
       "      <td>5</td>\n",
       "      <td>d</td>\n",
       "      <td>9</td>\n",
       "      <td>True</td>\n",
       "      <td>9999</td>\n",
       "      <td>d</td>\n",
       "    </tr>\n",
       "    <tr>\n",
       "      <th>4</th>\n",
       "      <td>5</td>\n",
       "      <td>6</td>\n",
       "      <td>e</td>\n",
       "      <td>11</td>\n",
       "      <td>True</td>\n",
       "      <td>9999</td>\n",
       "      <td>NaN</td>\n",
       "    </tr>\n",
       "    <tr>\n",
       "      <th>5</th>\n",
       "      <td>6</td>\n",
       "      <td>7</td>\n",
       "      <td>f</td>\n",
       "      <td>13</td>\n",
       "      <td>True</td>\n",
       "      <td>9999</td>\n",
       "      <td>NaN</td>\n",
       "    </tr>\n",
       "  </tbody>\n",
       "</table>\n",
       "</div>"
      ],
      "text/plain": [
       "   one  two insert_col2  three  four  five  six\n",
       "3    4    5           d      9  True  9999    d\n",
       "4    5    6           e     11  True  9999  NaN\n",
       "5    6    7           f     13  True  9999  NaN"
      ]
     },
     "execution_count": 10,
     "metadata": {},
     "output_type": "execute_result"
    }
   ],
   "source": [
    "# 选择满足一定条件的记录\n",
    "df[df['one'] > 3]"
   ]
  },
  {
   "cell_type": "code",
   "execution_count": 11,
   "metadata": {},
   "outputs": [
    {
     "data": {
      "text/plain": [
       "0     3\n",
       "1     5\n",
       "2     7\n",
       "3     9\n",
       "4    11\n",
       "5    13\n",
       "Name: three, dtype: int64"
      ]
     },
     "execution_count": 11,
     "metadata": {},
     "output_type": "execute_result"
    }
   ],
   "source": [
    "df[\"three\"] = df[\"one\"] + df[\"two\"]\n",
    "three = df.pop('three')  # 弹出，删除这一列，并且返回这一列的series\n",
    "three"
   ]
  },
  {
   "cell_type": "code",
   "execution_count": 12,
   "metadata": {},
   "outputs": [
    {
     "data": {
      "text/html": [
       "<div>\n",
       "<style scoped>\n",
       "    .dataframe tbody tr th:only-of-type {\n",
       "        vertical-align: middle;\n",
       "    }\n",
       "\n",
       "    .dataframe tbody tr th {\n",
       "        vertical-align: top;\n",
       "    }\n",
       "\n",
       "    .dataframe thead th {\n",
       "        text-align: right;\n",
       "    }\n",
       "</style>\n",
       "<table border=\"1\" class=\"dataframe\">\n",
       "  <thead>\n",
       "    <tr style=\"text-align: right;\">\n",
       "      <th></th>\n",
       "      <th>one</th>\n",
       "      <th>two</th>\n",
       "      <th>insert_col2</th>\n",
       "      <th>four</th>\n",
       "      <th>five</th>\n",
       "      <th>six</th>\n",
       "    </tr>\n",
       "  </thead>\n",
       "  <tbody>\n",
       "    <tr>\n",
       "      <th>0</th>\n",
       "      <td>1</td>\n",
       "      <td>2</td>\n",
       "      <td>a</td>\n",
       "      <td>False</td>\n",
       "      <td>9999</td>\n",
       "      <td>NaN</td>\n",
       "    </tr>\n",
       "    <tr>\n",
       "      <th>1</th>\n",
       "      <td>2</td>\n",
       "      <td>3</td>\n",
       "      <td>b</td>\n",
       "      <td>False</td>\n",
       "      <td>9999</td>\n",
       "      <td>b</td>\n",
       "    </tr>\n",
       "    <tr>\n",
       "      <th>2</th>\n",
       "      <td>3</td>\n",
       "      <td>4</td>\n",
       "      <td>c</td>\n",
       "      <td>True</td>\n",
       "      <td>9999</td>\n",
       "      <td>c</td>\n",
       "    </tr>\n",
       "    <tr>\n",
       "      <th>3</th>\n",
       "      <td>4</td>\n",
       "      <td>5</td>\n",
       "      <td>d</td>\n",
       "      <td>True</td>\n",
       "      <td>9999</td>\n",
       "      <td>d</td>\n",
       "    </tr>\n",
       "    <tr>\n",
       "      <th>4</th>\n",
       "      <td>5</td>\n",
       "      <td>6</td>\n",
       "      <td>e</td>\n",
       "      <td>True</td>\n",
       "      <td>9999</td>\n",
       "      <td>NaN</td>\n",
       "    </tr>\n",
       "    <tr>\n",
       "      <th>5</th>\n",
       "      <td>6</td>\n",
       "      <td>7</td>\n",
       "      <td>f</td>\n",
       "      <td>True</td>\n",
       "      <td>9999</td>\n",
       "      <td>NaN</td>\n",
       "    </tr>\n",
       "  </tbody>\n",
       "</table>\n",
       "</div>"
      ],
      "text/plain": [
       "   one  two insert_col2   four  five  six\n",
       "0    1    2           a  False  9999  NaN\n",
       "1    2    3           b  False  9999    b\n",
       "2    3    4           c   True  9999    c\n",
       "3    4    5           d   True  9999    d\n",
       "4    5    6           e   True  9999  NaN\n",
       "5    6    7           f   True  9999  NaN"
      ]
     },
     "execution_count": 12,
     "metadata": {},
     "output_type": "execute_result"
    }
   ],
   "source": [
    "df"
   ]
  },
  {
   "cell_type": "code",
   "execution_count": 13,
   "metadata": {},
   "outputs": [],
   "source": [
    "del df['two']  # 字典的写法"
   ]
  },
  {
   "cell_type": "code",
   "execution_count": 15,
   "metadata": {
    "scrolled": true
   },
   "outputs": [
    {
     "data": {
      "text/html": [
       "<div>\n",
       "<style scoped>\n",
       "    .dataframe tbody tr th:only-of-type {\n",
       "        vertical-align: middle;\n",
       "    }\n",
       "\n",
       "    .dataframe tbody tr th {\n",
       "        vertical-align: top;\n",
       "    }\n",
       "\n",
       "    .dataframe thead th {\n",
       "        text-align: right;\n",
       "    }\n",
       "</style>\n",
       "<table border=\"1\" class=\"dataframe\">\n",
       "  <thead>\n",
       "    <tr style=\"text-align: right;\">\n",
       "      <th></th>\n",
       "      <th>one</th>\n",
       "      <th>insert_col2</th>\n",
       "      <th>four</th>\n",
       "      <th>five</th>\n",
       "      <th>six</th>\n",
       "    </tr>\n",
       "  </thead>\n",
       "  <tbody>\n",
       "    <tr>\n",
       "      <th>0</th>\n",
       "      <td>1.0</td>\n",
       "      <td>a</td>\n",
       "      <td>0.0</td>\n",
       "      <td>9999.0</td>\n",
       "      <td>NaN</td>\n",
       "    </tr>\n",
       "    <tr>\n",
       "      <th>1</th>\n",
       "      <td>2.0</td>\n",
       "      <td>b</td>\n",
       "      <td>0.0</td>\n",
       "      <td>9999.0</td>\n",
       "      <td>b</td>\n",
       "    </tr>\n",
       "    <tr>\n",
       "      <th>2</th>\n",
       "      <td>3.0</td>\n",
       "      <td>c</td>\n",
       "      <td>1.0</td>\n",
       "      <td>9999.0</td>\n",
       "      <td>c</td>\n",
       "    </tr>\n",
       "    <tr>\n",
       "      <th>3</th>\n",
       "      <td>4.0</td>\n",
       "      <td>d</td>\n",
       "      <td>1.0</td>\n",
       "      <td>9999.0</td>\n",
       "      <td>d</td>\n",
       "    </tr>\n",
       "    <tr>\n",
       "      <th>4</th>\n",
       "      <td>5.0</td>\n",
       "      <td>e</td>\n",
       "      <td>1.0</td>\n",
       "      <td>9999.0</td>\n",
       "      <td>NaN</td>\n",
       "    </tr>\n",
       "    <tr>\n",
       "      <th>5</th>\n",
       "      <td>6.0</td>\n",
       "      <td>f</td>\n",
       "      <td>1.0</td>\n",
       "      <td>9999.0</td>\n",
       "      <td>NaN</td>\n",
       "    </tr>\n",
       "    <tr>\n",
       "      <th>6</th>\n",
       "      <td>12.0</td>\n",
       "      <td>NaN</td>\n",
       "      <td>NaN</td>\n",
       "      <td>NaN</td>\n",
       "      <td>NaN</td>\n",
       "    </tr>\n",
       "  </tbody>\n",
       "</table>\n",
       "</div>"
      ],
      "text/plain": [
       "    one insert_col2  four    five  six\n",
       "0   1.0           a   0.0  9999.0  NaN\n",
       "1   2.0           b   0.0  9999.0    b\n",
       "2   3.0           c   1.0  9999.0    c\n",
       "3   4.0           d   1.0  9999.0    d\n",
       "4   5.0           e   1.0  9999.0  NaN\n",
       "5   6.0           f   1.0  9999.0  NaN\n",
       "6  12.0         NaN   NaN     NaN  NaN"
      ]
     },
     "execution_count": 15,
     "metadata": {},
     "output_type": "execute_result"
    }
   ],
   "source": [
    "df = df.append({\"one\":12},ignore_index=True) # 生成一个新的df\n",
    "df"
   ]
  },
  {
   "cell_type": "code",
   "execution_count": 19,
   "metadata": {},
   "outputs": [
    {
     "data": {
      "text/html": [
       "<div>\n",
       "<style scoped>\n",
       "    .dataframe tbody tr th:only-of-type {\n",
       "        vertical-align: middle;\n",
       "    }\n",
       "\n",
       "    .dataframe tbody tr th {\n",
       "        vertical-align: top;\n",
       "    }\n",
       "\n",
       "    .dataframe thead th {\n",
       "        text-align: right;\n",
       "    }\n",
       "</style>\n",
       "<table border=\"1\" class=\"dataframe\">\n",
       "  <thead>\n",
       "    <tr style=\"text-align: right;\">\n",
       "      <th></th>\n",
       "      <th>one</th>\n",
       "      <th>insert_col2</th>\n",
       "      <th>four</th>\n",
       "      <th>five</th>\n",
       "      <th>six</th>\n",
       "    </tr>\n",
       "  </thead>\n",
       "  <tbody>\n",
       "    <tr>\n",
       "      <th>0</th>\n",
       "      <td>1.0</td>\n",
       "      <td>a</td>\n",
       "      <td>0.0</td>\n",
       "      <td>9999.0</td>\n",
       "      <td>NaN</td>\n",
       "    </tr>\n",
       "    <tr>\n",
       "      <th>1</th>\n",
       "      <td>2.0</td>\n",
       "      <td>b</td>\n",
       "      <td>0.0</td>\n",
       "      <td>9999.0</td>\n",
       "      <td>b</td>\n",
       "    </tr>\n",
       "    <tr>\n",
       "      <th>2</th>\n",
       "      <td>3.0</td>\n",
       "      <td>c</td>\n",
       "      <td>1.0</td>\n",
       "      <td>9999.0</td>\n",
       "      <td>c</td>\n",
       "    </tr>\n",
       "    <tr>\n",
       "      <th>3</th>\n",
       "      <td>4.0</td>\n",
       "      <td>d</td>\n",
       "      <td>1.0</td>\n",
       "      <td>9999.0</td>\n",
       "      <td>d</td>\n",
       "    </tr>\n",
       "    <tr>\n",
       "      <th>4</th>\n",
       "      <td>5.0</td>\n",
       "      <td>e</td>\n",
       "      <td>1.0</td>\n",
       "      <td>9999.0</td>\n",
       "      <td>NaN</td>\n",
       "    </tr>\n",
       "    <tr>\n",
       "      <th>5</th>\n",
       "      <td>6.0</td>\n",
       "      <td>f</td>\n",
       "      <td>1.0</td>\n",
       "      <td>9999.0</td>\n",
       "      <td>NaN</td>\n",
       "    </tr>\n",
       "  </tbody>\n",
       "</table>\n",
       "</div>"
      ],
      "text/plain": [
       "   one insert_col2  four    five  six\n",
       "0  1.0           a   0.0  9999.0  NaN\n",
       "1  2.0           b   0.0  9999.0    b\n",
       "2  3.0           c   1.0  9999.0    c\n",
       "3  4.0           d   1.0  9999.0    d\n",
       "4  5.0           e   1.0  9999.0  NaN\n",
       "5  6.0           f   1.0  9999.0  NaN"
      ]
     },
     "execution_count": 19,
     "metadata": {},
     "output_type": "execute_result"
    }
   ],
   "source": [
    "# 删除行号为6的行\n",
    "df.drop(6,inplace=True,axis=0)  # inplace=True直接在原df上drop，默认生成一个新的dataframe\n",
    "df"
   ]
  },
  {
   "cell_type": "code",
   "execution_count": 20,
   "metadata": {},
   "outputs": [
    {
     "data": {
      "text/html": [
       "<div>\n",
       "<style scoped>\n",
       "    .dataframe tbody tr th:only-of-type {\n",
       "        vertical-align: middle;\n",
       "    }\n",
       "\n",
       "    .dataframe tbody tr th {\n",
       "        vertical-align: top;\n",
       "    }\n",
       "\n",
       "    .dataframe thead th {\n",
       "        text-align: right;\n",
       "    }\n",
       "</style>\n",
       "<table border=\"1\" class=\"dataframe\">\n",
       "  <thead>\n",
       "    <tr style=\"text-align: right;\">\n",
       "      <th></th>\n",
       "      <th>one</th>\n",
       "      <th>four</th>\n",
       "      <th>five</th>\n",
       "      <th>six</th>\n",
       "    </tr>\n",
       "  </thead>\n",
       "  <tbody>\n",
       "    <tr>\n",
       "      <th>0</th>\n",
       "      <td>1.0</td>\n",
       "      <td>0.0</td>\n",
       "      <td>9999.0</td>\n",
       "      <td>NaN</td>\n",
       "    </tr>\n",
       "    <tr>\n",
       "      <th>1</th>\n",
       "      <td>2.0</td>\n",
       "      <td>0.0</td>\n",
       "      <td>9999.0</td>\n",
       "      <td>b</td>\n",
       "    </tr>\n",
       "    <tr>\n",
       "      <th>2</th>\n",
       "      <td>3.0</td>\n",
       "      <td>1.0</td>\n",
       "      <td>9999.0</td>\n",
       "      <td>c</td>\n",
       "    </tr>\n",
       "    <tr>\n",
       "      <th>3</th>\n",
       "      <td>4.0</td>\n",
       "      <td>1.0</td>\n",
       "      <td>9999.0</td>\n",
       "      <td>d</td>\n",
       "    </tr>\n",
       "    <tr>\n",
       "      <th>4</th>\n",
       "      <td>5.0</td>\n",
       "      <td>1.0</td>\n",
       "      <td>9999.0</td>\n",
       "      <td>NaN</td>\n",
       "    </tr>\n",
       "    <tr>\n",
       "      <th>5</th>\n",
       "      <td>6.0</td>\n",
       "      <td>1.0</td>\n",
       "      <td>9999.0</td>\n",
       "      <td>NaN</td>\n",
       "    </tr>\n",
       "  </tbody>\n",
       "</table>\n",
       "</div>"
      ],
      "text/plain": [
       "   one  four    five  six\n",
       "0  1.0   0.0  9999.0  NaN\n",
       "1  2.0   0.0  9999.0    b\n",
       "2  3.0   1.0  9999.0    c\n",
       "3  4.0   1.0  9999.0    d\n",
       "4  5.0   1.0  9999.0  NaN\n",
       "5  6.0   1.0  9999.0  NaN"
      ]
     },
     "execution_count": 20,
     "metadata": {},
     "output_type": "execute_result"
    }
   ],
   "source": [
    "df.drop(\"insert_col2\", axis=1)  #删除一列, inplace默认False，不在原df中删除，会返回一个删除了列的新df"
   ]
  },
  {
   "cell_type": "code",
   "execution_count": 21,
   "metadata": {},
   "outputs": [
    {
     "data": {
      "text/html": [
       "<div>\n",
       "<style scoped>\n",
       "    .dataframe tbody tr th:only-of-type {\n",
       "        vertical-align: middle;\n",
       "    }\n",
       "\n",
       "    .dataframe tbody tr th {\n",
       "        vertical-align: top;\n",
       "    }\n",
       "\n",
       "    .dataframe thead th {\n",
       "        text-align: right;\n",
       "    }\n",
       "</style>\n",
       "<table border=\"1\" class=\"dataframe\">\n",
       "  <thead>\n",
       "    <tr style=\"text-align: right;\">\n",
       "      <th></th>\n",
       "      <th>one</th>\n",
       "      <th>insert_col2</th>\n",
       "      <th>four</th>\n",
       "      <th>five</th>\n",
       "      <th>six</th>\n",
       "    </tr>\n",
       "  </thead>\n",
       "  <tbody>\n",
       "    <tr>\n",
       "      <th>0</th>\n",
       "      <td>1.0</td>\n",
       "      <td>a</td>\n",
       "      <td>0.0</td>\n",
       "      <td>9999.0</td>\n",
       "      <td>NaN</td>\n",
       "    </tr>\n",
       "    <tr>\n",
       "      <th>1</th>\n",
       "      <td>2.0</td>\n",
       "      <td>b</td>\n",
       "      <td>0.0</td>\n",
       "      <td>9999.0</td>\n",
       "      <td>b</td>\n",
       "    </tr>\n",
       "    <tr>\n",
       "      <th>2</th>\n",
       "      <td>3.0</td>\n",
       "      <td>c</td>\n",
       "      <td>1.0</td>\n",
       "      <td>9999.0</td>\n",
       "      <td>c</td>\n",
       "    </tr>\n",
       "    <tr>\n",
       "      <th>3</th>\n",
       "      <td>4.0</td>\n",
       "      <td>d</td>\n",
       "      <td>1.0</td>\n",
       "      <td>9999.0</td>\n",
       "      <td>d</td>\n",
       "    </tr>\n",
       "    <tr>\n",
       "      <th>4</th>\n",
       "      <td>5.0</td>\n",
       "      <td>e</td>\n",
       "      <td>1.0</td>\n",
       "      <td>9999.0</td>\n",
       "      <td>NaN</td>\n",
       "    </tr>\n",
       "    <tr>\n",
       "      <th>5</th>\n",
       "      <td>6.0</td>\n",
       "      <td>f</td>\n",
       "      <td>1.0</td>\n",
       "      <td>9999.0</td>\n",
       "      <td>NaN</td>\n",
       "    </tr>\n",
       "  </tbody>\n",
       "</table>\n",
       "</div>"
      ],
      "text/plain": [
       "   one insert_col2  four    five  six\n",
       "0  1.0           a   0.0  9999.0  NaN\n",
       "1  2.0           b   0.0  9999.0    b\n",
       "2  3.0           c   1.0  9999.0    c\n",
       "3  4.0           d   1.0  9999.0    d\n",
       "4  5.0           e   1.0  9999.0  NaN\n",
       "5  6.0           f   1.0  9999.0  NaN"
      ]
     },
     "execution_count": 21,
     "metadata": {},
     "output_type": "execute_result"
    }
   ],
   "source": [
    "df"
   ]
  },
  {
   "cell_type": "code",
   "execution_count": 18,
   "metadata": {
    "scrolled": true
   },
   "outputs": [
    {
     "data": {
      "text/html": [
       "<div>\n",
       "<style scoped>\n",
       "    .dataframe tbody tr th:only-of-type {\n",
       "        vertical-align: middle;\n",
       "    }\n",
       "\n",
       "    .dataframe tbody tr th {\n",
       "        vertical-align: top;\n",
       "    }\n",
       "\n",
       "    .dataframe thead th {\n",
       "        text-align: right;\n",
       "    }\n",
       "</style>\n",
       "<table border=\"1\" class=\"dataframe\">\n",
       "  <thead>\n",
       "    <tr style=\"text-align: right;\">\n",
       "      <th></th>\n",
       "      <th>one</th>\n",
       "      <th>two</th>\n",
       "      <th>insert_col2</th>\n",
       "      <th>three</th>\n",
       "      <th>four</th>\n",
       "      <th>series</th>\n",
       "    </tr>\n",
       "  </thead>\n",
       "  <tbody>\n",
       "    <tr>\n",
       "      <th>0</th>\n",
       "      <td>1.0</td>\n",
       "      <td>2.0</td>\n",
       "      <td>a</td>\n",
       "      <td>3.0</td>\n",
       "      <td>0.0</td>\n",
       "      <td>NaN</td>\n",
       "    </tr>\n",
       "    <tr>\n",
       "      <th>1</th>\n",
       "      <td>2.0</td>\n",
       "      <td>3.0</td>\n",
       "      <td>b</td>\n",
       "      <td>5.0</td>\n",
       "      <td>0.0</td>\n",
       "      <td>b</td>\n",
       "    </tr>\n",
       "    <tr>\n",
       "      <th>2</th>\n",
       "      <td>3.0</td>\n",
       "      <td>4.0</td>\n",
       "      <td>c</td>\n",
       "      <td>7.0</td>\n",
       "      <td>1.0</td>\n",
       "      <td>c</td>\n",
       "    </tr>\n",
       "    <tr>\n",
       "      <th>3</th>\n",
       "      <td>4.0</td>\n",
       "      <td>5.0</td>\n",
       "      <td>d</td>\n",
       "      <td>9.0</td>\n",
       "      <td>1.0</td>\n",
       "      <td>d</td>\n",
       "    </tr>\n",
       "    <tr>\n",
       "      <th>4</th>\n",
       "      <td>5.0</td>\n",
       "      <td>6.0</td>\n",
       "      <td>e</td>\n",
       "      <td>11.0</td>\n",
       "      <td>1.0</td>\n",
       "      <td>NaN</td>\n",
       "    </tr>\n",
       "    <tr>\n",
       "      <th>5</th>\n",
       "      <td>6.0</td>\n",
       "      <td>7.0</td>\n",
       "      <td>f</td>\n",
       "      <td>13.0</td>\n",
       "      <td>1.0</td>\n",
       "      <td>NaN</td>\n",
       "    </tr>\n",
       "  </tbody>\n",
       "</table>\n",
       "</div>"
      ],
      "text/plain": [
       "   one  two insert_col2  three  four series\n",
       "0  1.0  2.0           a    3.0   0.0    NaN\n",
       "1  2.0  3.0           b    5.0   0.0      b\n",
       "2  3.0  4.0           c    7.0   1.0      c\n",
       "3  4.0  5.0           d    9.0   1.0      d\n",
       "4  5.0  6.0           e   11.0   1.0    NaN\n",
       "5  6.0  7.0           f   13.0   1.0    NaN"
      ]
     },
     "execution_count": 18,
     "metadata": {},
     "output_type": "execute_result"
    }
   ],
   "source": [
    "# 当为新的列赋值为Series对象时，\n",
    "# 将会根据索引来进行匹配，没有匹配到索引的，将会填充为NaN\n",
    "df['series'] = pd.Series(['b','c','d'],index = [1,2,3])\n",
    "df"
   ]
  },
  {
   "cell_type": "code",
   "execution_count": 96,
   "metadata": {},
   "outputs": [
    {
     "data": {
      "text/html": [
       "<div>\n",
       "<style scoped>\n",
       "    .dataframe tbody tr th:only-of-type {\n",
       "        vertical-align: middle;\n",
       "    }\n",
       "\n",
       "    .dataframe tbody tr th {\n",
       "        vertical-align: top;\n",
       "    }\n",
       "\n",
       "    .dataframe thead th {\n",
       "        text-align: right;\n",
       "    }\n",
       "</style>\n",
       "<table border=\"1\" class=\"dataframe\">\n",
       "  <thead>\n",
       "    <tr style=\"text-align: right;\">\n",
       "      <th></th>\n",
       "      <th>one</th>\n",
       "      <th>insert_col2</th>\n",
       "      <th>insert_col</th>\n",
       "      <th>four</th>\n",
       "      <th>five</th>\n",
       "      <th>six</th>\n",
       "      <th>series</th>\n",
       "    </tr>\n",
       "  </thead>\n",
       "  <tbody>\n",
       "    <tr>\n",
       "      <th>0</th>\n",
       "      <td>1</td>\n",
       "      <td>a</td>\n",
       "      <td>a</td>\n",
       "      <td>False</td>\n",
       "      <td>9999</td>\n",
       "      <td>NaN</td>\n",
       "      <td>NaN</td>\n",
       "    </tr>\n",
       "    <tr>\n",
       "      <th>1</th>\n",
       "      <td>2</td>\n",
       "      <td>b</td>\n",
       "      <td>b</td>\n",
       "      <td>False</td>\n",
       "      <td>9999</td>\n",
       "      <td>b</td>\n",
       "      <td>b</td>\n",
       "    </tr>\n",
       "    <tr>\n",
       "      <th>2</th>\n",
       "      <td>3</td>\n",
       "      <td>c</td>\n",
       "      <td>c</td>\n",
       "      <td>True</td>\n",
       "      <td>9999</td>\n",
       "      <td>c</td>\n",
       "      <td>c</td>\n",
       "    </tr>\n",
       "    <tr>\n",
       "      <th>3</th>\n",
       "      <td>4</td>\n",
       "      <td>d</td>\n",
       "      <td>d</td>\n",
       "      <td>True</td>\n",
       "      <td>9999</td>\n",
       "      <td>d</td>\n",
       "      <td>d</td>\n",
       "    </tr>\n",
       "    <tr>\n",
       "      <th>4</th>\n",
       "      <td>5</td>\n",
       "      <td>e</td>\n",
       "      <td>e</td>\n",
       "      <td>True</td>\n",
       "      <td>9999</td>\n",
       "      <td>NaN</td>\n",
       "      <td>NaN</td>\n",
       "    </tr>\n",
       "    <tr>\n",
       "      <th>5</th>\n",
       "      <td>6</td>\n",
       "      <td>f</td>\n",
       "      <td>f</td>\n",
       "      <td>True</td>\n",
       "      <td>9999</td>\n",
       "      <td>NaN</td>\n",
       "      <td>NaN</td>\n",
       "    </tr>\n",
       "  </tbody>\n",
       "</table>\n",
       "</div>"
      ],
      "text/plain": [
       "   one insert_col2 insert_col   four  five  six series\n",
       "0    1           a          a  False  9999  NaN    NaN\n",
       "1    2           b          b  False  9999    b      b\n",
       "2    3           c          c   True  9999    c      c\n",
       "3    4           d          d   True  9999    d      d\n",
       "4    5           e          e   True  9999  NaN    NaN\n",
       "5    6           f          f   True  9999  NaN    NaN"
      ]
     },
     "execution_count": 96,
     "metadata": {},
     "output_type": "execute_result"
    }
   ],
   "source": [
    "# 向当前数据框的指定位置插入一列\n",
    "df.insert(2,'insert_col',list('abcdef'))\n",
    "df"
   ]
  },
  {
   "cell_type": "markdown",
   "metadata": {},
   "source": [
    "### 3 数据导出\n",
    "为了演示数据的导出。这里我们引入一个新的第三方库tushare，通过这个库，我们可以轻松的获取金融相关数据，如股票数据。以下为tushare库的介绍。\n",
    "其官方文档地址为：http://tushare.org/index.html\n",
    "TuShare是一个免费、开源的python财经数据接口包。主要实现对股票等金融数据从数据采集、清洗加工 到 数据存储的过程，能够为金融分析人员提供快速、整洁、和多样的便于分析的数据，为他们在数据获取方面极大地减轻工作量，使他们更加专注于策略和模型的研究与实现上。考虑到Python pandas包在金融量化分析中体现出的优势，TuShare返回的绝大部数据格式都是pandas DataFrame类型，非常便于用pandas/NumPy/Matplotlib进行数据分析和可视化。当然，如果您习惯了用Excel或者关系型数据库做分析，您也可以通过TuShare的数据存储功能，将数据全部保存到本地后进行分析。\n",
    "我们先获取2017年，第二季度全部股票的业绩报告，盈利能力，营运能力数据，然后分别用不同方式保存它们。"
   ]
  },
  {
   "cell_type": "code",
   "execution_count": 97,
   "metadata": {
    "collapsed": true
   },
   "outputs": [
    {
     "name": "stdout",
     "output_type": "stream",
     "text": [
      "Looking in indexes: http://mirrors.aliyun.com/pypi/simple/\n",
      "Requirement already satisfied: wheel in d:\\soft\\anaconda\\lib\\site-packages (0.34.2)\n",
      "Looking in indexes: http://mirrors.aliyun.com/pypi/simple/\n",
      "Requirement already satisfied: lxml in d:\\soft\\anaconda\\lib\\site-packages (4.5.0)\n",
      "Looking in indexes: http://mirrors.aliyun.com/pypi/simple/\n",
      "Collecting tushare\n",
      "  Downloading http://mirrors.aliyun.com/pypi/packages/fc/96/d99c405aa2490205c08b3f75335014cde4b4bc4637d637c1dd8b64d6be64/tushare-1.2.60-py3-none-any.whl (214 kB)\n",
      "Requirement already satisfied: lxml>=3.8.0 in d:\\soft\\anaconda\\lib\\site-packages (from tushare) (4.5.0)\n",
      "Collecting bs4>=0.0.1\n",
      "  Downloading http://mirrors.aliyun.com/pypi/packages/10/ed/7e8b97591f6f456174139ec089c769f89a94a1a4025fe967691de971f314/bs4-0.0.1.tar.gz (1.1 kB)\n",
      "Collecting websocket-client>=0.57.0\n",
      "  Downloading http://mirrors.aliyun.com/pypi/packages/4c/5f/f61b420143ed1c8dc69f9eaec5ff1ac36109d52c80de49d66e0c36c3dfdf/websocket_client-0.57.0-py2.py3-none-any.whl (200 kB)\n",
      "Collecting simplejson>=3.16.0\n",
      "  Downloading http://mirrors.aliyun.com/pypi/packages/ae/fd/36160c9ba8623b37e85ee40044046f965c050c29630536d55d83bc7a1c4e/simplejson-3.17.2-cp37-cp37m-win_amd64.whl (73 kB)\n",
      "Requirement already satisfied: requests>=2.0.0 in d:\\soft\\anaconda\\lib\\site-packages (from tushare) (2.22.0)\n",
      "Requirement already satisfied: beautifulsoup4 in d:\\soft\\anaconda\\lib\\site-packages (from bs4>=0.0.1->tushare) (4.8.2)\n",
      "Requirement already satisfied: six in d:\\soft\\anaconda\\lib\\site-packages (from websocket-client>=0.57.0->tushare) (1.14.0)\n",
      "Requirement already satisfied: idna<2.9,>=2.5 in d:\\soft\\anaconda\\lib\\site-packages (from requests>=2.0.0->tushare) (2.8)\n",
      "Requirement already satisfied: chardet<3.1.0,>=3.0.2 in d:\\soft\\anaconda\\lib\\site-packages (from requests>=2.0.0->tushare) (3.0.4)\n",
      "Requirement already satisfied: certifi>=2017.4.17 in d:\\soft\\anaconda\\lib\\site-packages (from requests>=2.0.0->tushare) (2019.11.28)\n",
      "Requirement already satisfied: urllib3!=1.25.0,!=1.25.1,<1.26,>=1.21.1 in d:\\soft\\anaconda\\lib\\site-packages (from requests>=2.0.0->tushare) (1.25.8)\n",
      "Requirement already satisfied: soupsieve>=1.2 in d:\\soft\\anaconda\\lib\\site-packages (from beautifulsoup4->bs4>=0.0.1->tushare) (1.9.5)\n",
      "Building wheels for collected packages: bs4\n",
      "  Building wheel for bs4 (setup.py): started\n",
      "  Building wheel for bs4 (setup.py): finished with status 'done'\n",
      "  Created wheel for bs4: filename=bs4-0.0.1-py3-none-any.whl size=1279 sha256=bc66c6c1a099fe88604b708358e28654e1e8a38962ee054fe80c9b89ea05fa9e\n",
      "  Stored in directory: c:\\users\\administrator\\appdata\\local\\pip\\cache\\wheels\\b7\\55\\d9\\81ea9c1c33a1a533ffc844e56a060a6882d0c56f74570ab4ac\n",
      "Successfully built bs4\n",
      "Installing collected packages: bs4, websocket-client, simplejson, tushare\n",
      "Successfully installed bs4-0.0.1 simplejson-3.17.2 tushare-1.2.60 websocket-client-0.57.0\n",
      "Looking in indexes: http://mirrors.aliyun.com/pypi/simple/\n",
      "Requirement already satisfied: beautifulsoup4 in d:\\soft\\anaconda\\lib\\site-packages (4.8.2)\n",
      "Requirement already satisfied: soupsieve>=1.2 in d:\\soft\\anaconda\\lib\\site-packages (from beautifulsoup4) (1.9.5)\n",
      "Looking in indexes: http://mirrors.aliyun.com/pypi/simple/\n",
      "Requirement already satisfied: requests in d:\\soft\\anaconda\\lib\\site-packages (2.22.0)\n",
      "Requirement already satisfied: urllib3!=1.25.0,!=1.25.1,<1.26,>=1.21.1 in d:\\soft\\anaconda\\lib\\site-packages (from requests) (1.25.8)\n",
      "Requirement already satisfied: idna<2.9,>=2.5 in d:\\soft\\anaconda\\lib\\site-packages (from requests) (2.8)\n",
      "Requirement already satisfied: certifi>=2017.4.17 in d:\\soft\\anaconda\\lib\\site-packages (from requests) (2019.11.28)\n",
      "Requirement already satisfied: chardet<3.1.0,>=3.0.2 in d:\\soft\\anaconda\\lib\\site-packages (from requests) (3.0.4)\n",
      "Looking in indexes: http://mirrors.aliyun.com/pypi/simple/\n",
      "Requirement already satisfied: pandas in d:\\soft\\anaconda\\lib\\site-packages (1.0.1)\n",
      "Requirement already satisfied: numpy>=1.13.3 in d:\\soft\\anaconda\\lib\\site-packages (from pandas) (1.18.1)\n",
      "Requirement already satisfied: python-dateutil>=2.6.1 in d:\\soft\\anaconda\\lib\\site-packages (from pandas) (2.8.1)\n",
      "Requirement already satisfied: pytz>=2017.2 in d:\\soft\\anaconda\\lib\\site-packages (from pandas) (2019.3)\n",
      "Requirement already satisfied: six>=1.5 in d:\\soft\\anaconda\\lib\\site-packages (from python-dateutil>=2.6.1->pandas) (1.14.0)\n",
      "本接口即将停止更新，请尽快使用Pro版接口：https://tushare.pro/document/2\n",
      "[Getting data:]##############################################################本接口即将停止更新，请尽快使用Pro版接口：https://tushare.pro/document/2\n",
      "[Getting data:]##############################################################本接口即将停止更新，请尽快使用Pro版接口：https://tushare.pro/document/2\n",
      "[Getting data:]##############################################################"
     ]
    }
   ],
   "source": [
    "# !pip install wheel\n",
    "# !pip install lxml\n",
    "# !pip install tushare\n",
    "# !pip install beautifulsoup4\n",
    "# !pip install requests\n",
    "# !pip install pandas\n",
    "# import tushare as ts\n",
    "# # 业绩报告\n",
    "# report = ts.get_report_data(2017,2)\n",
    "# # 盈利能力\n",
    "# profit = ts.get_profit_data(2017,2)\n",
    "# # 营运能力\n",
    "# operation = ts.get_operation_data(2017,2)"
   ]
  },
  {
   "cell_type": "code",
   "execution_count": 22,
   "metadata": {},
   "outputs": [
    {
     "data": {
      "text/html": [
       "<div>\n",
       "<style scoped>\n",
       "    .dataframe tbody tr th:only-of-type {\n",
       "        vertical-align: middle;\n",
       "    }\n",
       "\n",
       "    .dataframe tbody tr th {\n",
       "        vertical-align: top;\n",
       "    }\n",
       "\n",
       "    .dataframe thead th {\n",
       "        text-align: right;\n",
       "    }\n",
       "</style>\n",
       "<table border=\"1\" class=\"dataframe\">\n",
       "  <thead>\n",
       "    <tr style=\"text-align: right;\">\n",
       "      <th></th>\n",
       "      <th>code</th>\n",
       "      <th>name</th>\n",
       "      <th>eps</th>\n",
       "      <th>eps_yoy</th>\n",
       "      <th>bvps</th>\n",
       "      <th>roe</th>\n",
       "      <th>epcf</th>\n",
       "      <th>net_profits</th>\n",
       "      <th>profits_yoy</th>\n",
       "      <th>distrib</th>\n",
       "      <th>report_date</th>\n",
       "    </tr>\n",
       "  </thead>\n",
       "  <tbody>\n",
       "    <tr>\n",
       "      <th>0</th>\n",
       "      <td>601956</td>\n",
       "      <td>东贝集团</td>\n",
       "      <td>0.10</td>\n",
       "      <td>NaN</td>\n",
       "      <td>NaN</td>\n",
       "      <td>3.51</td>\n",
       "      <td>NaN</td>\n",
       "      <td>3131.42</td>\n",
       "      <td>NaN</td>\n",
       "      <td>NaN</td>\n",
       "      <td>08-31</td>\n",
       "    </tr>\n",
       "    <tr>\n",
       "      <th>1</th>\n",
       "      <td>1211</td>\n",
       "      <td>双枪科技</td>\n",
       "      <td>0.35</td>\n",
       "      <td>NaN</td>\n",
       "      <td>NaN</td>\n",
       "      <td>4.70</td>\n",
       "      <td>NaN</td>\n",
       "      <td>1863.50</td>\n",
       "      <td>NaN</td>\n",
       "      <td>NaN</td>\n",
       "      <td>08-30</td>\n",
       "    </tr>\n",
       "    <tr>\n",
       "      <th>2</th>\n",
       "      <td>601156</td>\n",
       "      <td>东航物流</td>\n",
       "      <td>0.90</td>\n",
       "      <td>NaN</td>\n",
       "      <td>NaN</td>\n",
       "      <td>32.49</td>\n",
       "      <td>NaN</td>\n",
       "      <td>128153.42</td>\n",
       "      <td>NaN</td>\n",
       "      <td>NaN</td>\n",
       "      <td>08-28</td>\n",
       "    </tr>\n",
       "  </tbody>\n",
       "</table>\n",
       "</div>"
      ],
      "text/plain": [
       "     code  name   eps  eps_yoy  bvps    roe  epcf  net_profits  profits_yoy  \\\n",
       "0  601956  东贝集团  0.10      NaN   NaN   3.51   NaN      3131.42          NaN   \n",
       "1    1211  双枪科技  0.35      NaN   NaN   4.70   NaN      1863.50          NaN   \n",
       "2  601156  东航物流  0.90      NaN   NaN  32.49   NaN    128153.42          NaN   \n",
       "\n",
       "  distrib report_date  \n",
       "0     NaN       08-31  \n",
       "1     NaN       08-30  \n",
       "2     NaN       08-28  "
      ]
     },
     "execution_count": 22,
     "metadata": {},
     "output_type": "execute_result"
    }
   ],
   "source": [
    "report = pd.read_csv('report.csv')\n",
    "report.head(3)"
   ]
  },
  {
   "cell_type": "code",
   "execution_count": 23,
   "metadata": {},
   "outputs": [
    {
     "data": {
      "text/html": [
       "<div>\n",
       "<style scoped>\n",
       "    .dataframe tbody tr th:only-of-type {\n",
       "        vertical-align: middle;\n",
       "    }\n",
       "\n",
       "    .dataframe tbody tr th {\n",
       "        vertical-align: top;\n",
       "    }\n",
       "\n",
       "    .dataframe thead th {\n",
       "        text-align: right;\n",
       "    }\n",
       "</style>\n",
       "<table border=\"1\" class=\"dataframe\">\n",
       "  <thead>\n",
       "    <tr style=\"text-align: right;\">\n",
       "      <th></th>\n",
       "      <th>code</th>\n",
       "      <th>name</th>\n",
       "      <th>roe</th>\n",
       "      <th>net_profit_ratio</th>\n",
       "      <th>gross_profit_rate</th>\n",
       "      <th>net_profits</th>\n",
       "      <th>eps</th>\n",
       "      <th>business_income</th>\n",
       "      <th>bips</th>\n",
       "    </tr>\n",
       "  </thead>\n",
       "  <tbody>\n",
       "    <tr>\n",
       "      <th>0</th>\n",
       "      <td>2164</td>\n",
       "      <td>宁波东力</td>\n",
       "      <td>198.33</td>\n",
       "      <td>215.23</td>\n",
       "      <td>30.7242</td>\n",
       "      <td>1120.6513</td>\n",
       "      <td>1.9844</td>\n",
       "      <td>520.6584</td>\n",
       "      <td>0.9219</td>\n",
       "    </tr>\n",
       "    <tr>\n",
       "      <th>1</th>\n",
       "      <td>2069</td>\n",
       "      <td>獐子岛</td>\n",
       "      <td>95.08</td>\n",
       "      <td>3.93</td>\n",
       "      <td>17.3403</td>\n",
       "      <td>39.9748</td>\n",
       "      <td>0.0562</td>\n",
       "      <td>1016.3683</td>\n",
       "      <td>1.4292</td>\n",
       "    </tr>\n",
       "    <tr>\n",
       "      <th>2</th>\n",
       "      <td>2188</td>\n",
       "      <td>*ST巴士</td>\n",
       "      <td>79.61</td>\n",
       "      <td>161.80</td>\n",
       "      <td>88.0692</td>\n",
       "      <td>2.4184</td>\n",
       "      <td>0.0082</td>\n",
       "      <td>1.4947</td>\n",
       "      <td>0.0051</td>\n",
       "    </tr>\n",
       "  </tbody>\n",
       "</table>\n",
       "</div>"
      ],
      "text/plain": [
       "   code   name     roe  net_profit_ratio  gross_profit_rate  net_profits  \\\n",
       "0  2164   宁波东力  198.33            215.23            30.7242    1120.6513   \n",
       "1  2069    獐子岛   95.08              3.93            17.3403      39.9748   \n",
       "2  2188  *ST巴士   79.61            161.80            88.0692       2.4184   \n",
       "\n",
       "      eps  business_income    bips  \n",
       "0  1.9844         520.6584  0.9219  \n",
       "1  0.0562        1016.3683  1.4292  \n",
       "2  0.0082           1.4947  0.0051  "
      ]
     },
     "execution_count": 23,
     "metadata": {},
     "output_type": "execute_result"
    }
   ],
   "source": [
    "profit = pd.read_csv('profit.csv')\n",
    "profit.head(3)"
   ]
  },
  {
   "cell_type": "code",
   "execution_count": 24,
   "metadata": {},
   "outputs": [
    {
     "data": {
      "text/html": [
       "<div>\n",
       "<style scoped>\n",
       "    .dataframe tbody tr th:only-of-type {\n",
       "        vertical-align: middle;\n",
       "    }\n",
       "\n",
       "    .dataframe tbody tr th {\n",
       "        vertical-align: top;\n",
       "    }\n",
       "\n",
       "    .dataframe thead th {\n",
       "        text-align: right;\n",
       "    }\n",
       "</style>\n",
       "<table border=\"1\" class=\"dataframe\">\n",
       "  <thead>\n",
       "    <tr style=\"text-align: right;\">\n",
       "      <th></th>\n",
       "      <th>code</th>\n",
       "      <th>name</th>\n",
       "      <th>arturnover</th>\n",
       "      <th>arturndays</th>\n",
       "      <th>inventory_turnover</th>\n",
       "      <th>inventory_days</th>\n",
       "      <th>currentasset_turnover</th>\n",
       "      <th>currentasset_days</th>\n",
       "    </tr>\n",
       "  </thead>\n",
       "  <tbody>\n",
       "    <tr>\n",
       "      <th>0</th>\n",
       "      <td>606</td>\n",
       "      <td>ST顺利</td>\n",
       "      <td>19.9614</td>\n",
       "      <td>9.0174</td>\n",
       "      <td>517032.0007</td>\n",
       "      <td>0.0003</td>\n",
       "      <td>3.2182</td>\n",
       "      <td>55.9319</td>\n",
       "    </tr>\n",
       "    <tr>\n",
       "      <th>1</th>\n",
       "      <td>2400</td>\n",
       "      <td>省广集团</td>\n",
       "      <td>2.2190</td>\n",
       "      <td>81.1176</td>\n",
       "      <td>57747.2750</td>\n",
       "      <td>0.0031</td>\n",
       "      <td>1.0807</td>\n",
       "      <td>166.5587</td>\n",
       "    </tr>\n",
       "    <tr>\n",
       "      <th>2</th>\n",
       "      <td>526</td>\n",
       "      <td>学大教育</td>\n",
       "      <td>34.7447</td>\n",
       "      <td>5.1806</td>\n",
       "      <td>20462.8677</td>\n",
       "      <td>0.0088</td>\n",
       "      <td>0.9678</td>\n",
       "      <td>185.9888</td>\n",
       "    </tr>\n",
       "  </tbody>\n",
       "</table>\n",
       "</div>"
      ],
      "text/plain": [
       "   code  name  arturnover  arturndays  inventory_turnover  inventory_days  \\\n",
       "0   606  ST顺利     19.9614      9.0174         517032.0007          0.0003   \n",
       "1  2400  省广集团      2.2190     81.1176          57747.2750          0.0031   \n",
       "2   526  学大教育     34.7447      5.1806          20462.8677          0.0088   \n",
       "\n",
       "   currentasset_turnover  currentasset_days  \n",
       "0                 3.2182            55.9319  \n",
       "1                 1.0807           166.5587  \n",
       "2                 0.9678           185.9888  "
      ]
     },
     "execution_count": 24,
     "metadata": {},
     "output_type": "execute_result"
    }
   ],
   "source": [
    "operation = pd.read_csv('operation.csv')\n",
    "operation.head(3)"
   ]
  },
  {
   "cell_type": "markdown",
   "metadata": {},
   "source": [
    "### 3.1 导出到本地文件\n",
    "### 3.1.1 导出为文本文件"
   ]
  },
  {
   "cell_type": "code",
   "execution_count": 98,
   "metadata": {},
   "outputs": [],
   "source": [
    "report.to_csv('./report.csv',index = False,encoding = 'utf-8')\n",
    "profit.to_csv('./profit.csv',index = False,encoding = 'utf-8')\n",
    "operation.to_csv('./operation.csv',index = False,encoding = 'utf-8')"
   ]
  },
  {
   "cell_type": "markdown",
   "metadata": {},
   "source": [
    "### 3.1.2  导出为Excel文件"
   ]
  },
  {
   "cell_type": "code",
   "execution_count": 26,
   "metadata": {},
   "outputs": [],
   "source": [
    "# 可以分别导出到不同的Excel工作簿；\n",
    "# !pip  install openpyxl\n",
    "report.to_excel('./report.xlsx',index =False)\n",
    "profit.to_excel('./profit.xlsx',index = False)\n",
    "operation.to_excel('./operation.xlsx',index =False)"
   ]
  },
  {
   "cell_type": "code",
   "execution_count": 25,
   "metadata": {},
   "outputs": [],
   "source": [
    "#先打开一个Excel工作簿，然后分别写入三个表格，然后关掉Excel工作簿\n",
    "writer = pd.ExcelWriter('./finance.xlsx')\n",
    "report.to_excel(writer,sheet_name='report',index = False)\n",
    "profit.to_excel(writer,sheet_name='profit',index = False)\n",
    "operation.to_excel(writer,sheet_name='operation',index = False)\n",
    "# 文件写入完毕后关掉Excel工作簿\n",
    "writer.close()"
   ]
  },
  {
   "cell_type": "markdown",
   "metadata": {},
   "source": [
    "### 3.1.3 导出为Json文件"
   ]
  },
  {
   "cell_type": "code",
   "execution_count": 26,
   "metadata": {},
   "outputs": [],
   "source": [
    "# 导出为json文件\n",
    "report.to_json('./report.json')"
   ]
  },
  {
   "cell_type": "markdown",
   "metadata": {},
   "source": [
    "### 3.1.4 导出为hdf文件"
   ]
  },
  {
   "cell_type": "code",
   "execution_count": 103,
   "metadata": {},
   "outputs": [
    {
     "name": "stdout",
     "output_type": "stream",
     "text": [
      "Looking in indexes: http://mirrors.aliyun.com/pypi/simple/\n",
      "Requirement already satisfied: tables in d:\\soft\\anaconda\\lib\\site-packages (3.6.1)\n",
      "Requirement already satisfied: numpy>=1.9.3 in d:\\soft\\anaconda\\lib\\site-packages (from tables) (1.18.1)\n",
      "Requirement already satisfied: numexpr>=2.6.2 in d:\\soft\\anaconda\\lib\\site-packages (from tables) (2.7.1)\n"
     ]
    }
   ],
   "source": [
    "# 导出为hdf文件\n",
    "!pip install tables\n",
    "from warnings import filterwarnings\n",
    "filterwarnings('ignore')\n",
    "\n",
    "report.to_hdf('./report.hdf','report')\n",
    "# ImportError: HDFStore requires PyTables, \"No module named 'tables'\" problem importing"
   ]
  },
  {
   "cell_type": "markdown",
   "metadata": {},
   "source": [
    "### 3.2 将数据存储到数据库"
   ]
  },
  {
   "cell_type": "code",
   "execution_count": 27,
   "metadata": {},
   "outputs": [],
   "source": [
    "import sqlite3  # 一个轻量级 关系数据库 \n",
    "# 创建连接\n",
    "sqlite_con = sqlite3.connect('./pandas.db')\n",
    "# 写入数据\n",
    "report.to_sql('report',sqlite_con,if_exists ='replace',index =False)\n",
    "profit.to_sql('profit',sqlite_con,if_exists ='replace',index =False)\n",
    "operation.to_sql('operation',sqlite_con,if_exists ='replace',index =False)"
   ]
  },
  {
   "cell_type": "code",
   "execution_count": 36,
   "metadata": {},
   "outputs": [
    {
     "data": {
      "text/html": [
       "<div>\n",
       "<style scoped>\n",
       "    .dataframe tbody tr th:only-of-type {\n",
       "        vertical-align: middle;\n",
       "    }\n",
       "\n",
       "    .dataframe tbody tr th {\n",
       "        vertical-align: top;\n",
       "    }\n",
       "\n",
       "    .dataframe thead th {\n",
       "        text-align: right;\n",
       "    }\n",
       "</style>\n",
       "<table border=\"1\" class=\"dataframe\">\n",
       "  <thead>\n",
       "    <tr style=\"text-align: right;\">\n",
       "      <th></th>\n",
       "      <th>code</th>\n",
       "      <th>name</th>\n",
       "      <th>eps</th>\n",
       "      <th>eps_yoy</th>\n",
       "      <th>bvps</th>\n",
       "      <th>roe</th>\n",
       "      <th>epcf</th>\n",
       "      <th>net_profits</th>\n",
       "      <th>profits_yoy</th>\n",
       "      <th>distrib</th>\n",
       "      <th>report_date</th>\n",
       "    </tr>\n",
       "  </thead>\n",
       "  <tbody>\n",
       "    <tr>\n",
       "      <th>0</th>\n",
       "      <td>601956</td>\n",
       "      <td>东贝集团</td>\n",
       "      <td>0.10</td>\n",
       "      <td>NaN</td>\n",
       "      <td>NaN</td>\n",
       "      <td>3.51</td>\n",
       "      <td>NaN</td>\n",
       "      <td>3131.42</td>\n",
       "      <td>NaN</td>\n",
       "      <td>NaN</td>\n",
       "      <td>08-31</td>\n",
       "    </tr>\n",
       "    <tr>\n",
       "      <th>1</th>\n",
       "      <td>1211</td>\n",
       "      <td>双枪科技</td>\n",
       "      <td>0.35</td>\n",
       "      <td>NaN</td>\n",
       "      <td>NaN</td>\n",
       "      <td>4.70</td>\n",
       "      <td>NaN</td>\n",
       "      <td>1863.50</td>\n",
       "      <td>NaN</td>\n",
       "      <td>NaN</td>\n",
       "      <td>08-30</td>\n",
       "    </tr>\n",
       "    <tr>\n",
       "      <th>2</th>\n",
       "      <td>601156</td>\n",
       "      <td>东航物流</td>\n",
       "      <td>0.90</td>\n",
       "      <td>NaN</td>\n",
       "      <td>NaN</td>\n",
       "      <td>32.49</td>\n",
       "      <td>NaN</td>\n",
       "      <td>128153.42</td>\n",
       "      <td>NaN</td>\n",
       "      <td>NaN</td>\n",
       "      <td>08-28</td>\n",
       "    </tr>\n",
       "    <tr>\n",
       "      <th>3</th>\n",
       "      <td>600032</td>\n",
       "      <td>浙江新能</td>\n",
       "      <td>0.09</td>\n",
       "      <td>-75.26</td>\n",
       "      <td>NaN</td>\n",
       "      <td>2.71</td>\n",
       "      <td>NaN</td>\n",
       "      <td>17252.72</td>\n",
       "      <td>-40.65</td>\n",
       "      <td>NaN</td>\n",
       "      <td>08-28</td>\n",
       "    </tr>\n",
       "    <tr>\n",
       "      <th>4</th>\n",
       "      <td>603529</td>\n",
       "      <td>爱玛科技</td>\n",
       "      <td>0.99</td>\n",
       "      <td>67.80</td>\n",
       "      <td>NaN</td>\n",
       "      <td>15.22</td>\n",
       "      <td>NaN</td>\n",
       "      <td>33512.81</td>\n",
       "      <td>67.38</td>\n",
       "      <td>NaN</td>\n",
       "      <td>08-28</td>\n",
       "    </tr>\n",
       "    <tr>\n",
       "      <th>...</th>\n",
       "      <td>...</td>\n",
       "      <td>...</td>\n",
       "      <td>...</td>\n",
       "      <td>...</td>\n",
       "      <td>...</td>\n",
       "      <td>...</td>\n",
       "      <td>...</td>\n",
       "      <td>...</td>\n",
       "      <td>...</td>\n",
       "      <td>...</td>\n",
       "      <td>...</td>\n",
       "    </tr>\n",
       "    <tr>\n",
       "      <th>4475</th>\n",
       "      <td>2107</td>\n",
       "      <td>沃华医药</td>\n",
       "      <td>0.23</td>\n",
       "      <td>155.56</td>\n",
       "      <td>NaN</td>\n",
       "      <td>12.78</td>\n",
       "      <td>NaN</td>\n",
       "      <td>9073.29</td>\n",
       "      <td>190.14</td>\n",
       "      <td>NaN</td>\n",
       "      <td>07-16</td>\n",
       "    </tr>\n",
       "    <tr>\n",
       "      <th>4476</th>\n",
       "      <td>2261</td>\n",
       "      <td>拓维信息</td>\n",
       "      <td>0.03</td>\n",
       "      <td>22.22</td>\n",
       "      <td>NaN</td>\n",
       "      <td>1.44</td>\n",
       "      <td>NaN</td>\n",
       "      <td>3606.78</td>\n",
       "      <td>23.46</td>\n",
       "      <td>NaN</td>\n",
       "      <td>07-15</td>\n",
       "    </tr>\n",
       "    <tr>\n",
       "      <th>4477</th>\n",
       "      <td>603880</td>\n",
       "      <td>南卫股份</td>\n",
       "      <td>0.38</td>\n",
       "      <td>171.43</td>\n",
       "      <td>NaN</td>\n",
       "      <td>13.85</td>\n",
       "      <td>NaN</td>\n",
       "      <td>8321.60</td>\n",
       "      <td>260.57</td>\n",
       "      <td>NaN</td>\n",
       "      <td>07-15</td>\n",
       "    </tr>\n",
       "    <tr>\n",
       "      <th>4478</th>\n",
       "      <td>300931</td>\n",
       "      <td>通用电梯</td>\n",
       "      <td>NaN</td>\n",
       "      <td>NaN</td>\n",
       "      <td>NaN</td>\n",
       "      <td>NaN</td>\n",
       "      <td>NaN</td>\n",
       "      <td>1682.58</td>\n",
       "      <td>20.07</td>\n",
       "      <td>NaN</td>\n",
       "      <td>07-14</td>\n",
       "    </tr>\n",
       "    <tr>\n",
       "      <th>4479</th>\n",
       "      <td>300861</td>\n",
       "      <td>美畅股份</td>\n",
       "      <td>NaN</td>\n",
       "      <td>NaN</td>\n",
       "      <td>NaN</td>\n",
       "      <td>NaN</td>\n",
       "      <td>NaN</td>\n",
       "      <td>21953.10</td>\n",
       "      <td>-0.92</td>\n",
       "      <td>NaN</td>\n",
       "      <td>07-09</td>\n",
       "    </tr>\n",
       "  </tbody>\n",
       "</table>\n",
       "<p>4480 rows × 11 columns</p>\n",
       "</div>"
      ],
      "text/plain": [
       "        code  name   eps  eps_yoy  bvps    roe  epcf  net_profits  \\\n",
       "0     601956  东贝集团  0.10      NaN   NaN   3.51   NaN      3131.42   \n",
       "1       1211  双枪科技  0.35      NaN   NaN   4.70   NaN      1863.50   \n",
       "2     601156  东航物流  0.90      NaN   NaN  32.49   NaN    128153.42   \n",
       "3     600032  浙江新能  0.09   -75.26   NaN   2.71   NaN     17252.72   \n",
       "4     603529  爱玛科技  0.99    67.80   NaN  15.22   NaN     33512.81   \n",
       "...      ...   ...   ...      ...   ...    ...   ...          ...   \n",
       "4475    2107  沃华医药  0.23   155.56   NaN  12.78   NaN      9073.29   \n",
       "4476    2261  拓维信息  0.03    22.22   NaN   1.44   NaN      3606.78   \n",
       "4477  603880  南卫股份  0.38   171.43   NaN  13.85   NaN      8321.60   \n",
       "4478  300931  通用电梯   NaN      NaN   NaN    NaN   NaN      1682.58   \n",
       "4479  300861  美畅股份   NaN      NaN   NaN    NaN   NaN     21953.10   \n",
       "\n",
       "      profits_yoy distrib report_date  \n",
       "0             NaN     NaN       08-31  \n",
       "1             NaN     NaN       08-30  \n",
       "2             NaN     NaN       08-28  \n",
       "3          -40.65     NaN       08-28  \n",
       "4           67.38     NaN       08-28  \n",
       "...           ...     ...         ...  \n",
       "4475       190.14     NaN       07-16  \n",
       "4476        23.46     NaN       07-15  \n",
       "4477       260.57     NaN       07-15  \n",
       "4478        20.07     NaN       07-14  \n",
       "4479        -0.92     NaN       07-09  \n",
       "\n",
       "[4480 rows x 11 columns]"
      ]
     },
     "execution_count": 36,
     "metadata": {},
     "output_type": "execute_result"
    }
   ],
   "source": [
    "report"
   ]
  },
  {
   "cell_type": "markdown",
   "metadata": {},
   "source": [
    "### 3.3 数据导入\n",
    "### 3.3.1 从本地文件"
   ]
  },
  {
   "cell_type": "code",
   "execution_count": 37,
   "metadata": {},
   "outputs": [
    {
     "data": {
      "text/html": [
       "<div>\n",
       "<style scoped>\n",
       "    .dataframe tbody tr th:only-of-type {\n",
       "        vertical-align: middle;\n",
       "    }\n",
       "\n",
       "    .dataframe tbody tr th {\n",
       "        vertical-align: top;\n",
       "    }\n",
       "\n",
       "    .dataframe thead th {\n",
       "        text-align: right;\n",
       "    }\n",
       "</style>\n",
       "<table border=\"1\" class=\"dataframe\">\n",
       "  <thead>\n",
       "    <tr style=\"text-align: right;\">\n",
       "      <th></th>\n",
       "      <th>code</th>\n",
       "      <th>name</th>\n",
       "      <th>eps</th>\n",
       "      <th>eps_yoy</th>\n",
       "      <th>bvps</th>\n",
       "      <th>roe</th>\n",
       "      <th>epcf</th>\n",
       "      <th>net_profits</th>\n",
       "      <th>profits_yoy</th>\n",
       "      <th>distrib</th>\n",
       "      <th>report_date</th>\n",
       "    </tr>\n",
       "  </thead>\n",
       "  <tbody>\n",
       "    <tr>\n",
       "      <th>0</th>\n",
       "      <td>601956</td>\n",
       "      <td>东贝集团</td>\n",
       "      <td>0.10</td>\n",
       "      <td>NaN</td>\n",
       "      <td>NaN</td>\n",
       "      <td>3.51</td>\n",
       "      <td>NaN</td>\n",
       "      <td>3131.42</td>\n",
       "      <td>NaN</td>\n",
       "      <td>NaN</td>\n",
       "      <td>08-31</td>\n",
       "    </tr>\n",
       "    <tr>\n",
       "      <th>1</th>\n",
       "      <td>1211</td>\n",
       "      <td>双枪科技</td>\n",
       "      <td>0.35</td>\n",
       "      <td>NaN</td>\n",
       "      <td>NaN</td>\n",
       "      <td>4.70</td>\n",
       "      <td>NaN</td>\n",
       "      <td>1863.50</td>\n",
       "      <td>NaN</td>\n",
       "      <td>NaN</td>\n",
       "      <td>08-30</td>\n",
       "    </tr>\n",
       "    <tr>\n",
       "      <th>2</th>\n",
       "      <td>601156</td>\n",
       "      <td>东航物流</td>\n",
       "      <td>0.90</td>\n",
       "      <td>NaN</td>\n",
       "      <td>NaN</td>\n",
       "      <td>32.49</td>\n",
       "      <td>NaN</td>\n",
       "      <td>128153.42</td>\n",
       "      <td>NaN</td>\n",
       "      <td>NaN</td>\n",
       "      <td>08-28</td>\n",
       "    </tr>\n",
       "  </tbody>\n",
       "</table>\n",
       "</div>"
      ],
      "text/plain": [
       "     code  name   eps  eps_yoy  bvps    roe  epcf  net_profits  profits_yoy  \\\n",
       "0  601956  东贝集团  0.10      NaN   NaN   3.51   NaN      3131.42          NaN   \n",
       "1    1211  双枪科技  0.35      NaN   NaN   4.70   NaN      1863.50          NaN   \n",
       "2  601156  东航物流  0.90      NaN   NaN  32.49   NaN    128153.42          NaN   \n",
       "\n",
       "  distrib report_date  \n",
       "0     NaN       08-31  \n",
       "1     NaN       08-30  \n",
       "2     NaN       08-28  "
      ]
     },
     "execution_count": 37,
     "metadata": {},
     "output_type": "execute_result"
    }
   ],
   "source": [
    "# 从文本文件\n",
    "# 推荐使用相对路径\n",
    "pd.read_csv('./report.csv').head(3)"
   ]
  },
  {
   "cell_type": "code",
   "execution_count": 106,
   "metadata": {},
   "outputs": [
    {
     "name": "stdout",
     "output_type": "stream",
     "text": [
      "Looking in indexes: http://mirrors.aliyun.com/pypi/simple/\n",
      "Requirement already satisfied: xlrd in d:\\soft\\anaconda\\lib\\site-packages (1.2.0)\n"
     ]
    },
    {
     "data": {
      "text/html": [
       "<div>\n",
       "<style scoped>\n",
       "    .dataframe tbody tr th:only-of-type {\n",
       "        vertical-align: middle;\n",
       "    }\n",
       "\n",
       "    .dataframe tbody tr th {\n",
       "        vertical-align: top;\n",
       "    }\n",
       "\n",
       "    .dataframe thead th {\n",
       "        text-align: right;\n",
       "    }\n",
       "</style>\n",
       "<table border=\"1\" class=\"dataframe\">\n",
       "  <thead>\n",
       "    <tr style=\"text-align: right;\">\n",
       "      <th></th>\n",
       "      <th>code</th>\n",
       "      <th>name</th>\n",
       "      <th>eps</th>\n",
       "      <th>eps_yoy</th>\n",
       "      <th>bvps</th>\n",
       "      <th>roe</th>\n",
       "      <th>epcf</th>\n",
       "      <th>net_profits</th>\n",
       "      <th>profits_yoy</th>\n",
       "      <th>distrib</th>\n",
       "      <th>report_date</th>\n",
       "    </tr>\n",
       "  </thead>\n",
       "  <tbody>\n",
       "    <tr>\n",
       "      <th>0</th>\n",
       "      <td>2906</td>\n",
       "      <td>华阳集团</td>\n",
       "      <td>0.34</td>\n",
       "      <td>NaN</td>\n",
       "      <td>NaN</td>\n",
       "      <td>5.62</td>\n",
       "      <td>NaN</td>\n",
       "      <td>13580.23</td>\n",
       "      <td>NaN</td>\n",
       "      <td>NaN</td>\n",
       "      <td>08-30</td>\n",
       "    </tr>\n",
       "    <tr>\n",
       "      <th>1</th>\n",
       "      <td>300691</td>\n",
       "      <td>联合光电</td>\n",
       "      <td>0.50</td>\n",
       "      <td>NaN</td>\n",
       "      <td>NaN</td>\n",
       "      <td>12.30</td>\n",
       "      <td>NaN</td>\n",
       "      <td>5095.21</td>\n",
       "      <td>NaN</td>\n",
       "      <td>NaN</td>\n",
       "      <td>08-28</td>\n",
       "    </tr>\n",
       "    <tr>\n",
       "      <th>2</th>\n",
       "      <td>601869</td>\n",
       "      <td>长飞光纤</td>\n",
       "      <td>0.82</td>\n",
       "      <td>NaN</td>\n",
       "      <td>NaN</td>\n",
       "      <td>13.00</td>\n",
       "      <td>NaN</td>\n",
       "      <td>56052.41</td>\n",
       "      <td>NaN</td>\n",
       "      <td>NaN</td>\n",
       "      <td>08-27</td>\n",
       "    </tr>\n",
       "    <tr>\n",
       "      <th>3</th>\n",
       "      <td>603192</td>\n",
       "      <td>汇得科技</td>\n",
       "      <td>0.66</td>\n",
       "      <td>NaN</td>\n",
       "      <td>NaN</td>\n",
       "      <td>11.10</td>\n",
       "      <td>0.57</td>\n",
       "      <td>5261.60</td>\n",
       "      <td>NaN</td>\n",
       "      <td>NaN</td>\n",
       "      <td>08-27</td>\n",
       "    </tr>\n",
       "    <tr>\n",
       "      <th>4</th>\n",
       "      <td>603733</td>\n",
       "      <td>仙鹤股份</td>\n",
       "      <td>0.33</td>\n",
       "      <td>NaN</td>\n",
       "      <td>NaN</td>\n",
       "      <td>8.83</td>\n",
       "      <td>NaN</td>\n",
       "      <td>18347.21</td>\n",
       "      <td>NaN</td>\n",
       "      <td>NaN</td>\n",
       "      <td>08-25</td>\n",
       "    </tr>\n",
       "  </tbody>\n",
       "</table>\n",
       "</div>"
      ],
      "text/plain": [
       "     code  name   eps  eps_yoy  bvps    roe  epcf  net_profits  profits_yoy  \\\n",
       "0    2906  华阳集团  0.34      NaN   NaN   5.62   NaN     13580.23          NaN   \n",
       "1  300691  联合光电  0.50      NaN   NaN  12.30   NaN      5095.21          NaN   \n",
       "2  601869  长飞光纤  0.82      NaN   NaN  13.00   NaN     56052.41          NaN   \n",
       "3  603192  汇得科技  0.66      NaN   NaN  11.10  0.57      5261.60          NaN   \n",
       "4  603733  仙鹤股份  0.33      NaN   NaN   8.83   NaN     18347.21          NaN   \n",
       "\n",
       "  distrib report_date  \n",
       "0     NaN       08-30  \n",
       "1     NaN       08-28  \n",
       "2     NaN       08-27  \n",
       "3     NaN       08-27  \n",
       "4     NaN       08-25  "
      ]
     },
     "execution_count": 106,
     "metadata": {},
     "output_type": "execute_result"
    }
   ],
   "source": [
    "#从Excel文件\n",
    "# 如果不是被迫选择Excel文件格式，一般不推荐使用Excel文件格式，速度很慢\n",
    "#!pip install xlrd\n",
    "pd.read_excel('./report.xlsx').head()"
   ]
  },
  {
   "cell_type": "code",
   "execution_count": 107,
   "metadata": {},
   "outputs": [
    {
     "data": {
      "text/html": [
       "<div>\n",
       "<style scoped>\n",
       "    .dataframe tbody tr th:only-of-type {\n",
       "        vertical-align: middle;\n",
       "    }\n",
       "\n",
       "    .dataframe tbody tr th {\n",
       "        vertical-align: top;\n",
       "    }\n",
       "\n",
       "    .dataframe thead th {\n",
       "        text-align: right;\n",
       "    }\n",
       "</style>\n",
       "<table border=\"1\" class=\"dataframe\">\n",
       "  <thead>\n",
       "    <tr style=\"text-align: right;\">\n",
       "      <th></th>\n",
       "      <th>code</th>\n",
       "      <th>name</th>\n",
       "      <th>eps</th>\n",
       "      <th>eps_yoy</th>\n",
       "      <th>bvps</th>\n",
       "      <th>roe</th>\n",
       "      <th>epcf</th>\n",
       "      <th>net_profits</th>\n",
       "      <th>profits_yoy</th>\n",
       "      <th>distrib</th>\n",
       "      <th>report_date</th>\n",
       "    </tr>\n",
       "  </thead>\n",
       "  <tbody>\n",
       "    <tr>\n",
       "      <th>0</th>\n",
       "      <td>2906</td>\n",
       "      <td>华阳集团</td>\n",
       "      <td>0.34</td>\n",
       "      <td>NaN</td>\n",
       "      <td>NaN</td>\n",
       "      <td>5.62</td>\n",
       "      <td>NaN</td>\n",
       "      <td>13580.23</td>\n",
       "      <td>NaN</td>\n",
       "      <td>NaN</td>\n",
       "      <td>08-30</td>\n",
       "    </tr>\n",
       "    <tr>\n",
       "      <th>1</th>\n",
       "      <td>300691</td>\n",
       "      <td>联合光电</td>\n",
       "      <td>0.50</td>\n",
       "      <td>NaN</td>\n",
       "      <td>NaN</td>\n",
       "      <td>12.30</td>\n",
       "      <td>NaN</td>\n",
       "      <td>5095.21</td>\n",
       "      <td>NaN</td>\n",
       "      <td>NaN</td>\n",
       "      <td>08-28</td>\n",
       "    </tr>\n",
       "    <tr>\n",
       "      <th>2</th>\n",
       "      <td>601869</td>\n",
       "      <td>长飞光纤</td>\n",
       "      <td>0.82</td>\n",
       "      <td>NaN</td>\n",
       "      <td>NaN</td>\n",
       "      <td>13.00</td>\n",
       "      <td>NaN</td>\n",
       "      <td>56052.41</td>\n",
       "      <td>NaN</td>\n",
       "      <td>NaN</td>\n",
       "      <td>08-27</td>\n",
       "    </tr>\n",
       "    <tr>\n",
       "      <th>3</th>\n",
       "      <td>603192</td>\n",
       "      <td>汇得科技</td>\n",
       "      <td>0.66</td>\n",
       "      <td>NaN</td>\n",
       "      <td>NaN</td>\n",
       "      <td>11.10</td>\n",
       "      <td>0.57</td>\n",
       "      <td>5261.60</td>\n",
       "      <td>NaN</td>\n",
       "      <td>NaN</td>\n",
       "      <td>08-27</td>\n",
       "    </tr>\n",
       "    <tr>\n",
       "      <th>4</th>\n",
       "      <td>603733</td>\n",
       "      <td>仙鹤股份</td>\n",
       "      <td>0.33</td>\n",
       "      <td>NaN</td>\n",
       "      <td>NaN</td>\n",
       "      <td>8.83</td>\n",
       "      <td>NaN</td>\n",
       "      <td>18347.21</td>\n",
       "      <td>NaN</td>\n",
       "      <td>NaN</td>\n",
       "      <td>08-25</td>\n",
       "    </tr>\n",
       "  </tbody>\n",
       "</table>\n",
       "</div>"
      ],
      "text/plain": [
       "     code  name   eps  eps_yoy  bvps    roe  epcf  net_profits  profits_yoy  \\\n",
       "0    2906  华阳集团  0.34      NaN   NaN   5.62   NaN     13580.23          NaN   \n",
       "1  300691  联合光电  0.50      NaN   NaN  12.30   NaN      5095.21          NaN   \n",
       "2  601869  长飞光纤  0.82      NaN   NaN  13.00   NaN     56052.41          NaN   \n",
       "3  603192  汇得科技  0.66      NaN   NaN  11.10  0.57      5261.60          NaN   \n",
       "4  603733  仙鹤股份  0.33      NaN   NaN   8.83   NaN     18347.21          NaN   \n",
       "\n",
       "  distrib report_date  \n",
       "0     NaN       08-30  \n",
       "1     NaN       08-28  \n",
       "2     NaN       08-27  \n",
       "3     NaN       08-27  \n",
       "4     NaN       08-25  "
      ]
     },
     "execution_count": 107,
     "metadata": {},
     "output_type": "execute_result"
    }
   ],
   "source": [
    "# 如果一个Excel工作簿有多个表格，那么需要指定传入的表格名称\n",
    "pd.read_excel('./finance.xlsx',sheet_name='report').head()"
   ]
  },
  {
   "cell_type": "code",
   "execution_count": 108,
   "metadata": {},
   "outputs": [
    {
     "data": {
      "text/html": [
       "<div>\n",
       "<style scoped>\n",
       "    .dataframe tbody tr th:only-of-type {\n",
       "        vertical-align: middle;\n",
       "    }\n",
       "\n",
       "    .dataframe tbody tr th {\n",
       "        vertical-align: top;\n",
       "    }\n",
       "\n",
       "    .dataframe thead th {\n",
       "        text-align: right;\n",
       "    }\n",
       "</style>\n",
       "<table border=\"1\" class=\"dataframe\">\n",
       "  <thead>\n",
       "    <tr style=\"text-align: right;\">\n",
       "      <th></th>\n",
       "      <th>code</th>\n",
       "      <th>name</th>\n",
       "      <th>eps</th>\n",
       "      <th>eps_yoy</th>\n",
       "      <th>bvps</th>\n",
       "      <th>roe</th>\n",
       "      <th>epcf</th>\n",
       "      <th>net_profits</th>\n",
       "      <th>profits_yoy</th>\n",
       "      <th>distrib</th>\n",
       "      <th>report_date</th>\n",
       "    </tr>\n",
       "  </thead>\n",
       "  <tbody>\n",
       "    <tr>\n",
       "      <th>0</th>\n",
       "      <td>2906</td>\n",
       "      <td>华阳集团</td>\n",
       "      <td>0.34</td>\n",
       "      <td>NaN</td>\n",
       "      <td>NaN</td>\n",
       "      <td>5.62</td>\n",
       "      <td>NaN</td>\n",
       "      <td>13580.23</td>\n",
       "      <td>NaN</td>\n",
       "      <td>None</td>\n",
       "      <td>08-30</td>\n",
       "    </tr>\n",
       "    <tr>\n",
       "      <th>1</th>\n",
       "      <td>300691</td>\n",
       "      <td>联合光电</td>\n",
       "      <td>0.50</td>\n",
       "      <td>NaN</td>\n",
       "      <td>NaN</td>\n",
       "      <td>12.30</td>\n",
       "      <td>NaN</td>\n",
       "      <td>5095.21</td>\n",
       "      <td>NaN</td>\n",
       "      <td>None</td>\n",
       "      <td>08-28</td>\n",
       "    </tr>\n",
       "    <tr>\n",
       "      <th>2</th>\n",
       "      <td>601869</td>\n",
       "      <td>长飞光纤</td>\n",
       "      <td>0.82</td>\n",
       "      <td>NaN</td>\n",
       "      <td>NaN</td>\n",
       "      <td>13.00</td>\n",
       "      <td>NaN</td>\n",
       "      <td>56052.41</td>\n",
       "      <td>NaN</td>\n",
       "      <td>None</td>\n",
       "      <td>08-27</td>\n",
       "    </tr>\n",
       "    <tr>\n",
       "      <th>3</th>\n",
       "      <td>603192</td>\n",
       "      <td>汇得科技</td>\n",
       "      <td>0.66</td>\n",
       "      <td>NaN</td>\n",
       "      <td>NaN</td>\n",
       "      <td>11.10</td>\n",
       "      <td>0.57</td>\n",
       "      <td>5261.60</td>\n",
       "      <td>NaN</td>\n",
       "      <td>None</td>\n",
       "      <td>08-27</td>\n",
       "    </tr>\n",
       "    <tr>\n",
       "      <th>4</th>\n",
       "      <td>603733</td>\n",
       "      <td>仙鹤股份</td>\n",
       "      <td>0.33</td>\n",
       "      <td>NaN</td>\n",
       "      <td>NaN</td>\n",
       "      <td>8.83</td>\n",
       "      <td>NaN</td>\n",
       "      <td>18347.21</td>\n",
       "      <td>NaN</td>\n",
       "      <td>None</td>\n",
       "      <td>08-25</td>\n",
       "    </tr>\n",
       "  </tbody>\n",
       "</table>\n",
       "</div>"
      ],
      "text/plain": [
       "     code  name   eps  eps_yoy  bvps    roe  epcf  net_profits  profits_yoy  \\\n",
       "0    2906  华阳集团  0.34      NaN   NaN   5.62   NaN     13580.23          NaN   \n",
       "1  300691  联合光电  0.50      NaN   NaN  12.30   NaN      5095.21          NaN   \n",
       "2  601869  长飞光纤  0.82      NaN   NaN  13.00   NaN     56052.41          NaN   \n",
       "3  603192  汇得科技  0.66      NaN   NaN  11.10  0.57      5261.60          NaN   \n",
       "4  603733  仙鹤股份  0.33      NaN   NaN   8.83   NaN     18347.21          NaN   \n",
       "\n",
       "  distrib report_date  \n",
       "0    None       08-30  \n",
       "1    None       08-28  \n",
       "2    None       08-27  \n",
       "3    None       08-27  \n",
       "4    None       08-25  "
      ]
     },
     "execution_count": 108,
     "metadata": {},
     "output_type": "execute_result"
    }
   ],
   "source": [
    "pd.read_json('./report.json').head()"
   ]
  },
  {
   "cell_type": "code",
   "execution_count": 109,
   "metadata": {},
   "outputs": [
    {
     "data": {
      "text/html": [
       "<div>\n",
       "<style scoped>\n",
       "    .dataframe tbody tr th:only-of-type {\n",
       "        vertical-align: middle;\n",
       "    }\n",
       "\n",
       "    .dataframe tbody tr th {\n",
       "        vertical-align: top;\n",
       "    }\n",
       "\n",
       "    .dataframe thead th {\n",
       "        text-align: right;\n",
       "    }\n",
       "</style>\n",
       "<table border=\"1\" class=\"dataframe\">\n",
       "  <thead>\n",
       "    <tr style=\"text-align: right;\">\n",
       "      <th></th>\n",
       "      <th>code</th>\n",
       "      <th>name</th>\n",
       "      <th>eps</th>\n",
       "      <th>eps_yoy</th>\n",
       "      <th>bvps</th>\n",
       "      <th>roe</th>\n",
       "      <th>epcf</th>\n",
       "      <th>net_profits</th>\n",
       "      <th>profits_yoy</th>\n",
       "      <th>distrib</th>\n",
       "      <th>report_date</th>\n",
       "    </tr>\n",
       "  </thead>\n",
       "  <tbody>\n",
       "    <tr>\n",
       "      <th>0</th>\n",
       "      <td>002906</td>\n",
       "      <td>华阳集团</td>\n",
       "      <td>0.34</td>\n",
       "      <td>NaN</td>\n",
       "      <td>NaN</td>\n",
       "      <td>5.62</td>\n",
       "      <td>NaN</td>\n",
       "      <td>13580.23</td>\n",
       "      <td>NaN</td>\n",
       "      <td>NaN</td>\n",
       "      <td>08-30</td>\n",
       "    </tr>\n",
       "    <tr>\n",
       "      <th>1</th>\n",
       "      <td>300691</td>\n",
       "      <td>联合光电</td>\n",
       "      <td>0.50</td>\n",
       "      <td>NaN</td>\n",
       "      <td>NaN</td>\n",
       "      <td>12.30</td>\n",
       "      <td>NaN</td>\n",
       "      <td>5095.21</td>\n",
       "      <td>NaN</td>\n",
       "      <td>NaN</td>\n",
       "      <td>08-28</td>\n",
       "    </tr>\n",
       "    <tr>\n",
       "      <th>2</th>\n",
       "      <td>601869</td>\n",
       "      <td>长飞光纤</td>\n",
       "      <td>0.82</td>\n",
       "      <td>NaN</td>\n",
       "      <td>NaN</td>\n",
       "      <td>13.00</td>\n",
       "      <td>NaN</td>\n",
       "      <td>56052.41</td>\n",
       "      <td>NaN</td>\n",
       "      <td>NaN</td>\n",
       "      <td>08-27</td>\n",
       "    </tr>\n",
       "    <tr>\n",
       "      <th>3</th>\n",
       "      <td>603192</td>\n",
       "      <td>汇得科技</td>\n",
       "      <td>0.66</td>\n",
       "      <td>NaN</td>\n",
       "      <td>NaN</td>\n",
       "      <td>11.10</td>\n",
       "      <td>0.57</td>\n",
       "      <td>5261.60</td>\n",
       "      <td>NaN</td>\n",
       "      <td>NaN</td>\n",
       "      <td>08-27</td>\n",
       "    </tr>\n",
       "    <tr>\n",
       "      <th>4</th>\n",
       "      <td>603733</td>\n",
       "      <td>仙鹤股份</td>\n",
       "      <td>0.33</td>\n",
       "      <td>NaN</td>\n",
       "      <td>NaN</td>\n",
       "      <td>8.83</td>\n",
       "      <td>NaN</td>\n",
       "      <td>18347.21</td>\n",
       "      <td>NaN</td>\n",
       "      <td>NaN</td>\n",
       "      <td>08-25</td>\n",
       "    </tr>\n",
       "  </tbody>\n",
       "</table>\n",
       "</div>"
      ],
      "text/plain": [
       "     code  name   eps  eps_yoy  bvps    roe  epcf  net_profits  profits_yoy  \\\n",
       "0  002906  华阳集团  0.34      NaN   NaN   5.62   NaN     13580.23          NaN   \n",
       "1  300691  联合光电  0.50      NaN   NaN  12.30   NaN      5095.21          NaN   \n",
       "2  601869  长飞光纤  0.82      NaN   NaN  13.00   NaN     56052.41          NaN   \n",
       "3  603192  汇得科技  0.66      NaN   NaN  11.10  0.57      5261.60          NaN   \n",
       "4  603733  仙鹤股份  0.33      NaN   NaN   8.83   NaN     18347.21          NaN   \n",
       "\n",
       "  distrib report_date  \n",
       "0     NaN       08-30  \n",
       "1     NaN       08-28  \n",
       "2     NaN       08-27  \n",
       "3     NaN       08-27  \n",
       "4     NaN       08-25  "
      ]
     },
     "execution_count": 109,
     "metadata": {},
     "output_type": "execute_result"
    }
   ],
   "source": [
    "pd.read_hdf('./report.hdf','report').head()"
   ]
  },
  {
   "cell_type": "markdown",
   "metadata": {},
   "source": [
    "### 3.3.2 从数据库"
   ]
  },
  {
   "cell_type": "code",
   "execution_count": 38,
   "metadata": {},
   "outputs": [
    {
     "data": {
      "text/html": [
       "<div>\n",
       "<style scoped>\n",
       "    .dataframe tbody tr th:only-of-type {\n",
       "        vertical-align: middle;\n",
       "    }\n",
       "\n",
       "    .dataframe tbody tr th {\n",
       "        vertical-align: top;\n",
       "    }\n",
       "\n",
       "    .dataframe thead th {\n",
       "        text-align: right;\n",
       "    }\n",
       "</style>\n",
       "<table border=\"1\" class=\"dataframe\">\n",
       "  <thead>\n",
       "    <tr style=\"text-align: right;\">\n",
       "      <th></th>\n",
       "      <th>code</th>\n",
       "      <th>name</th>\n",
       "      <th>eps</th>\n",
       "      <th>eps_yoy</th>\n",
       "      <th>bvps</th>\n",
       "      <th>roe</th>\n",
       "      <th>epcf</th>\n",
       "      <th>net_profits</th>\n",
       "      <th>profits_yoy</th>\n",
       "      <th>distrib</th>\n",
       "      <th>report_date</th>\n",
       "    </tr>\n",
       "  </thead>\n",
       "  <tbody>\n",
       "    <tr>\n",
       "      <th>0</th>\n",
       "      <td>601956</td>\n",
       "      <td>东贝集团</td>\n",
       "      <td>0.10</td>\n",
       "      <td>NaN</td>\n",
       "      <td>None</td>\n",
       "      <td>3.51</td>\n",
       "      <td>None</td>\n",
       "      <td>3131.42</td>\n",
       "      <td>NaN</td>\n",
       "      <td>None</td>\n",
       "      <td>08-31</td>\n",
       "    </tr>\n",
       "    <tr>\n",
       "      <th>1</th>\n",
       "      <td>1211</td>\n",
       "      <td>双枪科技</td>\n",
       "      <td>0.35</td>\n",
       "      <td>NaN</td>\n",
       "      <td>None</td>\n",
       "      <td>4.70</td>\n",
       "      <td>None</td>\n",
       "      <td>1863.50</td>\n",
       "      <td>NaN</td>\n",
       "      <td>None</td>\n",
       "      <td>08-30</td>\n",
       "    </tr>\n",
       "    <tr>\n",
       "      <th>2</th>\n",
       "      <td>601156</td>\n",
       "      <td>东航物流</td>\n",
       "      <td>0.90</td>\n",
       "      <td>NaN</td>\n",
       "      <td>None</td>\n",
       "      <td>32.49</td>\n",
       "      <td>None</td>\n",
       "      <td>128153.42</td>\n",
       "      <td>NaN</td>\n",
       "      <td>None</td>\n",
       "      <td>08-28</td>\n",
       "    </tr>\n",
       "    <tr>\n",
       "      <th>3</th>\n",
       "      <td>600032</td>\n",
       "      <td>浙江新能</td>\n",
       "      <td>0.09</td>\n",
       "      <td>-75.26</td>\n",
       "      <td>None</td>\n",
       "      <td>2.71</td>\n",
       "      <td>None</td>\n",
       "      <td>17252.72</td>\n",
       "      <td>-40.65</td>\n",
       "      <td>None</td>\n",
       "      <td>08-28</td>\n",
       "    </tr>\n",
       "    <tr>\n",
       "      <th>4</th>\n",
       "      <td>603529</td>\n",
       "      <td>爱玛科技</td>\n",
       "      <td>0.99</td>\n",
       "      <td>67.80</td>\n",
       "      <td>None</td>\n",
       "      <td>15.22</td>\n",
       "      <td>None</td>\n",
       "      <td>33512.81</td>\n",
       "      <td>67.38</td>\n",
       "      <td>None</td>\n",
       "      <td>08-28</td>\n",
       "    </tr>\n",
       "  </tbody>\n",
       "</table>\n",
       "</div>"
      ],
      "text/plain": [
       "     code  name   eps  eps_yoy  bvps    roe  epcf  net_profits  profits_yoy  \\\n",
       "0  601956  东贝集团  0.10      NaN  None   3.51  None      3131.42          NaN   \n",
       "1    1211  双枪科技  0.35      NaN  None   4.70  None      1863.50          NaN   \n",
       "2  601156  东航物流  0.90      NaN  None  32.49  None    128153.42          NaN   \n",
       "3  600032  浙江新能  0.09   -75.26  None   2.71  None     17252.72       -40.65   \n",
       "4  603529  爱玛科技  0.99    67.80  None  15.22  None     33512.81        67.38   \n",
       "\n",
       "  distrib report_date  \n",
       "0    None       08-31  \n",
       "1    None       08-30  \n",
       "2    None       08-28  \n",
       "3    None       08-28  \n",
       "4    None       08-28  "
      ]
     },
     "execution_count": 38,
     "metadata": {},
     "output_type": "execute_result"
    }
   ],
   "source": [
    "import sqlite3\n",
    "import pandas as pd\n",
    "# 创建连接\n",
    "sqlite_con = sqlite3.connect('./pandas.db')\n",
    "# 读取数据，显示前5行\n",
    "pd.read_sql('select * from report limit 5',sqlite_con)"
   ]
  },
  {
   "cell_type": "code",
   "execution_count": 40,
   "metadata": {},
   "outputs": [
    {
     "data": {
      "text/html": [
       "<div>\n",
       "<style scoped>\n",
       "    .dataframe tbody tr th:only-of-type {\n",
       "        vertical-align: middle;\n",
       "    }\n",
       "\n",
       "    .dataframe tbody tr th {\n",
       "        vertical-align: top;\n",
       "    }\n",
       "\n",
       "    .dataframe thead th {\n",
       "        text-align: right;\n",
       "    }\n",
       "</style>\n",
       "<table border=\"1\" class=\"dataframe\">\n",
       "  <thead>\n",
       "    <tr style=\"text-align: right;\">\n",
       "      <th></th>\n",
       "      <th>report_date</th>\n",
       "      <th>total_profits</th>\n",
       "    </tr>\n",
       "  </thead>\n",
       "  <tbody>\n",
       "    <tr>\n",
       "      <th>0</th>\n",
       "      <td>01-04</td>\n",
       "      <td>5193.06</td>\n",
       "    </tr>\n",
       "    <tr>\n",
       "      <th>1</th>\n",
       "      <td>01-06</td>\n",
       "      <td>1002.30</td>\n",
       "    </tr>\n",
       "    <tr>\n",
       "      <th>2</th>\n",
       "      <td>01-07</td>\n",
       "      <td>9200.30</td>\n",
       "    </tr>\n",
       "    <tr>\n",
       "      <th>3</th>\n",
       "      <td>01-11</td>\n",
       "      <td>5415.15</td>\n",
       "    </tr>\n",
       "    <tr>\n",
       "      <th>4</th>\n",
       "      <td>01-12</td>\n",
       "      <td>7485.71</td>\n",
       "    </tr>\n",
       "    <tr>\n",
       "      <th>...</th>\n",
       "      <td>...</td>\n",
       "      <td>...</td>\n",
       "    </tr>\n",
       "    <tr>\n",
       "      <th>137</th>\n",
       "      <td>12-17</td>\n",
       "      <td>924.70</td>\n",
       "    </tr>\n",
       "    <tr>\n",
       "      <th>138</th>\n",
       "      <td>12-22</td>\n",
       "      <td>10813.32</td>\n",
       "    </tr>\n",
       "    <tr>\n",
       "      <th>139</th>\n",
       "      <td>12-23</td>\n",
       "      <td>-21987.61</td>\n",
       "    </tr>\n",
       "    <tr>\n",
       "      <th>140</th>\n",
       "      <td>12-29</td>\n",
       "      <td>44874.55</td>\n",
       "    </tr>\n",
       "    <tr>\n",
       "      <th>141</th>\n",
       "      <td>12-31</td>\n",
       "      <td>5470.84</td>\n",
       "    </tr>\n",
       "  </tbody>\n",
       "</table>\n",
       "<p>142 rows × 2 columns</p>\n",
       "</div>"
      ],
      "text/plain": [
       "    report_date  total_profits\n",
       "0         01-04        5193.06\n",
       "1         01-06        1002.30\n",
       "2         01-07        9200.30\n",
       "3         01-11        5415.15\n",
       "4         01-12        7485.71\n",
       "..          ...            ...\n",
       "137       12-17         924.70\n",
       "138       12-22       10813.32\n",
       "139       12-23      -21987.61\n",
       "140       12-29       44874.55\n",
       "141       12-31        5470.84\n",
       "\n",
       "[142 rows x 2 columns]"
      ]
     },
     "execution_count": 40,
     "metadata": {},
     "output_type": "execute_result"
    }
   ],
   "source": [
    "pd.read_sql('select report_date,sum(net_profits) as total_profits from report group by report_date',sqlite_con)"
   ]
  },
  {
   "cell_type": "markdown",
   "metadata": {},
   "source": [
    "### 4 分组计算与汇总\n",
    "### 4.1 导入数据"
   ]
  },
  {
   "cell_type": "code",
   "execution_count": 41,
   "metadata": {},
   "outputs": [
    {
     "data": {
      "text/html": [
       "<div>\n",
       "<style scoped>\n",
       "    .dataframe tbody tr th:only-of-type {\n",
       "        vertical-align: middle;\n",
       "    }\n",
       "\n",
       "    .dataframe tbody tr th {\n",
       "        vertical-align: top;\n",
       "    }\n",
       "\n",
       "    .dataframe thead th {\n",
       "        text-align: right;\n",
       "    }\n",
       "</style>\n",
       "<table border=\"1\" class=\"dataframe\">\n",
       "  <thead>\n",
       "    <tr style=\"text-align: right;\">\n",
       "      <th></th>\n",
       "      <th>行 ID</th>\n",
       "      <th>订单 ID</th>\n",
       "      <th>订单日期</th>\n",
       "      <th>发货日期</th>\n",
       "      <th>邮寄方式</th>\n",
       "      <th>客户 ID</th>\n",
       "      <th>客户名称</th>\n",
       "      <th>细分</th>\n",
       "      <th>城市</th>\n",
       "      <th>省/自治区</th>\n",
       "      <th>国家</th>\n",
       "      <th>地区</th>\n",
       "      <th>产品 ID</th>\n",
       "      <th>类别</th>\n",
       "      <th>子类别</th>\n",
       "      <th>产品名称</th>\n",
       "      <th>销售额</th>\n",
       "      <th>数量</th>\n",
       "      <th>折扣</th>\n",
       "      <th>利润</th>\n",
       "    </tr>\n",
       "  </thead>\n",
       "  <tbody>\n",
       "    <tr>\n",
       "      <th>0</th>\n",
       "      <td>1</td>\n",
       "      <td>US-2018-1357144</td>\n",
       "      <td>2018-04-27</td>\n",
       "      <td>2018-04-29</td>\n",
       "      <td>二级</td>\n",
       "      <td>曾惠-14485</td>\n",
       "      <td>曾惠</td>\n",
       "      <td>公司</td>\n",
       "      <td>杭州</td>\n",
       "      <td>浙江</td>\n",
       "      <td>中国</td>\n",
       "      <td>华东</td>\n",
       "      <td>办公用-用品-10002717</td>\n",
       "      <td>办公用品</td>\n",
       "      <td>用品</td>\n",
       "      <td>Fiskars 剪刀, 蓝色</td>\n",
       "      <td>129.696</td>\n",
       "      <td>2</td>\n",
       "      <td>0.4</td>\n",
       "      <td>-60.704</td>\n",
       "    </tr>\n",
       "    <tr>\n",
       "      <th>1</th>\n",
       "      <td>2</td>\n",
       "      <td>CN-2018-1973789</td>\n",
       "      <td>2018-06-15</td>\n",
       "      <td>2018-06-19</td>\n",
       "      <td>标准级</td>\n",
       "      <td>许安-10165</td>\n",
       "      <td>许安</td>\n",
       "      <td>消费者</td>\n",
       "      <td>内江</td>\n",
       "      <td>四川</td>\n",
       "      <td>中国</td>\n",
       "      <td>西南</td>\n",
       "      <td>办公用-信封-10004832</td>\n",
       "      <td>办公用品</td>\n",
       "      <td>信封</td>\n",
       "      <td>GlobeWeis 搭扣信封, 红色</td>\n",
       "      <td>125.440</td>\n",
       "      <td>2</td>\n",
       "      <td>0.0</td>\n",
       "      <td>42.560</td>\n",
       "    </tr>\n",
       "  </tbody>\n",
       "</table>\n",
       "</div>"
      ],
      "text/plain": [
       "   行 ID            订单 ID       订单日期       发货日期 邮寄方式     客户 ID 客户名称   细分  城市  \\\n",
       "0     1  US-2018-1357144 2018-04-27 2018-04-29   二级  曾惠-14485   曾惠   公司  杭州   \n",
       "1     2  CN-2018-1973789 2018-06-15 2018-06-19  标准级  许安-10165   许安  消费者  内江   \n",
       "\n",
       "  省/自治区  国家  地区            产品 ID    类别 子类别                产品名称      销售额  数量  \\\n",
       "0    浙江  中国  华东  办公用-用品-10002717  办公用品  用品      Fiskars 剪刀, 蓝色  129.696   2   \n",
       "1    四川  中国  西南  办公用-信封-10004832  办公用品  信封  GlobeWeis 搭扣信封, 红色  125.440   2   \n",
       "\n",
       "    折扣      利润  \n",
       "0  0.4 -60.704  \n",
       "1  0.0  42.560  "
      ]
     },
     "execution_count": 41,
     "metadata": {},
     "output_type": "execute_result"
    }
   ],
   "source": [
    "# !wget wget http://59.110.26.116:8888/sgn/HUP/Visual/2/super_store.xls\n",
    "order = pd.read_excel('./super_store.xls',sheet_name = '订单')\n",
    "order.head(2)"
   ]
  },
  {
   "cell_type": "code",
   "execution_count": 46,
   "metadata": {},
   "outputs": [
    {
     "data": {
      "text/plain": [
       "20"
      ]
     },
     "execution_count": 46,
     "metadata": {},
     "output_type": "execute_result"
    }
   ],
   "source": [
    "order.columns.size"
   ]
  },
  {
   "cell_type": "code",
   "execution_count": 45,
   "metadata": {},
   "outputs": [
    {
     "data": {
      "text/plain": [
       "9959"
      ]
     },
     "execution_count": 45,
     "metadata": {},
     "output_type": "execute_result"
    }
   ],
   "source": [
    "order.count()[0]"
   ]
  },
  {
   "cell_type": "code",
   "execution_count": 48,
   "metadata": {},
   "outputs": [
    {
     "data": {
      "text/plain": [
       "array(['办公用品', '技术', '家具'], dtype=object)"
      ]
     },
     "execution_count": 48,
     "metadata": {},
     "output_type": "execute_result"
    }
   ],
   "source": [
    "order[\"类别\"].unique()"
   ]
  },
  {
   "cell_type": "code",
   "execution_count": 50,
   "metadata": {
    "collapsed": true
   },
   "outputs": [
    {
     "data": {
      "text/plain": [
       "0        129.696\n",
       "1        125.440\n",
       "2         31.920\n",
       "3        321.216\n",
       "4       1375.920\n",
       "          ...   \n",
       "9954     944.244\n",
       "9955     447.720\n",
       "9956     239.988\n",
       "9957    4851.588\n",
       "9958    7244.580\n",
       "Name: 销售额, Length: 9959, dtype: float64"
      ]
     },
     "execution_count": 50,
     "metadata": {},
     "output_type": "execute_result"
    }
   ],
   "source": [
    "order.销售额"
   ]
  },
  {
   "cell_type": "code",
   "execution_count": 51,
   "metadata": {},
   "outputs": [
    {
     "data": {
      "text/plain": [
       "count     9959.000000\n",
       "mean      1613.510807\n",
       "std       2641.237786\n",
       "min         13.440000\n",
       "25%        250.460000\n",
       "50%        636.300000\n",
       "75%       1785.210000\n",
       "max      35621.355000\n",
       "Name: 销售额, dtype: float64"
      ]
     },
     "execution_count": 51,
     "metadata": {},
     "output_type": "execute_result"
    }
   ],
   "source": [
    "order.销售额.describe()"
   ]
  },
  {
   "cell_type": "code",
   "execution_count": 40,
   "metadata": {},
   "outputs": [
    {
     "data": {
      "text/html": [
       "<div>\n",
       "<style scoped>\n",
       "    .dataframe tbody tr th:only-of-type {\n",
       "        vertical-align: middle;\n",
       "    }\n",
       "\n",
       "    .dataframe tbody tr th {\n",
       "        vertical-align: top;\n",
       "    }\n",
       "\n",
       "    .dataframe thead th {\n",
       "        text-align: right;\n",
       "    }\n",
       "</style>\n",
       "<table border=\"1\" class=\"dataframe\">\n",
       "  <thead>\n",
       "    <tr style=\"text-align: right;\">\n",
       "      <th></th>\n",
       "      <th>行 ID</th>\n",
       "      <th>销售额</th>\n",
       "      <th>数量</th>\n",
       "      <th>折扣</th>\n",
       "      <th>利润</th>\n",
       "    </tr>\n",
       "  </thead>\n",
       "  <tbody>\n",
       "    <tr>\n",
       "      <th>count</th>\n",
       "      <td>9959.000000</td>\n",
       "      <td>9959.000000</td>\n",
       "      <td>9959.000000</td>\n",
       "      <td>9959.000000</td>\n",
       "      <td>9959.000000</td>\n",
       "    </tr>\n",
       "    <tr>\n",
       "      <th>mean</th>\n",
       "      <td>5002.143187</td>\n",
       "      <td>1613.510807</td>\n",
       "      <td>3.768852</td>\n",
       "      <td>0.106406</td>\n",
       "      <td>215.638008</td>\n",
       "    </tr>\n",
       "    <tr>\n",
       "      <th>std</th>\n",
       "      <td>2886.562485</td>\n",
       "      <td>2641.237786</td>\n",
       "      <td>2.236739</td>\n",
       "      <td>0.187477</td>\n",
       "      <td>858.710532</td>\n",
       "    </tr>\n",
       "    <tr>\n",
       "      <th>min</th>\n",
       "      <td>1.000000</td>\n",
       "      <td>13.440000</td>\n",
       "      <td>1.000000</td>\n",
       "      <td>0.000000</td>\n",
       "      <td>-7978.320000</td>\n",
       "    </tr>\n",
       "    <tr>\n",
       "      <th>25%</th>\n",
       "      <td>2508.500000</td>\n",
       "      <td>250.460000</td>\n",
       "      <td>2.000000</td>\n",
       "      <td>0.000000</td>\n",
       "      <td>7.756000</td>\n",
       "    </tr>\n",
       "    <tr>\n",
       "      <th>50%</th>\n",
       "      <td>5003.000000</td>\n",
       "      <td>636.300000</td>\n",
       "      <td>3.000000</td>\n",
       "      <td>0.000000</td>\n",
       "      <td>74.200000</td>\n",
       "    </tr>\n",
       "    <tr>\n",
       "      <th>75%</th>\n",
       "      <td>7503.500000</td>\n",
       "      <td>1785.210000</td>\n",
       "      <td>5.000000</td>\n",
       "      <td>0.200000</td>\n",
       "      <td>277.200000</td>\n",
       "    </tr>\n",
       "    <tr>\n",
       "      <th>max</th>\n",
       "      <td>10000.000000</td>\n",
       "      <td>35621.355000</td>\n",
       "      <td>14.000000</td>\n",
       "      <td>0.800000</td>\n",
       "      <td>10108.280000</td>\n",
       "    </tr>\n",
       "  </tbody>\n",
       "</table>\n",
       "</div>"
      ],
      "text/plain": [
       "               行 ID           销售额           数量           折扣            利润\n",
       "count   9959.000000   9959.000000  9959.000000  9959.000000   9959.000000\n",
       "mean    5002.143187   1613.510807     3.768852     0.106406    215.638008\n",
       "std     2886.562485   2641.237786     2.236739     0.187477    858.710532\n",
       "min        1.000000     13.440000     1.000000     0.000000  -7978.320000\n",
       "25%     2508.500000    250.460000     2.000000     0.000000      7.756000\n",
       "50%     5003.000000    636.300000     3.000000     0.000000     74.200000\n",
       "75%     7503.500000   1785.210000     5.000000     0.200000    277.200000\n",
       "max    10000.000000  35621.355000    14.000000     0.800000  10108.280000"
      ]
     },
     "execution_count": 40,
     "metadata": {},
     "output_type": "execute_result"
    }
   ],
   "source": [
    "order.describe()"
   ]
  },
  {
   "cell_type": "markdown",
   "metadata": {},
   "source": [
    "### 4.2 按照地区对所有的数值型变量进行汇总"
   ]
  },
  {
   "cell_type": "code",
   "execution_count": 52,
   "metadata": {},
   "outputs": [
    {
     "data": {
      "text/html": [
       "<div>\n",
       "<style scoped>\n",
       "    .dataframe tbody tr th:only-of-type {\n",
       "        vertical-align: middle;\n",
       "    }\n",
       "\n",
       "    .dataframe tbody tr th {\n",
       "        vertical-align: top;\n",
       "    }\n",
       "\n",
       "    .dataframe thead th {\n",
       "        text-align: right;\n",
       "    }\n",
       "</style>\n",
       "<table border=\"1\" class=\"dataframe\">\n",
       "  <thead>\n",
       "    <tr style=\"text-align: right;\">\n",
       "      <th></th>\n",
       "      <th>行 ID</th>\n",
       "      <th>销售额</th>\n",
       "      <th>数量</th>\n",
       "      <th>折扣</th>\n",
       "      <th>利润</th>\n",
       "    </tr>\n",
       "    <tr>\n",
       "      <th>地区</th>\n",
       "      <th></th>\n",
       "      <th></th>\n",
       "      <th></th>\n",
       "      <th></th>\n",
       "      <th></th>\n",
       "    </tr>\n",
       "  </thead>\n",
       "  <tbody>\n",
       "    <tr>\n",
       "      <th>东北</th>\n",
       "      <td>8296805</td>\n",
       "      <td>2681567.469</td>\n",
       "      <td>6463</td>\n",
       "      <td>234.75</td>\n",
       "      <td>242191.509</td>\n",
       "    </tr>\n",
       "    <tr>\n",
       "      <th>中南</th>\n",
       "      <td>13157091</td>\n",
       "      <td>4137415.093</td>\n",
       "      <td>9700</td>\n",
       "      <td>232.15</td>\n",
       "      <td>670885.313</td>\n",
       "    </tr>\n",
       "    <tr>\n",
       "      <th>华东</th>\n",
       "      <td>14550225</td>\n",
       "      <td>4684506.442</td>\n",
       "      <td>11041</td>\n",
       "      <td>331.10</td>\n",
       "      <td>607218.682</td>\n",
       "    </tr>\n",
       "    <tr>\n",
       "      <th>华北</th>\n",
       "      <td>6939587</td>\n",
       "      <td>2447301.017</td>\n",
       "      <td>5146</td>\n",
       "      <td>74.10</td>\n",
       "      <td>431053.217</td>\n",
       "    </tr>\n",
       "    <tr>\n",
       "      <th>西北</th>\n",
       "      <td>2368978</td>\n",
       "      <td>815039.596</td>\n",
       "      <td>1785</td>\n",
       "      <td>53.40</td>\n",
       "      <td>98553.476</td>\n",
       "    </tr>\n",
       "    <tr>\n",
       "      <th>西南</th>\n",
       "      <td>4503658</td>\n",
       "      <td>1303124.508</td>\n",
       "      <td>3399</td>\n",
       "      <td>134.20</td>\n",
       "      <td>97636.728</td>\n",
       "    </tr>\n",
       "  </tbody>\n",
       "</table>\n",
       "</div>"
      ],
      "text/plain": [
       "        行 ID          销售额     数量      折扣          利润\n",
       "地区                                                  \n",
       "东北   8296805  2681567.469   6463  234.75  242191.509\n",
       "中南  13157091  4137415.093   9700  232.15  670885.313\n",
       "华东  14550225  4684506.442  11041  331.10  607218.682\n",
       "华北   6939587  2447301.017   5146   74.10  431053.217\n",
       "西北   2368978   815039.596   1785   53.40   98553.476\n",
       "西南   4503658  1303124.508   3399  134.20   97636.728"
      ]
     },
     "execution_count": 52,
     "metadata": {},
     "output_type": "execute_result"
    }
   ],
   "source": [
    "order.groupby(['地区']).sum()"
   ]
  },
  {
   "cell_type": "code",
   "execution_count": 56,
   "metadata": {},
   "outputs": [
    {
     "data": {
      "text/html": [
       "<div>\n",
       "<style scoped>\n",
       "    .dataframe tbody tr th:only-of-type {\n",
       "        vertical-align: middle;\n",
       "    }\n",
       "\n",
       "    .dataframe tbody tr th {\n",
       "        vertical-align: top;\n",
       "    }\n",
       "\n",
       "    .dataframe thead th {\n",
       "        text-align: right;\n",
       "    }\n",
       "</style>\n",
       "<table border=\"1\" class=\"dataframe\">\n",
       "  <thead>\n",
       "    <tr style=\"text-align: right;\">\n",
       "      <th></th>\n",
       "      <th>行 ID</th>\n",
       "      <th>订单 ID</th>\n",
       "      <th>订单日期</th>\n",
       "      <th>发货日期</th>\n",
       "      <th>邮寄方式</th>\n",
       "      <th>客户 ID</th>\n",
       "      <th>客户名称</th>\n",
       "      <th>细分</th>\n",
       "      <th>城市</th>\n",
       "      <th>省/自治区</th>\n",
       "      <th>国家</th>\n",
       "      <th>地区</th>\n",
       "      <th>产品 ID</th>\n",
       "      <th>类别</th>\n",
       "      <th>子类别</th>\n",
       "      <th>产品名称</th>\n",
       "      <th>销售额</th>\n",
       "      <th>数量</th>\n",
       "      <th>折扣</th>\n",
       "      <th>利润</th>\n",
       "    </tr>\n",
       "  </thead>\n",
       "  <tbody>\n",
       "    <tr>\n",
       "      <th>11</th>\n",
       "      <td>12</td>\n",
       "      <td>CN-2018-5801711</td>\n",
       "      <td>2018-06-01</td>\n",
       "      <td>2018-06-06</td>\n",
       "      <td>标准级</td>\n",
       "      <td>康青-19585</td>\n",
       "      <td>康青</td>\n",
       "      <td>消费者</td>\n",
       "      <td>哈尔滨</td>\n",
       "      <td>黑龙江</td>\n",
       "      <td>中国</td>\n",
       "      <td>东北</td>\n",
       "      <td>技术-复印-10002416</td>\n",
       "      <td>技术</td>\n",
       "      <td>复印机</td>\n",
       "      <td>惠普 墨水, 红色</td>\n",
       "      <td>2368.80</td>\n",
       "      <td>4</td>\n",
       "      <td>0.00</td>\n",
       "      <td>639.52</td>\n",
       "    </tr>\n",
       "    <tr>\n",
       "      <th>42</th>\n",
       "      <td>43</td>\n",
       "      <td>CN-2017-4054371</td>\n",
       "      <td>2017-12-24</td>\n",
       "      <td>2017-12-26</td>\n",
       "      <td>二级</td>\n",
       "      <td>吕兰-15700</td>\n",
       "      <td>吕兰</td>\n",
       "      <td>消费者</td>\n",
       "      <td>肇源</td>\n",
       "      <td>黑龙江</td>\n",
       "      <td>中国</td>\n",
       "      <td>东北</td>\n",
       "      <td>办公用-器具-10003452</td>\n",
       "      <td>办公用品</td>\n",
       "      <td>器具</td>\n",
       "      <td>KitchenAid 搅拌机, 黑色</td>\n",
       "      <td>4127.76</td>\n",
       "      <td>9</td>\n",
       "      <td>0.00</td>\n",
       "      <td>1650.60</td>\n",
       "    </tr>\n",
       "    <tr>\n",
       "      <th>49</th>\n",
       "      <td>50</td>\n",
       "      <td>CN-2018-2396895</td>\n",
       "      <td>2018-06-19</td>\n",
       "      <td>2018-06-22</td>\n",
       "      <td>二级</td>\n",
       "      <td>薛磊-15985</td>\n",
       "      <td>薛磊</td>\n",
       "      <td>消费者</td>\n",
       "      <td>蛟河</td>\n",
       "      <td>吉林</td>\n",
       "      <td>中国</td>\n",
       "      <td>东北</td>\n",
       "      <td>技术-电话-10004015</td>\n",
       "      <td>技术</td>\n",
       "      <td>电话</td>\n",
       "      <td>思科 充电器, 全尺寸</td>\n",
       "      <td>12183.36</td>\n",
       "      <td>4</td>\n",
       "      <td>0.00</td>\n",
       "      <td>1340.08</td>\n",
       "    </tr>\n",
       "    <tr>\n",
       "      <th>50</th>\n",
       "      <td>51</td>\n",
       "      <td>CN-2018-2396895</td>\n",
       "      <td>2018-06-19</td>\n",
       "      <td>2018-06-22</td>\n",
       "      <td>二级</td>\n",
       "      <td>薛磊-15985</td>\n",
       "      <td>薛磊</td>\n",
       "      <td>消费者</td>\n",
       "      <td>蛟河</td>\n",
       "      <td>吉林</td>\n",
       "      <td>中国</td>\n",
       "      <td>东北</td>\n",
       "      <td>技术-复印-10003216</td>\n",
       "      <td>技术</td>\n",
       "      <td>复印机</td>\n",
       "      <td>Hewlett 传真机, 彩色</td>\n",
       "      <td>2999.36</td>\n",
       "      <td>2</td>\n",
       "      <td>0.00</td>\n",
       "      <td>1229.48</td>\n",
       "    </tr>\n",
       "    <tr>\n",
       "      <th>51</th>\n",
       "      <td>52</td>\n",
       "      <td>CN-2018-2396895</td>\n",
       "      <td>2018-06-19</td>\n",
       "      <td>2018-06-22</td>\n",
       "      <td>二级</td>\n",
       "      <td>薛磊-15985</td>\n",
       "      <td>薛磊</td>\n",
       "      <td>消费者</td>\n",
       "      <td>蛟河</td>\n",
       "      <td>吉林</td>\n",
       "      <td>中国</td>\n",
       "      <td>东北</td>\n",
       "      <td>办公用-收纳-10000501</td>\n",
       "      <td>办公用品</td>\n",
       "      <td>收纳具</td>\n",
       "      <td>Tenex 盘, 工业</td>\n",
       "      <td>510.44</td>\n",
       "      <td>2</td>\n",
       "      <td>0.00</td>\n",
       "      <td>224.56</td>\n",
       "    </tr>\n",
       "    <tr>\n",
       "      <th>...</th>\n",
       "      <td>...</td>\n",
       "      <td>...</td>\n",
       "      <td>...</td>\n",
       "      <td>...</td>\n",
       "      <td>...</td>\n",
       "      <td>...</td>\n",
       "      <td>...</td>\n",
       "      <td>...</td>\n",
       "      <td>...</td>\n",
       "      <td>...</td>\n",
       "      <td>...</td>\n",
       "      <td>...</td>\n",
       "      <td>...</td>\n",
       "      <td>...</td>\n",
       "      <td>...</td>\n",
       "      <td>...</td>\n",
       "      <td>...</td>\n",
       "      <td>...</td>\n",
       "      <td>...</td>\n",
       "      <td>...</td>\n",
       "    </tr>\n",
       "    <tr>\n",
       "      <th>9944</th>\n",
       "      <td>9986</td>\n",
       "      <td>CN-2016-1608087</td>\n",
       "      <td>2016-08-13</td>\n",
       "      <td>2016-08-14</td>\n",
       "      <td>一级</td>\n",
       "      <td>贺斯-20935</td>\n",
       "      <td>贺斯云</td>\n",
       "      <td>消费者</td>\n",
       "      <td>哈尔滨</td>\n",
       "      <td>黑龙江</td>\n",
       "      <td>中国</td>\n",
       "      <td>东北</td>\n",
       "      <td>办公用-装订-10000850</td>\n",
       "      <td>办公用品</td>\n",
       "      <td>装订机</td>\n",
       "      <td>Wilson Jones 装订机盖, 回收</td>\n",
       "      <td>107.80</td>\n",
       "      <td>2</td>\n",
       "      <td>0.00</td>\n",
       "      <td>19.32</td>\n",
       "    </tr>\n",
       "    <tr>\n",
       "      <th>9945</th>\n",
       "      <td>9987</td>\n",
       "      <td>CN-2016-1608087</td>\n",
       "      <td>2016-08-13</td>\n",
       "      <td>2016-08-14</td>\n",
       "      <td>一级</td>\n",
       "      <td>贺斯-20935</td>\n",
       "      <td>贺斯云</td>\n",
       "      <td>消费者</td>\n",
       "      <td>哈尔滨</td>\n",
       "      <td>黑龙江</td>\n",
       "      <td>中国</td>\n",
       "      <td>东北</td>\n",
       "      <td>办公用-用品-10002884</td>\n",
       "      <td>办公用品</td>\n",
       "      <td>用品</td>\n",
       "      <td>Stiletto 修剪器, 蓝色</td>\n",
       "      <td>399.00</td>\n",
       "      <td>2</td>\n",
       "      <td>0.00</td>\n",
       "      <td>51.80</td>\n",
       "    </tr>\n",
       "    <tr>\n",
       "      <th>9946</th>\n",
       "      <td>9988</td>\n",
       "      <td>CN-2016-1608087</td>\n",
       "      <td>2016-08-13</td>\n",
       "      <td>2016-08-14</td>\n",
       "      <td>一级</td>\n",
       "      <td>贺斯-20935</td>\n",
       "      <td>贺斯云</td>\n",
       "      <td>消费者</td>\n",
       "      <td>哈尔滨</td>\n",
       "      <td>黑龙江</td>\n",
       "      <td>中国</td>\n",
       "      <td>东北</td>\n",
       "      <td>办公用-纸张-10004825</td>\n",
       "      <td>办公用品</td>\n",
       "      <td>纸张</td>\n",
       "      <td>施乐 令, 回收</td>\n",
       "      <td>367.50</td>\n",
       "      <td>3</td>\n",
       "      <td>0.00</td>\n",
       "      <td>32.76</td>\n",
       "    </tr>\n",
       "    <tr>\n",
       "      <th>9952</th>\n",
       "      <td>9994</td>\n",
       "      <td>US-2015-5128542</td>\n",
       "      <td>2015-05-23</td>\n",
       "      <td>2015-05-27</td>\n",
       "      <td>标准级</td>\n",
       "      <td>贺婉-21355</td>\n",
       "      <td>贺婉</td>\n",
       "      <td>公司</td>\n",
       "      <td>四平</td>\n",
       "      <td>吉林</td>\n",
       "      <td>中国</td>\n",
       "      <td>东北</td>\n",
       "      <td>技术-配件-10002428</td>\n",
       "      <td>技术</td>\n",
       "      <td>配件</td>\n",
       "      <td>罗技 闪存驱动器, 回收</td>\n",
       "      <td>396.48</td>\n",
       "      <td>3</td>\n",
       "      <td>0.00</td>\n",
       "      <td>23.52</td>\n",
       "    </tr>\n",
       "    <tr>\n",
       "      <th>9953</th>\n",
       "      <td>9995</td>\n",
       "      <td>CN-2018-5146329</td>\n",
       "      <td>2018-09-17</td>\n",
       "      <td>2018-09-20</td>\n",
       "      <td>一级</td>\n",
       "      <td>武明-18385</td>\n",
       "      <td>武明媚</td>\n",
       "      <td>消费者</td>\n",
       "      <td>讷河</td>\n",
       "      <td>黑龙江</td>\n",
       "      <td>中国</td>\n",
       "      <td>东北</td>\n",
       "      <td>家具-桌子-10002211</td>\n",
       "      <td>家具</td>\n",
       "      <td>桌子</td>\n",
       "      <td>Barricks 电脑桌, 白色</td>\n",
       "      <td>3360.21</td>\n",
       "      <td>2</td>\n",
       "      <td>0.25</td>\n",
       "      <td>-268.87</td>\n",
       "    </tr>\n",
       "  </tbody>\n",
       "</table>\n",
       "<p>1666 rows × 20 columns</p>\n",
       "</div>"
      ],
      "text/plain": [
       "      行 ID            订单 ID       订单日期       发货日期 邮寄方式     客户 ID 客户名称   细分  \\\n",
       "11      12  CN-2018-5801711 2018-06-01 2018-06-06  标准级  康青-19585   康青  消费者   \n",
       "42      43  CN-2017-4054371 2017-12-24 2017-12-26   二级  吕兰-15700   吕兰  消费者   \n",
       "49      50  CN-2018-2396895 2018-06-19 2018-06-22   二级  薛磊-15985   薛磊  消费者   \n",
       "50      51  CN-2018-2396895 2018-06-19 2018-06-22   二级  薛磊-15985   薛磊  消费者   \n",
       "51      52  CN-2018-2396895 2018-06-19 2018-06-22   二级  薛磊-15985   薛磊  消费者   \n",
       "...    ...              ...        ...        ...  ...       ...  ...  ...   \n",
       "9944  9986  CN-2016-1608087 2016-08-13 2016-08-14   一级  贺斯-20935  贺斯云  消费者   \n",
       "9945  9987  CN-2016-1608087 2016-08-13 2016-08-14   一级  贺斯-20935  贺斯云  消费者   \n",
       "9946  9988  CN-2016-1608087 2016-08-13 2016-08-14   一级  贺斯-20935  贺斯云  消费者   \n",
       "9952  9994  US-2015-5128542 2015-05-23 2015-05-27  标准级  贺婉-21355   贺婉   公司   \n",
       "9953  9995  CN-2018-5146329 2018-09-17 2018-09-20   一级  武明-18385  武明媚  消费者   \n",
       "\n",
       "       城市 省/自治区  国家  地区            产品 ID    类别  子类别                   产品名称  \\\n",
       "11    哈尔滨   黑龙江  中国  东北   技术-复印-10002416    技术  复印机              惠普 墨水, 红色   \n",
       "42     肇源   黑龙江  中国  东北  办公用-器具-10003452  办公用品   器具     KitchenAid 搅拌机, 黑色   \n",
       "49     蛟河    吉林  中国  东北   技术-电话-10004015    技术   电话            思科 充电器, 全尺寸   \n",
       "50     蛟河    吉林  中国  东北   技术-复印-10003216    技术  复印机        Hewlett 传真机, 彩色   \n",
       "51     蛟河    吉林  中国  东北  办公用-收纳-10000501  办公用品  收纳具            Tenex 盘, 工业   \n",
       "...   ...   ...  ..  ..              ...   ...  ...                    ...   \n",
       "9944  哈尔滨   黑龙江  中国  东北  办公用-装订-10000850  办公用品  装订机  Wilson Jones 装订机盖, 回收   \n",
       "9945  哈尔滨   黑龙江  中国  东北  办公用-用品-10002884  办公用品   用品       Stiletto 修剪器, 蓝色   \n",
       "9946  哈尔滨   黑龙江  中国  东北  办公用-纸张-10004825  办公用品   纸张               施乐 令, 回收   \n",
       "9952   四平    吉林  中国  东北   技术-配件-10002428    技术   配件           罗技 闪存驱动器, 回收   \n",
       "9953   讷河   黑龙江  中国  东北   家具-桌子-10002211    家具   桌子       Barricks 电脑桌, 白色   \n",
       "\n",
       "           销售额  数量    折扣       利润  \n",
       "11     2368.80   4  0.00   639.52  \n",
       "42     4127.76   9  0.00  1650.60  \n",
       "49    12183.36   4  0.00  1340.08  \n",
       "50     2999.36   2  0.00  1229.48  \n",
       "51      510.44   2  0.00   224.56  \n",
       "...        ...  ..   ...      ...  \n",
       "9944    107.80   2  0.00    19.32  \n",
       "9945    399.00   2  0.00    51.80  \n",
       "9946    367.50   3  0.00    32.76  \n",
       "9952    396.48   3  0.00    23.52  \n",
       "9953   3360.21   2  0.25  -268.87  \n",
       "\n",
       "[1666 rows x 20 columns]"
      ]
     },
     "execution_count": 56,
     "metadata": {},
     "output_type": "execute_result"
    }
   ],
   "source": [
    "list(order.groupby(['地区']))[0]  #(分组字段值，当前分组的dataframe)\n",
    "list(order.groupby(['地区']))[0][1]"
   ]
  },
  {
   "cell_type": "code",
   "execution_count": 57,
   "metadata": {},
   "outputs": [
    {
     "data": {
      "text/plain": [
       "地区\n",
       "东北    1666\n",
       "中南    2581\n",
       "华东    2944\n",
       "华北    1369\n",
       "西北     478\n",
       "西南     921\n",
       "Name: 行 ID, dtype: int64"
      ]
     },
     "execution_count": 57,
     "metadata": {},
     "output_type": "execute_result"
    }
   ],
   "source": [
    "order.groupby(['地区'])[\"行 ID\"].count()"
   ]
  },
  {
   "cell_type": "markdown",
   "metadata": {},
   "source": [
    "### 4.3 选择有现实意义的数值型变量进行汇总"
   ]
  },
  {
   "cell_type": "code",
   "execution_count": 58,
   "metadata": {},
   "outputs": [
    {
     "name": "stderr",
     "output_type": "stream",
     "text": [
      "<ipython-input-58-1d5f6849d054>:2: FutureWarning: Indexing with multiple keys (implicitly converted to a tuple of keys) will be deprecated, use a list instead.\n",
      "  order.groupby(['地区'])['销售额','数量','利润'].sum()\n"
     ]
    },
    {
     "data": {
      "text/html": [
       "<div>\n",
       "<style scoped>\n",
       "    .dataframe tbody tr th:only-of-type {\n",
       "        vertical-align: middle;\n",
       "    }\n",
       "\n",
       "    .dataframe tbody tr th {\n",
       "        vertical-align: top;\n",
       "    }\n",
       "\n",
       "    .dataframe thead th {\n",
       "        text-align: right;\n",
       "    }\n",
       "</style>\n",
       "<table border=\"1\" class=\"dataframe\">\n",
       "  <thead>\n",
       "    <tr style=\"text-align: right;\">\n",
       "      <th></th>\n",
       "      <th>销售额</th>\n",
       "      <th>数量</th>\n",
       "      <th>利润</th>\n",
       "    </tr>\n",
       "    <tr>\n",
       "      <th>地区</th>\n",
       "      <th></th>\n",
       "      <th></th>\n",
       "      <th></th>\n",
       "    </tr>\n",
       "  </thead>\n",
       "  <tbody>\n",
       "    <tr>\n",
       "      <th>东北</th>\n",
       "      <td>2681567.469</td>\n",
       "      <td>6463</td>\n",
       "      <td>242191.509</td>\n",
       "    </tr>\n",
       "    <tr>\n",
       "      <th>中南</th>\n",
       "      <td>4137415.093</td>\n",
       "      <td>9700</td>\n",
       "      <td>670885.313</td>\n",
       "    </tr>\n",
       "    <tr>\n",
       "      <th>华东</th>\n",
       "      <td>4684506.442</td>\n",
       "      <td>11041</td>\n",
       "      <td>607218.682</td>\n",
       "    </tr>\n",
       "    <tr>\n",
       "      <th>华北</th>\n",
       "      <td>2447301.017</td>\n",
       "      <td>5146</td>\n",
       "      <td>431053.217</td>\n",
       "    </tr>\n",
       "    <tr>\n",
       "      <th>西北</th>\n",
       "      <td>815039.596</td>\n",
       "      <td>1785</td>\n",
       "      <td>98553.476</td>\n",
       "    </tr>\n",
       "    <tr>\n",
       "      <th>西南</th>\n",
       "      <td>1303124.508</td>\n",
       "      <td>3399</td>\n",
       "      <td>97636.728</td>\n",
       "    </tr>\n",
       "  </tbody>\n",
       "</table>\n",
       "</div>"
      ],
      "text/plain": [
       "            销售额     数量          利润\n",
       "地区                                \n",
       "东北  2681567.469   6463  242191.509\n",
       "中南  4137415.093   9700  670885.313\n",
       "华东  4684506.442  11041  607218.682\n",
       "华北  2447301.017   5146  431053.217\n",
       "西北   815039.596   1785   98553.476\n",
       "西南  1303124.508   3399   97636.728"
      ]
     },
     "execution_count": 58,
     "metadata": {},
     "output_type": "execute_result"
    }
   ],
   "source": [
    "# 按照地区对销售额,销售数量,销售利润进行汇总\n",
    "order.groupby(['地区'])['销售额','数量','利润'].sum()"
   ]
  },
  {
   "cell_type": "code",
   "execution_count": 66,
   "metadata": {},
   "outputs": [
    {
     "data": {
      "text/plain": [
       "细分\n",
       "消费者    8025072.188\n",
       "Name: 销售额, dtype: float64"
      ]
     },
     "execution_count": 66,
     "metadata": {},
     "output_type": "execute_result"
    }
   ],
   "source": [
    "# 不同细分市场的销售额\n",
    "order.groupby('细分').销售额.sum()\n",
    "order.groupby('细分').sum().销售额\n",
    "order.groupby('细分').sum()['销售额']\n",
    "order.groupby('细分')['销售额'].sum().sort_values(ascending=False).head(1)"
   ]
  },
  {
   "cell_type": "code",
   "execution_count": null,
   "metadata": {},
   "outputs": [],
   "source": [
    "order.groupby('细分').sum().销售额"
   ]
  },
  {
   "cell_type": "code",
   "execution_count": null,
   "metadata": {},
   "outputs": [],
   "source": [
    "order.groupby('细分')['销售额'].sum()"
   ]
  },
  {
   "cell_type": "code",
   "execution_count": null,
   "metadata": {},
   "outputs": [],
   "source": [
    "# 按照地区对销售额,销售利润来求平均值\n",
    "order.groupby(['地区'])['销售额','利润'].mean()"
   ]
  },
  {
   "cell_type": "markdown",
   "metadata": {},
   "source": [
    "### 4.4 分组查看变量的描述性统计量"
   ]
  },
  {
   "cell_type": "code",
   "execution_count": 68,
   "metadata": {},
   "outputs": [
    {
     "data": {
      "text/html": [
       "<div>\n",
       "<style scoped>\n",
       "    .dataframe tbody tr th:only-of-type {\n",
       "        vertical-align: middle;\n",
       "    }\n",
       "\n",
       "    .dataframe tbody tr th {\n",
       "        vertical-align: top;\n",
       "    }\n",
       "\n",
       "    .dataframe thead th {\n",
       "        text-align: right;\n",
       "    }\n",
       "</style>\n",
       "<table border=\"1\" class=\"dataframe\">\n",
       "  <thead>\n",
       "    <tr style=\"text-align: right;\">\n",
       "      <th></th>\n",
       "      <th>count</th>\n",
       "      <th>mean</th>\n",
       "      <th>std</th>\n",
       "      <th>min</th>\n",
       "      <th>25%</th>\n",
       "      <th>50%</th>\n",
       "      <th>75%</th>\n",
       "      <th>max</th>\n",
       "    </tr>\n",
       "    <tr>\n",
       "      <th>地区</th>\n",
       "      <th></th>\n",
       "      <th></th>\n",
       "      <th></th>\n",
       "      <th></th>\n",
       "      <th></th>\n",
       "      <th></th>\n",
       "      <th></th>\n",
       "      <th></th>\n",
       "    </tr>\n",
       "  </thead>\n",
       "  <tbody>\n",
       "    <tr>\n",
       "      <th>东北</th>\n",
       "      <td>1666.0</td>\n",
       "      <td>1609.584315</td>\n",
       "      <td>2555.175164</td>\n",
       "      <td>13.692</td>\n",
       "      <td>261.345</td>\n",
       "      <td>648.480</td>\n",
       "      <td>1797.705</td>\n",
       "      <td>25711.840</td>\n",
       "    </tr>\n",
       "    <tr>\n",
       "      <th>中南</th>\n",
       "      <td>2581.0</td>\n",
       "      <td>1603.027932</td>\n",
       "      <td>2555.205920</td>\n",
       "      <td>13.440</td>\n",
       "      <td>248.640</td>\n",
       "      <td>627.228</td>\n",
       "      <td>1732.584</td>\n",
       "      <td>25995.060</td>\n",
       "    </tr>\n",
       "    <tr>\n",
       "      <th>华东</th>\n",
       "      <td>2944.0</td>\n",
       "      <td>1591.204634</td>\n",
       "      <td>2658.711765</td>\n",
       "      <td>13.580</td>\n",
       "      <td>244.825</td>\n",
       "      <td>631.890</td>\n",
       "      <td>1759.975</td>\n",
       "      <td>29124.480</td>\n",
       "    </tr>\n",
       "    <tr>\n",
       "      <th>华北</th>\n",
       "      <td>1369.0</td>\n",
       "      <td>1787.655966</td>\n",
       "      <td>3002.880726</td>\n",
       "      <td>15.876</td>\n",
       "      <td>263.760</td>\n",
       "      <td>669.480</td>\n",
       "      <td>1989.400</td>\n",
       "      <td>35621.355</td>\n",
       "    </tr>\n",
       "    <tr>\n",
       "      <th>西北</th>\n",
       "      <td>478.0</td>\n",
       "      <td>1705.103757</td>\n",
       "      <td>2751.197403</td>\n",
       "      <td>20.580</td>\n",
       "      <td>256.515</td>\n",
       "      <td>649.950</td>\n",
       "      <td>1855.938</td>\n",
       "      <td>20942.880</td>\n",
       "    </tr>\n",
       "    <tr>\n",
       "      <th>西南</th>\n",
       "      <td>921.0</td>\n",
       "      <td>1414.901746</td>\n",
       "      <td>2312.450611</td>\n",
       "      <td>23.520</td>\n",
       "      <td>235.200</td>\n",
       "      <td>584.500</td>\n",
       "      <td>1610.448</td>\n",
       "      <td>24536.400</td>\n",
       "    </tr>\n",
       "  </tbody>\n",
       "</table>\n",
       "</div>"
      ],
      "text/plain": [
       "     count         mean          std     min      25%      50%       75%  \\\n",
       "地区                                                                         \n",
       "东北  1666.0  1609.584315  2555.175164  13.692  261.345  648.480  1797.705   \n",
       "中南  2581.0  1603.027932  2555.205920  13.440  248.640  627.228  1732.584   \n",
       "华东  2944.0  1591.204634  2658.711765  13.580  244.825  631.890  1759.975   \n",
       "华北  1369.0  1787.655966  3002.880726  15.876  263.760  669.480  1989.400   \n",
       "西北   478.0  1705.103757  2751.197403  20.580  256.515  649.950  1855.938   \n",
       "西南   921.0  1414.901746  2312.450611  23.520  235.200  584.500  1610.448   \n",
       "\n",
       "          max  \n",
       "地区             \n",
       "东北  25711.840  \n",
       "中南  25995.060  \n",
       "华东  29124.480  \n",
       "华北  35621.355  \n",
       "西北  20942.880  \n",
       "西南  24536.400  "
      ]
     },
     "execution_count": 68,
     "metadata": {},
     "output_type": "execute_result"
    }
   ],
   "source": [
    "# 根据不同地区查看销售额的描述性统计\n",
    "order.groupby(['地区'])['销售额'].describe()\n",
    "order.groupby(['地区']).describe()['销售额']\n"
   ]
  },
  {
   "cell_type": "code",
   "execution_count": null,
   "metadata": {},
   "outputs": [],
   "source": [
    "order.groupby(['地区'])['销售额'].describe()"
   ]
  },
  {
   "cell_type": "code",
   "execution_count": null,
   "metadata": {},
   "outputs": [],
   "source": [
    "# 分组查看利润的描述性统计\n",
    "order.groupby('地区')['利润'].describe()"
   ]
  },
  {
   "cell_type": "markdown",
   "metadata": {},
   "source": [
    "### 4.5 按照多个分类变量对数据进行汇总"
   ]
  },
  {
   "cell_type": "code",
   "execution_count": 69,
   "metadata": {},
   "outputs": [
    {
     "data": {
      "text/html": [
       "<div>\n",
       "<style scoped>\n",
       "    .dataframe tbody tr th:only-of-type {\n",
       "        vertical-align: middle;\n",
       "    }\n",
       "\n",
       "    .dataframe tbody tr th {\n",
       "        vertical-align: top;\n",
       "    }\n",
       "\n",
       "    .dataframe thead th {\n",
       "        text-align: right;\n",
       "    }\n",
       "</style>\n",
       "<table border=\"1\" class=\"dataframe\">\n",
       "  <thead>\n",
       "    <tr style=\"text-align: right;\">\n",
       "      <th></th>\n",
       "      <th></th>\n",
       "      <th>销售额</th>\n",
       "    </tr>\n",
       "    <tr>\n",
       "      <th>细分</th>\n",
       "      <th>地区</th>\n",
       "      <th></th>\n",
       "    </tr>\n",
       "  </thead>\n",
       "  <tbody>\n",
       "    <tr>\n",
       "      <th rowspan=\"6\" valign=\"top\">公司</th>\n",
       "      <th>东北</th>\n",
       "      <td>834842.827</td>\n",
       "    </tr>\n",
       "    <tr>\n",
       "      <th>中南</th>\n",
       "      <td>1335665.324</td>\n",
       "    </tr>\n",
       "    <tr>\n",
       "      <th>华东</th>\n",
       "      <td>1454715.808</td>\n",
       "    </tr>\n",
       "    <tr>\n",
       "      <th>华北</th>\n",
       "      <td>804769.469</td>\n",
       "    </tr>\n",
       "    <tr>\n",
       "      <th>西北</th>\n",
       "      <td>253458.184</td>\n",
       "    </tr>\n",
       "    <tr>\n",
       "      <th>西南</th>\n",
       "      <td>469341.684</td>\n",
       "    </tr>\n",
       "    <tr>\n",
       "      <th rowspan=\"6\" valign=\"top\">小型企业</th>\n",
       "      <th>东北</th>\n",
       "      <td>522739.035</td>\n",
       "    </tr>\n",
       "    <tr>\n",
       "      <th>中南</th>\n",
       "      <td>743813.007</td>\n",
       "    </tr>\n",
       "    <tr>\n",
       "      <th>华东</th>\n",
       "      <td>942432.372</td>\n",
       "    </tr>\n",
       "    <tr>\n",
       "      <th>华北</th>\n",
       "      <td>422100.987</td>\n",
       "    </tr>\n",
       "    <tr>\n",
       "      <th>西北</th>\n",
       "      <td>103523.308</td>\n",
       "    </tr>\n",
       "    <tr>\n",
       "      <th>西南</th>\n",
       "      <td>156479.932</td>\n",
       "    </tr>\n",
       "    <tr>\n",
       "      <th rowspan=\"6\" valign=\"top\">消费者</th>\n",
       "      <th>东北</th>\n",
       "      <td>1323985.607</td>\n",
       "    </tr>\n",
       "    <tr>\n",
       "      <th>中南</th>\n",
       "      <td>2057936.762</td>\n",
       "    </tr>\n",
       "    <tr>\n",
       "      <th>华东</th>\n",
       "      <td>2287358.262</td>\n",
       "    </tr>\n",
       "    <tr>\n",
       "      <th>华北</th>\n",
       "      <td>1220430.561</td>\n",
       "    </tr>\n",
       "    <tr>\n",
       "      <th>西北</th>\n",
       "      <td>458058.104</td>\n",
       "    </tr>\n",
       "    <tr>\n",
       "      <th>西南</th>\n",
       "      <td>677302.892</td>\n",
       "    </tr>\n",
       "  </tbody>\n",
       "</table>\n",
       "</div>"
      ],
      "text/plain": [
       "                 销售额\n",
       "细分   地区             \n",
       "公司   东北   834842.827\n",
       "     中南  1335665.324\n",
       "     华东  1454715.808\n",
       "     华北   804769.469\n",
       "     西北   253458.184\n",
       "     西南   469341.684\n",
       "小型企业 东北   522739.035\n",
       "     中南   743813.007\n",
       "     华东   942432.372\n",
       "     华北   422100.987\n",
       "     西北   103523.308\n",
       "     西南   156479.932\n",
       "消费者  东北  1323985.607\n",
       "     中南  2057936.762\n",
       "     华东  2287358.262\n",
       "     华北  1220430.561\n",
       "     西北   458058.104\n",
       "     西南   677302.892"
      ]
     },
     "execution_count": 69,
     "metadata": {},
     "output_type": "execute_result"
    }
   ],
   "source": [
    "# 按照市场细分和地区来汇总销售额\n",
    "order.groupby(['细分','地区']).sum()['销售额']"
   ]
  },
  {
   "cell_type": "code",
   "execution_count": 58,
   "metadata": {},
   "outputs": [
    {
     "data": {
      "text/html": [
       "<div>\n",
       "<style scoped>\n",
       "    .dataframe tbody tr th:only-of-type {\n",
       "        vertical-align: middle;\n",
       "    }\n",
       "\n",
       "    .dataframe tbody tr th {\n",
       "        vertical-align: top;\n",
       "    }\n",
       "\n",
       "    .dataframe thead th {\n",
       "        text-align: right;\n",
       "    }\n",
       "</style>\n",
       "<table border=\"1\" class=\"dataframe\">\n",
       "  <thead>\n",
       "    <tr style=\"text-align: right;\">\n",
       "      <th></th>\n",
       "      <th></th>\n",
       "      <th>销售额</th>\n",
       "      <th>利润</th>\n",
       "      <th>数量</th>\n",
       "    </tr>\n",
       "    <tr>\n",
       "      <th>细分</th>\n",
       "      <th>地区</th>\n",
       "      <th></th>\n",
       "      <th></th>\n",
       "      <th></th>\n",
       "    </tr>\n",
       "  </thead>\n",
       "  <tbody>\n",
       "    <tr>\n",
       "      <th rowspan=\"6\" valign=\"top\">公司</th>\n",
       "      <th>东北</th>\n",
       "      <td>834842.827</td>\n",
       "      <td>56978.327</td>\n",
       "      <td>1987</td>\n",
       "    </tr>\n",
       "    <tr>\n",
       "      <th>中南</th>\n",
       "      <td>1335665.324</td>\n",
       "      <td>197862.084</td>\n",
       "      <td>3098</td>\n",
       "    </tr>\n",
       "    <tr>\n",
       "      <th>华东</th>\n",
       "      <td>1454715.808</td>\n",
       "      <td>186383.428</td>\n",
       "      <td>3344</td>\n",
       "    </tr>\n",
       "    <tr>\n",
       "      <th>华北</th>\n",
       "      <td>804769.469</td>\n",
       "      <td>166445.209</td>\n",
       "      <td>1485</td>\n",
       "    </tr>\n",
       "    <tr>\n",
       "      <th>西北</th>\n",
       "      <td>253458.184</td>\n",
       "      <td>44090.564</td>\n",
       "      <td>548</td>\n",
       "    </tr>\n",
       "    <tr>\n",
       "      <th>西南</th>\n",
       "      <td>469341.684</td>\n",
       "      <td>30208.024</td>\n",
       "      <td>1119</td>\n",
       "    </tr>\n",
       "    <tr>\n",
       "      <th rowspan=\"6\" valign=\"top\">小型企业</th>\n",
       "      <th>东北</th>\n",
       "      <td>522739.035</td>\n",
       "      <td>64188.915</td>\n",
       "      <td>1230</td>\n",
       "    </tr>\n",
       "    <tr>\n",
       "      <th>中南</th>\n",
       "      <td>743813.007</td>\n",
       "      <td>147234.507</td>\n",
       "      <td>1733</td>\n",
       "    </tr>\n",
       "    <tr>\n",
       "      <th>华东</th>\n",
       "      <td>942432.372</td>\n",
       "      <td>109774.252</td>\n",
       "      <td>2131</td>\n",
       "    </tr>\n",
       "    <tr>\n",
       "      <th>华北</th>\n",
       "      <td>422100.987</td>\n",
       "      <td>72593.227</td>\n",
       "      <td>987</td>\n",
       "    </tr>\n",
       "    <tr>\n",
       "      <th>西北</th>\n",
       "      <td>103523.308</td>\n",
       "      <td>5439.728</td>\n",
       "      <td>223</td>\n",
       "    </tr>\n",
       "    <tr>\n",
       "      <th>西南</th>\n",
       "      <td>156479.932</td>\n",
       "      <td>13248.032</td>\n",
       "      <td>476</td>\n",
       "    </tr>\n",
       "    <tr>\n",
       "      <th rowspan=\"6\" valign=\"top\">消费者</th>\n",
       "      <th>东北</th>\n",
       "      <td>1323985.607</td>\n",
       "      <td>121024.267</td>\n",
       "      <td>3246</td>\n",
       "    </tr>\n",
       "    <tr>\n",
       "      <th>中南</th>\n",
       "      <td>2057936.762</td>\n",
       "      <td>325788.722</td>\n",
       "      <td>4869</td>\n",
       "    </tr>\n",
       "    <tr>\n",
       "      <th>华东</th>\n",
       "      <td>2287358.262</td>\n",
       "      <td>311061.002</td>\n",
       "      <td>5566</td>\n",
       "    </tr>\n",
       "    <tr>\n",
       "      <th>华北</th>\n",
       "      <td>1220430.561</td>\n",
       "      <td>192014.781</td>\n",
       "      <td>2674</td>\n",
       "    </tr>\n",
       "    <tr>\n",
       "      <th>西北</th>\n",
       "      <td>458058.104</td>\n",
       "      <td>49023.184</td>\n",
       "      <td>1014</td>\n",
       "    </tr>\n",
       "    <tr>\n",
       "      <th>西南</th>\n",
       "      <td>677302.892</td>\n",
       "      <td>54180.672</td>\n",
       "      <td>1804</td>\n",
       "    </tr>\n",
       "  </tbody>\n",
       "</table>\n",
       "</div>"
      ],
      "text/plain": [
       "                 销售额          利润    数量\n",
       "细分   地区                               \n",
       "公司   东北   834842.827   56978.327  1987\n",
       "     中南  1335665.324  197862.084  3098\n",
       "     华东  1454715.808  186383.428  3344\n",
       "     华北   804769.469  166445.209  1485\n",
       "     西北   253458.184   44090.564   548\n",
       "     西南   469341.684   30208.024  1119\n",
       "小型企业 东北   522739.035   64188.915  1230\n",
       "     中南   743813.007  147234.507  1733\n",
       "     华东   942432.372  109774.252  2131\n",
       "     华北   422100.987   72593.227   987\n",
       "     西北   103523.308    5439.728   223\n",
       "     西南   156479.932   13248.032   476\n",
       "消费者  东北  1323985.607  121024.267  3246\n",
       "     中南  2057936.762  325788.722  4869\n",
       "     华东  2287358.262  311061.002  5566\n",
       "     华北  1220430.561  192014.781  2674\n",
       "     西北   458058.104   49023.184  1014\n",
       "     西南   677302.892   54180.672  1804"
      ]
     },
     "execution_count": 58,
     "metadata": {},
     "output_type": "execute_result"
    }
   ],
   "source": [
    "# 按照市场细分和地区来汇总销售额,利润,和销售数量\n",
    "order.groupby(['细分','地区']).sum()[['销售额','利润','数量']]"
   ]
  },
  {
   "cell_type": "markdown",
   "metadata": {},
   "source": [
    "### 4.6 将透视分析结果以交叉表的形式呈现"
   ]
  },
  {
   "cell_type": "code",
   "execution_count": 70,
   "metadata": {},
   "outputs": [
    {
     "name": "stderr",
     "output_type": "stream",
     "text": [
      "<ipython-input-70-ca46da077aa6>:2: FutureWarning: Indexing with multiple keys (implicitly converted to a tuple of keys) will be deprecated, use a list instead.\n",
      "  order.groupby(['细分','类别'])['销售额','利润'].sum()\n"
     ]
    },
    {
     "data": {
      "text/html": [
       "<div>\n",
       "<style scoped>\n",
       "    .dataframe tbody tr th:only-of-type {\n",
       "        vertical-align: middle;\n",
       "    }\n",
       "\n",
       "    .dataframe tbody tr th {\n",
       "        vertical-align: top;\n",
       "    }\n",
       "\n",
       "    .dataframe thead th {\n",
       "        text-align: right;\n",
       "    }\n",
       "</style>\n",
       "<table border=\"1\" class=\"dataframe\">\n",
       "  <thead>\n",
       "    <tr style=\"text-align: right;\">\n",
       "      <th></th>\n",
       "      <th></th>\n",
       "      <th>销售额</th>\n",
       "      <th>利润</th>\n",
       "    </tr>\n",
       "    <tr>\n",
       "      <th>细分</th>\n",
       "      <th>类别</th>\n",
       "      <th></th>\n",
       "      <th></th>\n",
       "    </tr>\n",
       "  </thead>\n",
       "  <tbody>\n",
       "    <tr>\n",
       "      <th rowspan=\"3\" valign=\"top\">公司</th>\n",
       "      <th>办公用品</th>\n",
       "      <td>1484595.924</td>\n",
       "      <td>226830.604</td>\n",
       "    </tr>\n",
       "    <tr>\n",
       "      <th>家具</th>\n",
       "      <td>1903622.756</td>\n",
       "      <td>230733.636</td>\n",
       "    </tr>\n",
       "    <tr>\n",
       "      <th>技术</th>\n",
       "      <td>1764574.616</td>\n",
       "      <td>224403.396</td>\n",
       "    </tr>\n",
       "    <tr>\n",
       "      <th rowspan=\"3\" valign=\"top\">小型企业</th>\n",
       "      <th>办公用品</th>\n",
       "      <td>837464.544</td>\n",
       "      <td>148528.604</td>\n",
       "    </tr>\n",
       "    <tr>\n",
       "      <th>家具</th>\n",
       "      <td>1042003.641</td>\n",
       "      <td>123404.281</td>\n",
       "    </tr>\n",
       "    <tr>\n",
       "      <th>技术</th>\n",
       "      <td>1011620.456</td>\n",
       "      <td>140545.776</td>\n",
       "    </tr>\n",
       "    <tr>\n",
       "      <th rowspan=\"3\" valign=\"top\">消费者</th>\n",
       "      <th>办公用品</th>\n",
       "      <td>2543529.324</td>\n",
       "      <td>382281.144</td>\n",
       "    </tr>\n",
       "    <tr>\n",
       "      <th>家具</th>\n",
       "      <td>2788714.432</td>\n",
       "      <td>284597.712</td>\n",
       "    </tr>\n",
       "    <tr>\n",
       "      <th>技术</th>\n",
       "      <td>2692828.432</td>\n",
       "      <td>386213.772</td>\n",
       "    </tr>\n",
       "  </tbody>\n",
       "</table>\n",
       "</div>"
      ],
      "text/plain": [
       "                   销售额          利润\n",
       "细分   类别                           \n",
       "公司   办公用品  1484595.924  226830.604\n",
       "     家具    1903622.756  230733.636\n",
       "     技术    1764574.616  224403.396\n",
       "小型企业 办公用品   837464.544  148528.604\n",
       "     家具    1042003.641  123404.281\n",
       "     技术    1011620.456  140545.776\n",
       "消费者  办公用品  2543529.324  382281.144\n",
       "     家具    2788714.432  284597.712\n",
       "     技术    2692828.432  386213.772"
      ]
     },
     "execution_count": 70,
     "metadata": {},
     "output_type": "execute_result"
    }
   ],
   "source": [
    "# 默认呈现方式\n",
    "order.groupby(['细分','类别'])['销售额','利润'].sum()"
   ]
  },
  {
   "cell_type": "code",
   "execution_count": 62,
   "metadata": {},
   "outputs": [
    {
     "name": "stderr",
     "output_type": "stream",
     "text": [
      "<ipython-input-62-27c961e69d08>:1: FutureWarning: Indexing with multiple keys (implicitly converted to a tuple of keys) will be deprecated, use a list instead.\n",
      "  order.groupby(['类别','细分'])['销售额','利润'].sum()\n"
     ]
    },
    {
     "data": {
      "text/html": [
       "<div>\n",
       "<style scoped>\n",
       "    .dataframe tbody tr th:only-of-type {\n",
       "        vertical-align: middle;\n",
       "    }\n",
       "\n",
       "    .dataframe tbody tr th {\n",
       "        vertical-align: top;\n",
       "    }\n",
       "\n",
       "    .dataframe thead th {\n",
       "        text-align: right;\n",
       "    }\n",
       "</style>\n",
       "<table border=\"1\" class=\"dataframe\">\n",
       "  <thead>\n",
       "    <tr style=\"text-align: right;\">\n",
       "      <th></th>\n",
       "      <th></th>\n",
       "      <th>销售额</th>\n",
       "      <th>利润</th>\n",
       "    </tr>\n",
       "    <tr>\n",
       "      <th>类别</th>\n",
       "      <th>细分</th>\n",
       "      <th></th>\n",
       "      <th></th>\n",
       "    </tr>\n",
       "  </thead>\n",
       "  <tbody>\n",
       "    <tr>\n",
       "      <th rowspan=\"3\" valign=\"top\">办公用品</th>\n",
       "      <th>公司</th>\n",
       "      <td>1484595.924</td>\n",
       "      <td>226830.604</td>\n",
       "    </tr>\n",
       "    <tr>\n",
       "      <th>小型企业</th>\n",
       "      <td>837464.544</td>\n",
       "      <td>148528.604</td>\n",
       "    </tr>\n",
       "    <tr>\n",
       "      <th>消费者</th>\n",
       "      <td>2543529.324</td>\n",
       "      <td>382281.144</td>\n",
       "    </tr>\n",
       "    <tr>\n",
       "      <th rowspan=\"3\" valign=\"top\">家具</th>\n",
       "      <th>公司</th>\n",
       "      <td>1903622.756</td>\n",
       "      <td>230733.636</td>\n",
       "    </tr>\n",
       "    <tr>\n",
       "      <th>小型企业</th>\n",
       "      <td>1042003.641</td>\n",
       "      <td>123404.281</td>\n",
       "    </tr>\n",
       "    <tr>\n",
       "      <th>消费者</th>\n",
       "      <td>2788714.432</td>\n",
       "      <td>284597.712</td>\n",
       "    </tr>\n",
       "    <tr>\n",
       "      <th rowspan=\"3\" valign=\"top\">技术</th>\n",
       "      <th>公司</th>\n",
       "      <td>1764574.616</td>\n",
       "      <td>224403.396</td>\n",
       "    </tr>\n",
       "    <tr>\n",
       "      <th>小型企业</th>\n",
       "      <td>1011620.456</td>\n",
       "      <td>140545.776</td>\n",
       "    </tr>\n",
       "    <tr>\n",
       "      <th>消费者</th>\n",
       "      <td>2692828.432</td>\n",
       "      <td>386213.772</td>\n",
       "    </tr>\n",
       "  </tbody>\n",
       "</table>\n",
       "</div>"
      ],
      "text/plain": [
       "                   销售额          利润\n",
       "类别   细分                           \n",
       "办公用品 公司    1484595.924  226830.604\n",
       "     小型企业   837464.544  148528.604\n",
       "     消费者   2543529.324  382281.144\n",
       "家具   公司    1903622.756  230733.636\n",
       "     小型企业  1042003.641  123404.281\n",
       "     消费者   2788714.432  284597.712\n",
       "技术   公司    1764574.616  224403.396\n",
       "     小型企业  1011620.456  140545.776\n",
       "     消费者   2692828.432  386213.772"
      ]
     },
     "execution_count": 62,
     "metadata": {},
     "output_type": "execute_result"
    }
   ],
   "source": [
    "order.groupby(['类别','细分'])['销售额','利润'].sum()"
   ]
  },
  {
   "cell_type": "code",
   "execution_count": 71,
   "metadata": {},
   "outputs": [
    {
     "name": "stderr",
     "output_type": "stream",
     "text": [
      "<ipython-input-71-6b37fba274c5>:2: FutureWarning: Indexing with multiple keys (implicitly converted to a tuple of keys) will be deprecated, use a list instead.\n",
      "  order.groupby(['细分','类别'])['销售额','利润'].sum().unstack()\n"
     ]
    },
    {
     "data": {
      "text/html": [
       "<div>\n",
       "<style scoped>\n",
       "    .dataframe tbody tr th:only-of-type {\n",
       "        vertical-align: middle;\n",
       "    }\n",
       "\n",
       "    .dataframe tbody tr th {\n",
       "        vertical-align: top;\n",
       "    }\n",
       "\n",
       "    .dataframe thead tr th {\n",
       "        text-align: left;\n",
       "    }\n",
       "\n",
       "    .dataframe thead tr:last-of-type th {\n",
       "        text-align: right;\n",
       "    }\n",
       "</style>\n",
       "<table border=\"1\" class=\"dataframe\">\n",
       "  <thead>\n",
       "    <tr>\n",
       "      <th></th>\n",
       "      <th colspan=\"3\" halign=\"left\">销售额</th>\n",
       "      <th colspan=\"3\" halign=\"left\">利润</th>\n",
       "    </tr>\n",
       "    <tr>\n",
       "      <th>类别</th>\n",
       "      <th>办公用品</th>\n",
       "      <th>家具</th>\n",
       "      <th>技术</th>\n",
       "      <th>办公用品</th>\n",
       "      <th>家具</th>\n",
       "      <th>技术</th>\n",
       "    </tr>\n",
       "    <tr>\n",
       "      <th>细分</th>\n",
       "      <th></th>\n",
       "      <th></th>\n",
       "      <th></th>\n",
       "      <th></th>\n",
       "      <th></th>\n",
       "      <th></th>\n",
       "    </tr>\n",
       "  </thead>\n",
       "  <tbody>\n",
       "    <tr>\n",
       "      <th>公司</th>\n",
       "      <td>1484595.924</td>\n",
       "      <td>1903622.756</td>\n",
       "      <td>1764574.616</td>\n",
       "      <td>226830.604</td>\n",
       "      <td>230733.636</td>\n",
       "      <td>224403.396</td>\n",
       "    </tr>\n",
       "    <tr>\n",
       "      <th>小型企业</th>\n",
       "      <td>837464.544</td>\n",
       "      <td>1042003.641</td>\n",
       "      <td>1011620.456</td>\n",
       "      <td>148528.604</td>\n",
       "      <td>123404.281</td>\n",
       "      <td>140545.776</td>\n",
       "    </tr>\n",
       "    <tr>\n",
       "      <th>消费者</th>\n",
       "      <td>2543529.324</td>\n",
       "      <td>2788714.432</td>\n",
       "      <td>2692828.432</td>\n",
       "      <td>382281.144</td>\n",
       "      <td>284597.712</td>\n",
       "      <td>386213.772</td>\n",
       "    </tr>\n",
       "  </tbody>\n",
       "</table>\n",
       "</div>"
      ],
      "text/plain": [
       "              销售额                                    利润              \\\n",
       "类别           办公用品           家具           技术        办公用品          家具   \n",
       "细分                                                                    \n",
       "公司    1484595.924  1903622.756  1764574.616  226830.604  230733.636   \n",
       "小型企业   837464.544  1042003.641  1011620.456  148528.604  123404.281   \n",
       "消费者   2543529.324  2788714.432  2692828.432  382281.144  284597.712   \n",
       "\n",
       "                  \n",
       "类别            技术  \n",
       "细分                \n",
       "公司    224403.396  \n",
       "小型企业  140545.776  \n",
       "消费者   386213.772  "
      ]
     },
     "execution_count": 71,
     "metadata": {},
     "output_type": "execute_result"
    }
   ],
   "source": [
    "# 以交叉表的形式呈现\n",
    "order.groupby(['细分','类别'])['销售额','利润'].sum().unstack()"
   ]
  },
  {
   "cell_type": "markdown",
   "metadata": {},
   "source": [
    "### 5 数据融合\n",
    "### 5.1 构造数据"
   ]
  },
  {
   "cell_type": "code",
   "execution_count": null,
   "metadata": {},
   "outputs": [],
   "source": [
    "raw_data01 = {'col_a':[1,2,3,4],\n",
    "              'col_b':list('abcd'),\n",
    "              'col_c':[True]*2+[False]*2}\n",
    "\n",
    "raw_data02 = {'ID':[1,3,4,5],\n",
    "              'col_b':['a','d','c','e']}\n",
    "\n",
    "df1 = pd.DataFrame(raw_data01)\n",
    "df2 = pd.DataFrame(raw_data02)"
   ]
  },
  {
   "cell_type": "code",
   "execution_count": null,
   "metadata": {},
   "outputs": [],
   "source": [
    "df1"
   ]
  },
  {
   "cell_type": "code",
   "execution_count": null,
   "metadata": {},
   "outputs": [],
   "source": [
    "df2"
   ]
  },
  {
   "cell_type": "markdown",
   "metadata": {},
   "source": [
    "### 5.2 直接进行连接"
   ]
  },
  {
   "cell_type": "code",
   "execution_count": null,
   "metadata": {},
   "outputs": [],
   "source": [
    "# 连接方式1\n",
    "pd.merge(df1,df2)"
   ]
  },
  {
   "cell_type": "code",
   "execution_count": null,
   "metadata": {},
   "outputs": [],
   "source": [
    "# 连接方式2\n",
    "df1.merge(df2)"
   ]
  },
  {
   "cell_type": "markdown",
   "metadata": {},
   "source": [
    "### 5.3 指定字段进行连接"
   ]
  },
  {
   "cell_type": "code",
   "execution_count": null,
   "metadata": {},
   "outputs": [],
   "source": [
    "# 根据能够进行匹配的一个字段进行连接\n",
    "pd.merge(df1,df2,left_on=['col_a'],right_on=['ID'])"
   ]
  },
  {
   "cell_type": "code",
   "execution_count": null,
   "metadata": {},
   "outputs": [],
   "source": [
    "# 根据能够进行匹配的多个字段进行连接\n",
    "pd.merge(df1,df2,left_on=['col_a','col_b'],right_on=['ID','col_b'])"
   ]
  },
  {
   "cell_type": "markdown",
   "metadata": {},
   "source": [
    "### 5.4 指定根据哪个表进行连接"
   ]
  },
  {
   "cell_type": "code",
   "execution_count": null,
   "metadata": {},
   "outputs": [],
   "source": [
    "# 左连接\n",
    "pd.merge(df1,df2,how = 'left')"
   ]
  },
  {
   "cell_type": "code",
   "execution_count": null,
   "metadata": {},
   "outputs": [],
   "source": [
    "# 换一种写法\n",
    "df1.merge(df2,how = 'right')"
   ]
  },
  {
   "cell_type": "code",
   "execution_count": null,
   "metadata": {},
   "outputs": [],
   "source": [
    "# 右连接\n",
    "pd.merge(df1,df2,how = 'right')"
   ]
  },
  {
   "cell_type": "code",
   "execution_count": null,
   "metadata": {},
   "outputs": [],
   "source": [
    "# 内连接\n",
    "pd.merge(df1,df2,how ='inner')"
   ]
  },
  {
   "cell_type": "code",
   "execution_count": null,
   "metadata": {},
   "outputs": [],
   "source": [
    "# 外连接\n",
    "pd.merge(df1,df2,how = 'outer')"
   ]
  },
  {
   "cell_type": "markdown",
   "metadata": {},
   "source": [
    "### 6 案例：分析每个地区经理负责的区域退货订单数量\n",
    "### 6.1 导入需要进行融合的数据集"
   ]
  },
  {
   "cell_type": "code",
   "execution_count": null,
   "metadata": {},
   "outputs": [],
   "source": [
    "order = pd.read_excel('./super_store.xls',sheet_name='订单')\n",
    "returns = pd.read_excel('./super_store.xls',sheet_name='退货')\n",
    "salers = pd.read_excel('./super_store.xls',sheet_name='销售人员')"
   ]
  },
  {
   "cell_type": "markdown",
   "metadata": {},
   "source": [
    "### 6.2 分别查看这几个数据集的格式"
   ]
  },
  {
   "cell_type": "code",
   "execution_count": null,
   "metadata": {},
   "outputs": [],
   "source": [
    "order.head(2)"
   ]
  },
  {
   "cell_type": "code",
   "execution_count": null,
   "metadata": {},
   "outputs": [],
   "source": [
    "returns.head()"
   ]
  },
  {
   "cell_type": "code",
   "execution_count": null,
   "metadata": {},
   "outputs": [],
   "source": [
    "salers.head()"
   ]
  },
  {
   "cell_type": "markdown",
   "metadata": {},
   "source": [
    "### 6.3 统计订单数量与销售的商品数量"
   ]
  },
  {
   "cell_type": "code",
   "execution_count": null,
   "metadata": {},
   "outputs": [],
   "source": [
    "# 商品数量\n",
    "len(order)"
   ]
  },
  {
   "cell_type": "code",
   "execution_count": null,
   "metadata": {},
   "outputs": [],
   "source": [
    "# 订单数量（一个订单对应多个商品）\n",
    "len(order['订单 ID'].unique())"
   ]
  },
  {
   "cell_type": "code",
   "execution_count": null,
   "metadata": {},
   "outputs": [],
   "source": [
    "# 查看是否有一个订单送往多个地区的情形\n",
    "len(order[['地区','订单 ID']].drop_duplicates())"
   ]
  },
  {
   "cell_type": "markdown",
   "metadata": {},
   "source": [
    "### 6.4 按照地区对订单ID进行去重"
   ]
  },
  {
   "cell_type": "code",
   "execution_count": null,
   "metadata": {},
   "outputs": [],
   "source": [
    "# 去重后的结果保存在distinct_order中\n",
    "distinct_order = order[['地区','订单 ID']].drop_duplicates()\n",
    "distinct_order.count()"
   ]
  },
  {
   "cell_type": "code",
   "execution_count": null,
   "metadata": {},
   "outputs": [],
   "source": [
    "distinct_order.head(2)"
   ]
  },
  {
   "cell_type": "markdown",
   "metadata": {},
   "source": [
    "### 6.5 将退货记录表和独立订单ID表进行融合,这样就将退货的订单ID与地区进行了关联"
   ]
  },
  {
   "cell_type": "code",
   "execution_count": null,
   "metadata": {},
   "outputs": [],
   "source": [
    "# 融合后的结果保存在return_ID中\n",
    "returns_ID = pd.merge(returns,distinct_order,how = 'left',on = ['订单 ID'])"
   ]
  },
  {
   "cell_type": "code",
   "execution_count": null,
   "metadata": {},
   "outputs": [],
   "source": [
    "returns_ID.head(2)"
   ]
  },
  {
   "cell_type": "markdown",
   "metadata": {},
   "source": [
    "### 6.6 将地区与销售经理进行关联,这样就能够知道每一个具体的退货订单对应的销售经理"
   ]
  },
  {
   "cell_type": "code",
   "execution_count": null,
   "metadata": {},
   "outputs": [],
   "source": [
    "pd.merge(returns_ID,salers,how ='left',on ='地区').head()"
   ]
  },
  {
   "cell_type": "code",
   "execution_count": null,
   "metadata": {},
   "outputs": [],
   "source": [
    "# 不同销售经理笔下的退货订单数量\n",
    "pd.merge(returns_ID,salers,how ='left',on ='地区').groupby('地区经理')['订单 ID'].count()"
   ]
  },
  {
   "cell_type": "markdown",
   "metadata": {},
   "source": [
    "### 6.7 也可以直接先将3个表进行连接,之后再统计独立订单数量"
   ]
  },
  {
   "cell_type": "code",
   "execution_count": null,
   "metadata": {},
   "outputs": [],
   "source": [
    "# 连接order表和returns表\n",
    "# 再连接sales表\n",
    "# 提取两个字段 ['地区经理','订单 ID'],并去除重复记录\n",
    "# 分组汇总\n",
    "\n",
    "order.merge(returns,how='right',on='订单 ID')\\\n",
    "     .merge(salers,how='left',on='地区')\\\n",
    "     [['地区经理','订单 ID']].drop_duplicates()\\\n",
    "     .groupby('地区经理').count()"
   ]
  }
 ],
 "metadata": {
  "kernelspec": {
   "display_name": "Python 3",
   "language": "python",
   "name": "python3"
  },
  "language_info": {
   "codemirror_mode": {
    "name": "ipython",
    "version": 3
   },
   "file_extension": ".py",
   "mimetype": "text/x-python",
   "name": "python",
   "nbconvert_exporter": "python",
   "pygments_lexer": "ipython3",
   "version": "3.8.5"
  }
 },
 "nbformat": 4,
 "nbformat_minor": 4
}
